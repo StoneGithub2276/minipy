{
 "cells": [
  {
   "cell_type": "markdown",
   "metadata": {},
   "source": [
    "# Bonus"
   ]
  },
  {
   "cell_type": "markdown",
   "metadata": {},
   "source": [
    "Suppose we have thousands of files with US-style dates in their files names `(MM-DD-YYYY)` and we want to rename to EU-style dates `(DD-MM-YYYY)`. This task can take all day to do by hand...and boring! We can write a program to do it instead."
   ]
  },
  {
   "cell_type": "markdown",
   "metadata": {},
   "source": [
    "### Regular Expression -- The nuke to manipulate strings/text"
   ]
  },
  {
   "cell_type": "markdown",
   "metadata": {},
   "source": [
    "### A small Python script to rename files"
   ]
  },
  {
   "cell_type": "code",
   "execution_count": 2,
   "metadata": {},
   "outputs": [],
   "source": [
    "import shutil, os, re"
   ]
  },
  {
   "cell_type": "code",
   "execution_count": 3,
   "metadata": {},
   "outputs": [],
   "source": [
    "target_dir = \"/Users/jin/JupyterProjects/acf701/us_to_eu/\""
   ]
  },
  {
   "cell_type": "markdown",
   "metadata": {},
   "source": [
    "#### Let's have a look what's inside our target folder"
   ]
  },
  {
   "cell_type": "code",
   "execution_count": 4,
   "metadata": {},
   "outputs": [
    {
     "name": "stdout",
     "output_type": "stream",
     "text": [
      ".DS_Store\n",
      "27-04-2018.txt\n",
      "accounting26-04-2018.txt\n",
      "accounting26-04-2018copy.txt\n",
      "accounting27-04-2018.txt\n",
      "dont_rename_me.txt\n",
      "finance26-04-2018.csv\n",
      "lancaster26-04-2018.txt\n"
     ]
    }
   ],
   "source": [
    "for f in os.listdir(target_dir):\n",
    "    print(f)"
   ]
  },
  {
   "cell_type": "markdown",
   "metadata": {},
   "source": [
    "#### Step 1 create a regex that matches files name with US data format"
   ]
  },
  {
   "cell_type": "code",
   "execution_count": 5,
   "metadata": {},
   "outputs": [],
   "source": [
    "# regex pattern\n",
    "usPattern = re.compile(r\"\"\"^(.*?)((0|1)?\\d)-((0|1|2|3)?\\d)-((19|20)\\d\\d)(.*?)$\"\"\", re.VERBOSE)"
   ]
  },
  {
   "cell_type": "markdown",
   "metadata": {},
   "source": [
    "- `^(.*?)`: any text before the date, `^`: start of the text\n",
    "- `((0|1)?\\d)`: one or two digits for the month, 0 is optional, `\\d` refers to any one digit number from 0 to 9\n",
    "- `((0|1|2|3)?\\d)`: one or two digits for the day, 0 is optional\n",
    "- `((19|20)\\d\\d)`: four digits for the year, 19 or 20 is optional\n",
    "- `(.*?)$`: any text after the date, `$`: end of the text"
   ]
  },
  {
   "cell_type": "markdown",
   "metadata": {},
   "source": [
    "#### Step 2 collect date information from original filename\n",
    "#### Step 3 rename all files"
   ]
  },
  {
   "cell_type": "code",
   "execution_count": 7,
   "metadata": {},
   "outputs": [
    {
     "name": "stdout",
     "output_type": "stream",
     "text": [
      "*WARNING*: filename is not matched\n",
      "renaming 204-7-2018.txt to 27-04-2018.txt...\n",
      "renaming accounting204-6-2018.txt to accounting26-04-2018.txt...\n",
      "renaming accounting204-6-2018copy.txt to accounting26-04-2018copy.txt...\n",
      "renaming accounting204-7-2018.txt to accounting27-04-2018.txt...\n",
      "*WARNING*: filename is not matched\n",
      "renaming finance204-6-2018.csv to finance26-04-2018.csv...\n",
      "renaming lancaster204-6-2018.txt to lancaster26-04-2018.txt...\n"
     ]
    }
   ],
   "source": [
    "# loop through all files under a target folder\n",
    "for usFilename in os.listdir(target_dir):\n",
    "    # local variable for each file\n",
    "    dateInfo = usPattern.search(usFilename)\n",
    "    # skip files without a date\n",
    "    if dateInfo == None:\n",
    "        print(\"*WARNING*: filename is not matched\")\n",
    "        continue\n",
    "    # collect different parts of the filename\n",
    "    beforePart = dateInfo.group(1) # (.*?)\n",
    "    monthPart  = dateInfo.group(2) # the whole group ((0|1)?\\d)\n",
    "    dayPart    = dateInfo.group(4) # the whole group ((0|1|2|3)?\\d)\n",
    "    yearPart   = dateInfo.group(6) # the whole group ((19|20)\\d\\d)\n",
    "    afterPart  = dateInfo.group(8) # (.*?)\n",
    "    \n",
    "    # construct EU-style date filename\n",
    "    euFilename = beforePart + dayPart + '-' + monthPart + '-' + yearPart + afterPart\n",
    "    \n",
    "    # contruct full path for each file: location + filename\n",
    "    usFilepath = os.path.join(target_dir, usFilename)\n",
    "    euFilepath = os.path.join(target_dir, euFilename)\n",
    "    \n",
    "    # rename files\n",
    "    print(\"renaming {} to {}...\".format(usFilename, euFilename))\n",
    "    shutil.move(usFilepath, euFilepath)"
   ]
  },
  {
   "cell_type": "markdown",
   "metadata": {},
   "source": [
    "### Can you improve this script to rename all files under a directory tree? Hint: use `os.walk()` function?"
   ]
  }
 ],
 "metadata": {
  "kernelspec": {
   "display_name": "Python 3",
   "language": "python",
   "name": "python3"
  },
  "language_info": {
   "codemirror_mode": {
    "name": "ipython",
    "version": 2
   },
   "file_extension": ".py",
   "mimetype": "text/x-python",
   "name": "python",
   "nbconvert_exporter": "python",
   "pygments_lexer": "ipython2",
   "version": "2.7.14"
  }
 },
 "nbformat": 4,
 "nbformat_minor": 2
}
