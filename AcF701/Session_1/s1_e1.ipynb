{
 "cells": [
  {
   "cell_type": "markdown",
   "metadata": {},
   "source": [
    "# 1. Jupyter Notebook Basics"
   ]
  },
  {
   "cell_type": "markdown",
   "metadata": {},
   "source": [
    "### User Interface"
   ]
  },
  {
   "cell_type": "markdown",
   "metadata": {},
   "source": [
    "- a brief introduction to Jupyter Notebook\n",
    "- a quick tour on Jupyter Notebook toolbar and basic UI"
   ]
  },
  {
   "cell_type": "markdown",
   "metadata": {},
   "source": [
    "### Code Cells vs. Text Cells\n",
    "Python will try to interpret codes sent from **code cells** `In [ ]` and return results in `Out [ ]`\n",
    "\n",
    "- `[*]` means Python is running to execute the codes in the cell\n",
    "- `[1]` indicates that codes have been executed and results have been returned"
   ]
  },
  {
   "cell_type": "markdown",
   "metadata": {},
   "source": [
    "### ===== Your first Python statement! ====="
   ]
  },
  {
   "cell_type": "code",
   "execution_count": null,
   "metadata": {},
   "outputs": [],
   "source": [
    "print(\"Hello World!\") # this is in a code cell"
   ]
  },
  {
   "cell_type": "markdown",
   "metadata": {},
   "source": [
    "Jupyter will read raw text in **Markdown cells** and return formated text"
   ]
  },
  {
   "cell_type": "code",
   "execution_count": null,
   "metadata": {},
   "outputs": [],
   "source": [
    "print(\"Hello World!\") # this is in a markdown cell"
   ]
  },
  {
   "cell_type": "markdown",
   "metadata": {},
   "source": [
    "#### Markdown basics"
   ]
  },
  {
   "cell_type": "markdown",
   "metadata": {},
   "source": [
    "- `#`: create a level 1 heading\n",
    "- `##`: create a level 2 heading\n",
    "- `-`: create a bullet point\n",
    "- `1.`: or a number for ordered list\n",
    "- `*`: different editing format, such as **bold**, *italics*, ~~strikethrough~~\n",
    "- \\`: back-ticks for code highlighting, or \\`\\`\\` for block codes\n",
    "- or even table:"
   ]
  },
  {
   "cell_type": "markdown",
   "metadata": {},
   "source": [
    "| Tables        | Are           | Cool  |\n",
    "| ------------- | ------------- | ----- |\n",
    "| Macbook       | ridiculous    |\\$1600 |\n",
    "| UniRider      | expensive     |   \\$3 |\n"
   ]
  },
  {
   "cell_type": "markdown",
   "metadata": {},
   "source": [
    "### Command Mode and Edit Mode\n",
    "Jupyter Notebook has two major `modes` we can operate on. **Command Mode** is for navigation, execution, formating and so on; **Edit Mode** of course if for entering codes and text\n",
    "- `ESC` to active `Command Mode` (blue bar)\n",
    "- `Enter` to active `Edit Mode` (green bar)"
   ]
  },
  {
   "cell_type": "markdown",
   "metadata": {},
   "source": [
    "### Keyboard shortcuts"
   ]
  },
  {
   "cell_type": "markdown",
   "metadata": {},
   "source": [
    "#### Navigation (Vim style)\n",
    "Programmers are lazy, we want to keep our fingers on `home row` as much as possible. Vim is an extremely efficient editor for editing and programming, for instance:\n",
    "- `j`: move 1 block down\n",
    "- `k`: move 1 block up"
   ]
  },
  {
   "cell_type": "markdown",
   "metadata": {},
   "source": [
    "#### Execution/Run\n",
    "- `Enter`: return to next new line in `Edit Mode`\n",
    "- `Shift`+`Enter`: execute a block"
   ]
  },
  {
   "cell_type": "markdown",
   "metadata": {},
   "source": [
    "#### Cell Block in Command Mode\n",
    "- `a`: create a new cell block *above*\n",
    "- `b`: create a new cell block *below*\n",
    "- `y`: switch to *code* cell block\n",
    "- `m`: switch to *markdown* cell block\n",
    "- `x`: cut a block\n",
    "- `c`: copy a block\n",
    "- `v`: paste a block\n",
    "- `dd`: delete a block"
   ]
  },
  {
   "cell_type": "markdown",
   "metadata": {},
   "source": [
    "#### Unix-like Editing shortcuts in Edit Mode\n",
    "In Edit Mode (similar to what we would do in MS Word), we often find that we need to use mouse and sometimes it can be really annoying switching between keyboard and mouse. `Unix/Terminal/Emacs` shortcuts come to rescue! For instance:"
   ]
  },
  {
   "cell_type": "markdown",
   "metadata": {},
   "source": [
    "- `Ctrl-a`: move cursor to the beginning of the line\n",
    "- `Ctrl-e`: move cursor to the end of the line\n",
    "- `Ctrl-b`: move cursor backward by one character\n",
    "- `Ctrl-f`: move cursor forward by one character\n",
    "- `Ctrl-n`: move cursor to next line\n",
    "- `Ctrl-p`: move cursor to previous line\n",
    "\n",
    "Try out the above keyboard shortcuts which should be universal in command line tool/shell/terminal across operating systems such as linux and macOS"
   ]
  },
  {
   "cell_type": "markdown",
   "metadata": {},
   "source": [
    "\"This is a long sentence, try out the above editing shortcuts!\"\n",
    "\"You can now mouse-free!\""
   ]
  },
  {
   "cell_type": "markdown",
   "metadata": {},
   "source": [
    "#### Auto-Complete\n",
    "When writing a programming script, mostly we will find that we repeatedly type the same commands; or sometimes we simply forget the command. The built-in auto-complete features can be really helpful"
   ]
  },
  {
   "cell_type": "markdown",
   "metadata": {},
   "source": [
    "- `tab`: auto complete for commands, built-in fucntions, stored objects. Python will provide a list of best guesses for what you might want to type next.\n",
    "- `(`, `[`, `{`, and `\"`, `'`: Jupyter will provide the closing parens and quote\n",
    "\n",
    "Now try out the basic function print:\n",
    "+ type `pr` and press `tab`;\n",
    "+ type `pri` and press `tab` (hint: use `Ctrl-n` to select from the list);\n",
    "+ type `(` after print"
   ]
  },
  {
   "cell_type": "code",
   "execution_count": null,
   "metadata": {},
   "outputs": [],
   "source": [
    "# print hello world\n"
   ]
  },
  {
   "cell_type": "markdown",
   "metadata": {},
   "source": [
    "# 2. Python Language Basics"
   ]
  },
  {
   "cell_type": "markdown",
   "metadata": {},
   "source": [
    "### Code Comments (in code cell)"
   ]
  },
  {
   "cell_type": "markdown",
   "metadata": {},
   "source": [
    "Any text preceded by the hash mark `#` is ignored by Python. This is often used to add comments, notes to codes; or comment out codes"
   ]
  },
  {
   "cell_type": "code",
   "execution_count": null,
   "metadata": {},
   "outputs": [],
   "source": [
    "# This is comment\n",
    "x = \"AcF701\" # this is another comment"
   ]
  },
  {
   "cell_type": "markdown",
   "metadata": {},
   "source": [
    "### Indentation"
   ]
  },
  {
   "cell_type": "markdown",
   "metadata": {},
   "source": [
    "Python uses whitespace (tabs or spaces) to structure codes. Consider the following `for` loop:"
   ]
  },
  {
   "cell_type": "code",
   "execution_count": null,
   "metadata": {
    "scrolled": true
   },
   "outputs": [],
   "source": [
    "for x in range(10): # a colon denotes the start of an indented block\n",
    "    if x < 5: # Jupyter automatically indent by four spaces\n",
    "        print(x)\n",
    "    else:\n",
    "        pass # do nothing"
   ]
  },
  {
   "cell_type": "markdown",
   "metadata": {},
   "source": [
    "This statement won't work if we mess up with indentations, for example:"
   ]
  },
  {
   "cell_type": "code",
   "execution_count": null,
   "metadata": {},
   "outputs": [],
   "source": [
    "for x in range(10):\n",
    "if x < 5:\n",
    "print(x)\n",
    "else:\n",
    "pass"
   ]
  },
  {
   "cell_type": "markdown",
   "metadata": {},
   "source": [
    "### Everything is an object"
   ]
  },
  {
   "cell_type": "markdown",
   "metadata": {},
   "source": [
    "Think of an object as a **\"box\"** which is used by Python to store numbers, strings, functions, class, module, packages and so on. For instance:"
   ]
  },
  {
   "cell_type": "code",
   "execution_count": null,
   "metadata": {},
   "outputs": [],
   "source": [
    "box = 1\n",
    "print(box, type(box))\n",
    "\n",
    "box = 5.555\n",
    "print(box, type(box))\n",
    "\n",
    "box = int(box)\n",
    "print(box, type(box))"
   ]
  },
  {
   "cell_type": "markdown",
   "metadata": {},
   "source": [
    "### Naming Conventions"
   ]
  },
  {
   "cell_type": "markdown",
   "metadata": {},
   "source": [
    "We need first to avoid define an object with the name identical to a Python built-in object; second, object name should be easy to understand, indicating what does it do. Here are two recommended styles."
   ]
  },
  {
   "cell_type": "markdown",
   "metadata": {},
   "source": [
    "- Camel Case: `myInterestingVariables`\n",
    "- Snake Case: `my_interesting_variables` <= recommended by Offical Python Guide"
   ]
  },
  {
   "cell_type": "markdown",
   "metadata": {},
   "source": [
    "### Data Types\n",
    "The basic data types that we will cover in this section are `integers, floating point numbers, strings, and booleans.`"
   ]
  },
  {
   "cell_type": "markdown",
   "metadata": {},
   "source": [
    "#### Integer\n",
    "An integer in programming is the same as in mathematics, a round number with no values after the decimal point.\n",
    "\n",
    "First, let's assign a variable an integer using a single equal sign `=`:"
   ]
  },
  {
   "cell_type": "code",
   "execution_count": null,
   "metadata": {},
   "outputs": [],
   "source": [
    "my_int = 5\n",
    "type(my_int)"
   ]
  },
  {
   "cell_type": "markdown",
   "metadata": {},
   "source": [
    "#### Floats"
   ]
  },
  {
   "cell_type": "markdown",
   "metadata": {},
   "source": [
    "A floating point number, or a float is a real number (again as in mathematics). To define a float, we need to either include a decimal point or we can specify that the value is a float."
   ]
  },
  {
   "cell_type": "code",
   "execution_count": null,
   "metadata": {},
   "outputs": [],
   "source": [
    "my_float = 0.05\n",
    "type(my_float)"
   ]
  },
  {
   "cell_type": "code",
   "execution_count": null,
   "metadata": {},
   "outputs": [],
   "source": [
    "another_float = float(my_int)\n",
    "print(another_float)\n",
    "type(another_float)"
   ]
  },
  {
   "cell_type": "markdown",
   "metadata": {},
   "source": [
    "Similarly, we can use `int()` function to define the value as an integer"
   ]
  },
  {
   "cell_type": "code",
   "execution_count": null,
   "metadata": {},
   "outputs": [],
   "source": [
    "another_int = int(my_float)\n",
    "print(another_int)\n",
    "type(another_int)"
   ]
  },
  {
   "cell_type": "markdown",
   "metadata": {},
   "source": [
    "#### Strings"
   ]
  },
  {
   "cell_type": "markdown",
   "metadata": {},
   "source": [
    "Strings are the most common data types we can come across. They are just raw text; but in Python we need to define strings using either single quotes `'` or double quotes `\"`"
   ]
  },
  {
   "cell_type": "code",
   "execution_count": null,
   "metadata": {},
   "outputs": [],
   "source": [
    "my_str = 'This is a string using single quotes'\n",
    "another_str = \"This is another string using double quotes\"\n",
    "print(my_str, type(my_str))"
   ]
  },
  {
   "cell_type": "markdown",
   "metadata": {},
   "source": [
    "Without quotes, what we type in cell block will be interpreted as objects, such as variables, functions, and so on and errors will occur, for instance:"
   ]
  },
  {
   "cell_type": "code",
   "execution_count": null,
   "metadata": {
    "scrolled": true
   },
   "outputs": [],
   "source": [
    "wrong_str = hello"
   ]
  },
  {
   "cell_type": "markdown",
   "metadata": {},
   "source": [
    "Often when we need to import data from plain text files such as CSV, numerical data can be interpreted as strings. Thus we also needs to covert strings to numerical values"
   ]
  },
  {
   "cell_type": "code",
   "execution_count": null,
   "metadata": {},
   "outputs": [],
   "source": [
    "# not that useful variable\n",
    "wrong_data = '100'\n",
    "wrong_data + 10"
   ]
  },
  {
   "cell_type": "code",
   "execution_count": null,
   "metadata": {},
   "outputs": [],
   "source": [
    "# to be able to do mathematical operations, we need to convert strings to numbers...\n",
    "right_data = float(wrong_data)\n",
    "\n",
    "print(right_data, type(right_data))"
   ]
  },
  {
   "cell_type": "markdown",
   "metadata": {},
   "source": [
    "#### Booleans"
   ]
  },
  {
   "cell_type": "markdown",
   "metadata": {},
   "source": [
    "Last but not the least, we have a special data type called `boolean`, which is essentially `True` or `False`. This is particularly important type of data in all the programming language. Logical statements are based on boolean conditions, such as if something is `True` then do something"
   ]
  },
  {
   "cell_type": "code",
   "execution_count": null,
   "metadata": {
    "scrolled": true
   },
   "outputs": [],
   "source": [
    "my_bool = False # True & False are special kinds of data\n",
    "print(my_bool, type(my_bool))"
   ]
  },
  {
   "cell_type": "markdown",
   "metadata": {},
   "source": [
    "NOTE: booleans have to be `True` with `T` or `False` with `F`, or you will name error"
   ]
  },
  {
   "cell_type": "code",
   "execution_count": null,
   "metadata": {},
   "outputs": [],
   "source": [
    "another_bool = false"
   ]
  },
  {
   "cell_type": "markdown",
   "metadata": {},
   "source": [
    "### Basic Math"
   ]
  },
  {
   "cell_type": "markdown",
   "metadata": {},
   "source": [
    "Python has a number of built-in basic math functions. These can be further extended by importing the `math` package or including other third-party packages such numpy and pandas which we will cover later.(\n",
    "\n",
    "All the basic arithmetic operations are supported:"
   ]
  },
  {
   "cell_type": "code",
   "execution_count": null,
   "metadata": {},
   "outputs": [],
   "source": [
    "addition = 3 + 2\n",
    "print(addition)\n",
    "\n",
    "subtraction = 3 - 2\n",
    "print(subtraction)\n",
    "\n",
    "multiplication = 3 * 2\n",
    "print(multiplication)\n",
    "\n",
    "division = 3 / 2\n",
    "print(division)\n",
    "\n",
    "power = 3 ** 2\n",
    "print(power)"
   ]
  },
  {
   "cell_type": "markdown",
   "metadata": {},
   "source": [
    "Mathematical operators can also work on variables"
   ]
  },
  {
   "cell_type": "code",
   "execution_count": null,
   "metadata": {},
   "outputs": [],
   "source": [
    "x = 3\n",
    "y = 2\n",
    "x + y"
   ]
  },
  {
   "cell_type": "markdown",
   "metadata": {},
   "source": [
    "Make sure the variables are floats if we want our answer to be float (with decimal points)."
   ]
  },
  {
   "cell_type": "code",
   "execution_count": null,
   "metadata": {},
   "outputs": [],
   "source": [
    "x_float = 3.0\n",
    "y_float = 2.0\n",
    "x_float / y_float"
   ]
  },
  {
   "cell_type": "markdown",
   "metadata": {},
   "source": [
    "otherwise, if inputs are integers, we will get integer."
   ]
  },
  {
   "cell_type": "code",
   "execution_count": null,
   "metadata": {},
   "outputs": [],
   "source": [
    "x_int = 3\n",
    "y_int = 2\n",
    "x_int / y_int"
   ]
  },
  {
   "cell_type": "markdown",
   "metadata": {},
   "source": [
    "#### Examples of Python built-in math functions"
   ]
  },
  {
   "cell_type": "markdown",
   "metadata": {},
   "source": [
    "Calling `abs()` on a number will return its absolute value. The `round()` function will round a number to a specified number of the decimal points (the default is **0**)."
   ]
  },
  {
   "cell_type": "code",
   "execution_count": null,
   "metadata": {},
   "outputs": [],
   "source": [
    "x = -0.04\n",
    "print(abs(x))\n",
    "\n",
    "# the 2th argument is for how many decimals you need for the results\n",
    "print(round(x), round(x, 2)) "
   ]
  },
  {
   "cell_type": "markdown",
   "metadata": {},
   "source": [
    "#### Built-in math package"
   ]
  },
  {
   "cell_type": "code",
   "execution_count": null,
   "metadata": {},
   "outputs": [],
   "source": [
    "import math\n",
    "\n",
    "pi = math.pi\n",
    "print(pi, math.cos(pi))"
   ]
  },
  {
   "cell_type": "markdown",
   "metadata": {},
   "source": [
    "### ===== Your first Python program! ====="
   ]
  },
  {
   "cell_type": "markdown",
   "metadata": {},
   "source": [
    "`input()` function: read user's input\n"
   ]
  },
  {
   "cell_type": "code",
   "execution_count": null,
   "metadata": {},
   "outputs": [],
   "source": [
    "# create a variable store name\n",
    "# input will return whatever input by user.\n",
    "my_name = input()"
   ]
  },
  {
   "cell_type": "code",
   "execution_count": null,
   "metadata": {},
   "outputs": [],
   "source": [
    "print(\"Hello, \" + my_name)"
   ]
  },
  {
   "cell_type": "code",
   "execution_count": null,
   "metadata": {},
   "outputs": [],
   "source": [
    "my_age = input()"
   ]
  },
  {
   "cell_type": "code",
   "execution_count": null,
   "metadata": {},
   "outputs": [],
   "source": [
    "print(\"I am \" + my_age + \" years old.\")"
   ]
  },
  {
   "cell_type": "code",
   "execution_count": null,
   "metadata": {},
   "outputs": [],
   "source": [
    "print(type(my_name), type(my_age))"
   ]
  },
  {
   "cell_type": "markdown",
   "metadata": {},
   "source": [
    "To be able to print out the sentence, we can:\n",
    "- convert my_age to string\n",
    "- or use `format` method"
   ]
  },
  {
   "cell_type": "code",
   "execution_count": null,
   "metadata": {},
   "outputs": [],
   "source": [
    "print(\"I am \" + str(my_age) + \" years old.\")"
   ]
  },
  {
   "cell_type": "code",
   "execution_count": null,
   "metadata": {
    "scrolled": true
   },
   "outputs": [],
   "source": [
    "print(\"I am {} years old\".format(my_age))"
   ]
  },
  {
   "cell_type": "markdown",
   "metadata": {},
   "source": [
    "Put all together, our simple program is:"
   ]
  },
  {
   "cell_type": "code",
   "execution_count": null,
   "metadata": {},
   "outputs": [],
   "source": [
    "print(\"What's your name?\")\n",
    "my_name = raw_input()\n",
    "print(\"What's your age?\")\n",
    "my_age = raw_input()\n",
    "print(\"Hello, my name is {} and I am {} years old!\".format(my_name, my_age))"
   ]
  }
 ],
 "metadata": {
  "kernelspec": {
   "display_name": "Python 3",
   "language": "python",
   "name": "python3"
  },
  "language_info": {
   "codemirror_mode": {
    "name": "ipython",
    "version": 2
   },
   "file_extension": ".py",
   "mimetype": "text/x-python",
   "name": "python",
   "nbconvert_exporter": "python",
   "pygments_lexer": "ipython2",
   "version": "2.7.14"
  }
 },
 "nbformat": 4,
 "nbformat_minor": 2
}
