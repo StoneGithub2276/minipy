{
 "cells": [
  {
   "cell_type": "markdown",
   "metadata": {
    "slideshow": {
     "slide_type": "slide"
    }
   },
   "source": [
    "# Fama-French Risk Factors SML & HML\n",
    "by Dr Liang Jin\n",
    "\n",
    "Part of AcF701 Python Sessions: [github.com/drliangjin/mini-python-book](https://github.com/drliangjin/mini-python-book)\n",
    "\n",
    "Based on the Python example on WRDS by Qingyi Song Drechsler: [Fama-French Factors (Python)](https://wrds-www.wharton.upenn.edu/pages/support/applications/risk-factors-and-industry-benchmarks/fama-french-factors-python/)"
   ]
  },
  {
   "cell_type": "markdown",
   "metadata": {
    "slideshow": {
     "slide_type": "slide"
    }
   },
   "source": [
    "### Import external packages"
   ]
  },
  {
   "cell_type": "code",
   "execution_count": 1,
   "metadata": {
    "slideshow": {
     "slide_type": "fragment"
    }
   },
   "outputs": [
    {
     "name": "stderr",
     "output_type": "stream",
     "text": [
      "/Users/jin/miniconda3/lib/python3.6/site-packages/psycopg2/__init__.py:144: UserWarning: The psycopg2 wheel package will be renamed from release 2.8; in order to keep installing from binary please use \"pip install psycopg2-binary\" instead. For details see: <http://initd.org/psycopg/docs/install.html#binary-install-from-pypi>.\n",
      "  \"\"\")\n"
     ]
    }
   ],
   "source": [
    "import pandas as pd\n",
    "import numpy as np\n",
    "import datetime as dt\n",
    "import wrds\n",
    "import psycopg2 \n",
    "import matplotlib.pyplot as plt\n",
    "from dateutil.relativedelta import *\n",
    "from pandas.tseries.offsets import *\n",
    "from scipy import stats"
   ]
  },
  {
   "cell_type": "markdown",
   "metadata": {
    "slideshow": {
     "slide_type": "slide"
    }
   },
   "source": [
    "### Connect to WRDS"
   ]
  },
  {
   "cell_type": "code",
   "execution_count": null,
   "metadata": {
    "slideshow": {
     "slide_type": "fragment"
    }
   },
   "outputs": [],
   "source": [
    "# explictly assign username as a string and store in a variable\n",
    "my_wrds_username = \"your_username\" # <= change to your username\n",
    "\n",
    "# WRDS Connection\n",
    "conn = wrds.Connection(wrds_username=my_wrds_username)"
   ]
  },
  {
   "cell_type": "markdown",
   "metadata": {
    "slideshow": {
     "slide_type": "slide"
    }
   },
   "source": [
    "### Retrieving Compustat Data"
   ]
  },
  {
   "cell_type": "code",
   "execution_count": null,
   "metadata": {
    "slideshow": {
     "slide_type": "fragment"
    }
   },
   "outputs": [],
   "source": [
    "# Postgres Query\n",
    "stmt = \"\"\"\n",
    "          SELECT gvkey, datadate, at, pstkl, txditc, pstkrv, seq, pstk\n",
    "          FROM comp.funda\n",
    "          WHERE indfmt='INDL' \n",
    "          AND datafmt='STD'\n",
    "          AND popsrc='D'\n",
    "          AND consol='C'\n",
    "          AND datadate >= '01/01/1959'\n",
    "       \"\"\"\n",
    "comp = conn.raw_sql(stmt)"
   ]
  },
  {
   "cell_type": "code",
   "execution_count": null,
   "metadata": {
    "slideshow": {
     "slide_type": "subslide"
    }
   },
   "outputs": [],
   "source": [
    "# basic info on the data\n",
    "comp.info()\n",
    "\n",
    "# a closer look at the data\n",
    "comp.describe()\n",
    "\n",
    "# head and tail\n",
    "comp.head()"
   ]
  },
  {
   "cell_type": "markdown",
   "metadata": {
    "slideshow": {
     "slide_type": "slide"
    }
   },
   "source": [
    "### Work on Compustat Data"
   ]
  },
  {
   "cell_type": "code",
   "execution_count": null,
   "metadata": {
    "slideshow": {
     "slide_type": "fragment"
    }
   },
   "outputs": [],
   "source": [
    "# set date and time to the standard format recognised by Pandas and other packages\n",
    "comp['datadate']=pd.to_datetime(comp['datadate'])\n",
    "\n",
    "# create a new variable for year\n",
    "comp['year']=comp['datadate'].dt.year"
   ]
  },
  {
   "cell_type": "code",
   "execution_count": null,
   "metadata": {
    "slideshow": {
     "slide_type": "subslide"
    }
   },
   "outputs": [],
   "source": [
    "# check data type\n",
    "comp['datadate'].dtype(), comp['year'].dtype()\n",
    "\n",
    "#\n",
    "comp.head()"
   ]
  },
  {
   "cell_type": "markdown",
   "metadata": {
    "slideshow": {
     "slide_type": "slide"
    }
   },
   "source": [
    "### Deal with prefered stock"
   ]
  },
  {
   "cell_type": "code",
   "execution_count": null,
   "metadata": {
    "slideshow": {
     "slide_type": "fragment"
    }
   },
   "outputs": [],
   "source": [
    "# if pstkrv is missing, then use pstkl\n",
    "comp['ps']=np.where(comp['pstkrv'].isnull(), comp['pstkl'], comp['pstkrv'])\n",
    "\n",
    "# if created ps is missing, then use pstk\n",
    "comp['ps']=np.where(comp['ps'].isnull(),comp['pstk'], comp['ps'])\n",
    "\n",
    "# if ps is still missing, then assign 0\n",
    "comp['ps']=np.where(comp['ps'].isnull(),0,comp['ps'])"
   ]
  },
  {
   "cell_type": "code",
   "execution_count": null,
   "metadata": {
    "slideshow": {
     "slide_type": "subslide"
    }
   },
   "outputs": [],
   "source": [
    "# again check prefered stock we just created\n",
    "comp['ps'].describe()"
   ]
  },
  {
   "cell_type": "markdown",
   "metadata": {
    "slideshow": {
     "slide_type": "slide"
    }
   },
   "source": [
    "### Book Value of Equity"
   ]
  },
  {
   "cell_type": "code",
   "execution_count": null,
   "metadata": {
    "slideshow": {
     "slide_type": "fragment"
    }
   },
   "outputs": [],
   "source": [
    "# assign 0 to txditc\n",
    "comp['txditc']=comp['txditc'].fillna(0)\n",
    "\n",
    "# create a variable, be, for book value of equity\n",
    "comp['be']=comp['seq']+comp['txditc']-comp['ps']\n",
    "\n",
    "# if be is missing, replaced by NaN \n",
    "comp['be']=np.where(comp['be']>0, comp['be'], np.nan)"
   ]
  },
  {
   "cell_type": "code",
   "execution_count": null,
   "metadata": {
    "slideshow": {
     "slide_type": "subslide"
    }
   },
   "outputs": [],
   "source": [
    "# check book value of equity\n",
    "comp['be'].describe()"
   ]
  },
  {
   "cell_type": "markdown",
   "metadata": {
    "slideshow": {
     "slide_type": "slide"
    }
   },
   "source": [
    "### House cleanning"
   ]
  },
  {
   "cell_type": "code",
   "execution_count": null,
   "metadata": {
    "slideshow": {
     "slide_type": "fragment"
    }
   },
   "outputs": [],
   "source": [
    "# sort values so that the dataframe is constructed by id and time\n",
    "comp=comp.sort_values(by=['gvkey','datadate'])\n",
    "\n",
    "# count obs? starting from 0 to length of the group -1\n",
    "comp['count']=comp.groupby(['gvkey']).cumcount()\n",
    "\n",
    "# house cleanning\n",
    "comp=comp[['gvkey','datadate','year','be','count']]"
   ]
  },
  {
   "cell_type": "code",
   "execution_count": null,
   "metadata": {
    "slideshow": {
     "slide_type": "subslide"
    }
   },
   "outputs": [],
   "source": [
    "comp.describe()\n",
    "\n",
    "comp.head()"
   ]
  },
  {
   "cell_type": "markdown",
   "metadata": {
    "slideshow": {
     "slide_type": "slide"
    }
   },
   "source": [
    "### Retrieving CRSP stock data"
   ]
  },
  {
   "cell_type": "code",
   "execution_count": null,
   "metadata": {
    "slideshow": {
     "slide_type": "fragment"
    }
   },
   "outputs": [],
   "source": [
    "# wrap things in a function so that we can specify sample period we want\n",
    "def crspmerge (begdt=\"01/01/1959\", enddt=\"12/31/2017\"): # can you think of other arguments we can put here?\n",
    "    stmt = \"\"\"\n",
    "              SELECT a.permno, a.permco, a.date, a.ret, a.retx, a.shrout, a.prc,\n",
    "                     b.shrcd, b.exchcd\n",
    "              FROM crsp.msf AS a\n",
    "              LEFT JOIN crsp.msenames AS b\n",
    "              ON a.permno=b.permno\n",
    "              AND b.namedt<=a.date\n",
    "              AND a.date<=b.nameendt\n",
    "              WHERE a.date BETWEEN {} AND {}\n",
    "              AND b.exchcd BETWEEN 1 AND 3\n",
    "           \"\"\".format(begdt, enddt)\n",
    "    # connection checker\n",
    "    if not conn:\n",
    "        conn = wrds.Connection()\n",
    "        \n",
    "    return conn.raw_sql(stmt)\n",
    "\n",
    "crsp_m = crspmerge() # default values"
   ]
  },
  {
   "cell_type": "markdown",
   "metadata": {
    "slideshow": {
     "slide_type": "subslide"
    }
   },
   "source": [
    "### Let's try to check the data"
   ]
  },
  {
   "cell_type": "markdown",
   "metadata": {
    "slideshow": {
     "slide_type": "slide"
    }
   },
   "source": [
    "### Data cleanning"
   ]
  },
  {
   "cell_type": "code",
   "execution_count": null,
   "metadata": {
    "slideshow": {
     "slide_type": "fragment"
    }
   },
   "outputs": [],
   "source": [
    "# change variable format to int\n",
    "crsp_m[['permco','permno','shrcd','exchcd']]=crsp_m[['permco','permno','shrcd','exchcd']].astype(int)\n",
    "\n",
    "# personally, I like to set all the identifications to be strings...because of the annoying trailing zeros"
   ]
  },
  {
   "cell_type": "code",
   "execution_count": null,
   "metadata": {
    "slideshow": {
     "slide_type": "fragment"
    }
   },
   "outputs": [],
   "source": [
    "# format datatime\n",
    "crsp_m['date']=pd.to_datetime(crsp_m['date'])\n",
    "\n",
    "# MonthEnd is a function from pandas.tseries.offsets\n",
    "# convert timestamp to current month end <= for easier merging purpose\n",
    "# MonthEnd(-1) move backwards by 1 month (last month end)\n",
    "# MonthEnd(1) next month end\n",
    "crsp_m['jdate']=crsp_m['date']+MonthEnd(0)"
   ]
  }
 ],
 "metadata": {
  "celltoolbar": "Slideshow",
  "kernelspec": {
   "display_name": "Python 3",
   "language": "python",
   "name": "python3"
  },
  "language_info": {
   "codemirror_mode": {
    "name": "ipython",
    "version": 3
   },
   "file_extension": ".py",
   "mimetype": "text/x-python",
   "name": "python",
   "nbconvert_exporter": "python",
   "pygments_lexer": "ipython3",
   "version": "3.6.5"
  }
 },
 "nbformat": 4,
 "nbformat_minor": 2
}
