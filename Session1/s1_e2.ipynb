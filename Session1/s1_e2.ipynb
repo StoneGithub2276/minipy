{
 "cells": [
  {
   "cell_type": "markdown",
   "metadata": {},
   "source": [
    "# 3. Python Built-in Data Structure"
   ]
  },
  {
   "cell_type": "markdown",
   "metadata": {},
   "source": [
    "## List"
   ]
  },
  {
   "cell_type": "markdown",
   "metadata": {},
   "source": [
    "Python lists are very versatile containers (boxes) that are extremely userful in many circumstances. A list in Python, defined using brackets `[]`, is an ordered collection of objects that can contain arbitrary numbers of Python objects, such as strings, integers, floats, lists or others. All these data points can be accessed using numerical index."
   ]
  },
  {
   "cell_type": "markdown",
   "metadata": {},
   "source": [
    "1. Create Python list\n",
    "2. Access, modify, and delete list elements\n",
    "3. Merge lists\n",
    "4. Use the slicing synatx to operate on sublists\n",
    "5. Loop over lists"
   ]
  },
  {
   "cell_type": "markdown",
   "metadata": {},
   "source": [
    "### Create a list"
   ]
  },
  {
   "cell_type": "code",
   "execution_count": 1,
   "metadata": {},
   "outputs": [],
   "source": [
    "city = [\"Lancaster\", \"Warwick\", \"Lancaster\", \"Bath\"]"
   ]
  },
  {
   "cell_type": "markdown",
   "metadata": {},
   "source": [
    "### Access list elements"
   ]
  },
  {
   "cell_type": "markdown",
   "metadata": {},
   "source": [
    "Python follows C's convention of starting from zero as numerical index. This means, if we have a list of length $n$, the first element of the list is at index $0$ (think of location), the second is at index $1$, and so on and so forth. So be careful that, the last element of the list will be at index $n-1$."
   ]
  },
  {
   "cell_type": "markdown",
   "metadata": {},
   "source": [
    "To get the **first** element in the above list, we type:"
   ]
  },
  {
   "cell_type": "code",
   "execution_count": 2,
   "metadata": {},
   "outputs": [
    {
     "data": {
      "text/plain": [
       "'Lancaster'"
      ]
     },
     "execution_count": 2,
     "metadata": {},
     "output_type": "execute_result"
    }
   ],
   "source": [
    "# Python is inspired by C\n",
    "# follows C's convention that index starts with 0\n",
    "city[0]"
   ]
  },
  {
   "cell_type": "markdown",
   "metadata": {},
   "source": [
    "How about the **last** element?"
   ]
  },
  {
   "cell_type": "code",
   "execution_count": 3,
   "metadata": {},
   "outputs": [
    {
     "data": {
      "text/plain": [
       "'Bath'"
      ]
     },
     "execution_count": 3,
     "metadata": {},
     "output_type": "execute_result"
    }
   ],
   "source": [
    "city[-1]"
   ]
  },
  {
   "cell_type": "markdown",
   "metadata": {},
   "source": [
    "#### A simple loop"
   ]
  },
  {
   "cell_type": "markdown",
   "metadata": {},
   "source": [
    "#### mix of strings and numbers"
   ]
  },
  {
   "cell_type": "code",
   "execution_count": 4,
   "metadata": {},
   "outputs": [],
   "source": [
    "mix = [1, [2, 3], 'Python rocks!', True]"
   ]
  },
  {
   "cell_type": "markdown",
   "metadata": {},
   "source": [
    "#### manipulate lists"
   ]
  },
  {
   "cell_type": "code",
   "execution_count": 9,
   "metadata": {
    "scrolled": false
   },
   "outputs": [
    {
     "name": "stdout",
     "output_type": "stream",
     "text": [
      "['Oxford', 'Lancaster', 'Warwick', 'Lancaster', 'Bath', 'Manchester', 'York', 'Edinburgh', 'Manchester']\n"
     ]
    }
   ],
   "source": [
    "# add a single element to the end of the list\n",
    "city.append('Manchester')\n",
    "print(city)"
   ]
  },
  {
   "cell_type": "code",
   "execution_count": 10,
   "metadata": {
    "scrolled": true
   },
   "outputs": [
    {
     "name": "stdout",
     "output_type": "stream",
     "text": [
      "['Cambridge', 'Oxford', 'Lancaster', 'Warwick', 'Lancaster', 'Bath', 'Manchester', 'York', 'Edinburgh', 'Manchester']\n"
     ]
    }
   ],
   "source": [
    "# insert an element into a specific location\n",
    "city.insert(0, \"Cambridge\")\n",
    "print(city)"
   ]
  },
  {
   "cell_type": "code",
   "execution_count": 11,
   "metadata": {},
   "outputs": [],
   "source": [
    "# update an element\n",
    "city[0] = \"Oxford\""
   ]
  },
  {
   "cell_type": "code",
   "execution_count": 12,
   "metadata": {},
   "outputs": [
    {
     "name": "stdout",
     "output_type": "stream",
     "text": [
      "['Oxford', 'Oxford', 'Lancaster', 'Warwick', 'Lancaster', 'Bath', 'Manchester', 'York', 'Edinburgh', 'Manchester', 'York', 'Edinburgh']\n",
      "['Oxford', 'Oxford', 'Lancaster', 'Warwick', 'Lancaster', 'Bath', 'Manchester', 'York', 'Edinburgh', 'Manchester', 'York', 'Edinburgh', 'Liverpool', 'Glasgow']\n"
     ]
    }
   ],
   "source": [
    "# add another list\n",
    "city.extend(['York', 'Edinburgh'])\n",
    "print(city)"
   ]
  },
  {
   "cell_type": "code",
   "execution_count": null,
   "metadata": {},
   "outputs": [],
   "source": [
    "# or just + sign\n",
    "city = city + ['Liverpool', 'Glasgow']\n",
    "print(city)"
   ]
  },
  {
   "cell_type": "code",
   "execution_count": 13,
   "metadata": {},
   "outputs": [
    {
     "name": "stdout",
     "output_type": "stream",
     "text": [
      "['Oxford', 'Lancaster', 'Warwick', 'Lancaster', 'Bath', 'Manchester', 'York', 'Edinburgh', 'Manchester', 'York', 'Edinburgh', 'Liverpool', 'Glasgow']\n"
     ]
    }
   ],
   "source": [
    "# delete element by index\n",
    "del city[0]\n",
    "print(city)"
   ]
  },
  {
   "cell_type": "code",
   "execution_count": 14,
   "metadata": {},
   "outputs": [
    {
     "name": "stdout",
     "output_type": "stream",
     "text": [
      "['Oxford', 'Lancaster', 'Warwick', 'Lancaster', 'Bath', 'Manchester', 'York', 'Edinburgh', 'Manchester', 'York', 'Edinburgh', 'Liverpool']\n"
     ]
    }
   ],
   "source": [
    "# or by value\n",
    "city.remove(\"Glasgow\")\n",
    "print(city)"
   ]
  },
  {
   "cell_type": "code",
   "execution_count": 15,
   "metadata": {},
   "outputs": [
    {
     "name": "stdout",
     "output_type": "stream",
     "text": [
      "['Bath', 'Edinburgh', 'Edinburgh', 'Lancaster', 'Lancaster', 'Liverpool', 'Manchester', 'Manchester', 'Oxford', 'Warwick', 'York', 'York']\n"
     ]
    }
   ],
   "source": [
    "# sort list\n",
    "city.sort()\n",
    "print(city)"
   ]
  },
  {
   "cell_type": "markdown",
   "metadata": {},
   "source": [
    "#### Another list of numbers"
   ]
  },
  {
   "cell_type": "code",
   "execution_count": null,
   "metadata": {},
   "outputs": [],
   "source": [
    "# slice list by using (:)\n",
    "sq = [0, 1, 4, 9, 16, 25, 36, 49, 64, 81, 100]"
   ]
  },
  {
   "cell_type": "markdown",
   "metadata": {},
   "source": [
    "#### another counterintuitive convention"
   ]
  },
  {
   "cell_type": "markdown",
   "metadata": {},
   "source": [
    "We can select a group of elements in a list starting from the first element indicated and going up to (**but not including**) the last element indicated. For example:"
   ]
  },
  {
   "cell_type": "code",
   "execution_count": null,
   "metadata": {},
   "outputs": [],
   "source": [
    "# to get the first three element\n",
    "sq[0:3] # Remember index starts with 0"
   ]
  },
  {
   "cell_type": "markdown",
   "metadata": {},
   "source": [
    "We can select everything in a list"
   ]
  },
  {
   "cell_type": "code",
   "execution_count": null,
   "metadata": {},
   "outputs": [],
   "source": [
    "sq[:]"
   ]
  },
  {
   "cell_type": "markdown",
   "metadata": {},
   "source": [
    "We can select everything before or after a certain point"
   ]
  },
  {
   "cell_type": "code",
   "execution_count": null,
   "metadata": {},
   "outputs": [],
   "source": [
    "sq[8:]"
   ]
  },
  {
   "cell_type": "code",
   "execution_count": null,
   "metadata": {},
   "outputs": [],
   "source": [
    "sq[:3]"
   ]
  },
  {
   "cell_type": "markdown",
   "metadata": {},
   "source": [
    "We can also add a third component to slice a list, which is the step size we want to take. So instead of taking every single element, we can take every other element. For instance:"
   ]
  },
  {
   "cell_type": "code",
   "execution_count": null,
   "metadata": {},
   "outputs": [],
   "source": [
    "# the max index for the list is 10\n",
    "# if using 10 as the second component, the last element will be excluded\n",
    "sq[0:11:2]"
   ]
  },
  {
   "cell_type": "markdown",
   "metadata": {},
   "source": [
    "### loop through lists"
   ]
  },
  {
   "cell_type": "markdown",
   "metadata": {},
   "source": [
    "We can create an empty list for university names and loop through all the cities in the list `city` and add \"University of\" to city names:"
   ]
  },
  {
   "cell_type": "code",
   "execution_count": 19,
   "metadata": {},
   "outputs": [
    {
     "name": "stdout",
     "output_type": "stream",
     "text": [
      "['University of Bath', 'University of Edinburgh', 'University of Edinburgh', 'University of Lancaster', 'University of Lancaster', 'University of Liverpool', 'University of Manchester', 'University of Manchester', 'University of Oxford', 'University of Warwick', 'University of York', 'University of York']\n"
     ]
    }
   ],
   "source": [
    "uni = []\n",
    "for i in range(len(city)): # len() returns numbers of elements\n",
    "    uni.append(\"University of {}\".format(city[i]))\n",
    "\n",
    "print(uni)"
   ]
  },
  {
   "cell_type": "markdown",
   "metadata": {},
   "source": [
    "We can also do mathematical operations on each element in a list"
   ]
  },
  {
   "cell_type": "code",
   "execution_count": null,
   "metadata": {},
   "outputs": [],
   "source": [
    "import math\n",
    "\n",
    "for value in sq:\n",
    "    print(\"square root for {} is {}\".format(value, int(math.sqrt(value))))"
   ]
  },
  {
   "cell_type": "code",
   "execution_count": null,
   "metadata": {},
   "outputs": [],
   "source": [
    "# even better\n",
    "for index, value in enumerate(sq):\n",
    "    print(\"# {} element ==> {}\".format(index+1, value))"
   ]
  },
  {
   "cell_type": "markdown",
   "metadata": {},
   "source": [
    "#### Useful built-in function `range()` to generate lists"
   ]
  },
  {
   "cell_type": "code",
   "execution_count": null,
   "metadata": {},
   "outputs": [],
   "source": [
    "my_range = range(10)\n",
    "print(my_range)"
   ]
  },
  {
   "cell_type": "code",
   "execution_count": null,
   "metadata": {},
   "outputs": [],
   "source": [
    "my_range = range(1, 11)\n",
    "print(my_range)"
   ]
  },
  {
   "cell_type": "code",
   "execution_count": null,
   "metadata": {},
   "outputs": [],
   "source": [
    "my_range = range(1, 11, 2)\n",
    "print(my_range)"
   ]
  },
  {
   "cell_type": "markdown",
   "metadata": {},
   "source": [
    "#### Strings are lists of characters!"
   ]
  },
  {
   "cell_type": "markdown",
   "metadata": {},
   "source": [
    "We already know that strings are basically text. In Python, strings are also indexed much in the same way that lists are, which means that we can do use built-in operations to access, slice, and update strings easily depending on what we need."
   ]
  },
  {
   "cell_type": "code",
   "execution_count": 1,
   "metadata": {},
   "outputs": [
    {
     "name": "stdout",
     "output_type": "stream",
     "text": [
      "I\n",
      "love\n",
      "!nohtyP evol I\n"
     ]
    }
   ],
   "source": [
    "my_string = \"I love Python!\"\n",
    "print(my_string[0]) # \"I\"\n",
    "print(my_string[2:6]) # \"Love\"\n",
    "print(my_string[::-1]) # reverse it!"
   ]
  },
  {
   "cell_type": "markdown",
   "metadata": {},
   "source": [
    "Regular Expression is a powerful engine to deal with text and is widely used in programming and data analysis. We will see an example at the end of today's session."
   ]
  },
  {
   "cell_type": "markdown",
   "metadata": {},
   "source": [
    "### Tuple and Set"
   ]
  },
  {
   "cell_type": "markdown",
   "metadata": {},
   "source": [
    "While we can do everything we want in a list, a special form of data container, very similar to list, is `tuple`. The only difference is that we cannot modify a tuple once defined as we do to a list. Tuple is defined using `( )`."
   ]
  },
  {
   "cell_type": "code",
   "execution_count": null,
   "metadata": {},
   "outputs": [],
   "source": [
    "my_tuple = (\"I\", \"want\", \"my\", \"lunch\")\n",
    "print(my_tuple)"
   ]
  },
  {
   "cell_type": "code",
   "execution_count": null,
   "metadata": {},
   "outputs": [],
   "source": [
    "my_tuple[3] = \"dinner\" # error if we attempt to update tuple"
   ]
  },
  {
   "cell_type": "markdown",
   "metadata": {},
   "source": [
    "A `set` is a collection of unordered but unique elements, defined using curl brackets `{ }`. Note: indexing is not working for `set` but instead we can check if an element is in a set or not."
   ]
  },
  {
   "cell_type": "code",
   "execution_count": null,
   "metadata": {},
   "outputs": [],
   "source": [
    "uni_set = set(uni)"
   ]
  },
  {
   "cell_type": "markdown",
   "metadata": {},
   "source": [
    "## Dictionary"
   ]
  },
  {
   "cell_type": "markdown",
   "metadata": {},
   "source": [
    "Another essential data structure in Python is the dictionary. Dictionaries are defined with a combination of curly braces (`{ }`) and colons (`:`). The braces define the beginning and end of a dictionary and the colons indicate key-value pairs. A dictionary is essentially a set of `key-value pairs`. \n",
    "\n",
    "Dictionary is very close to an Excel spreadsheet or table, with `key` as column name and `value` as row value"
   ]
  },
  {
   "cell_type": "markdown",
   "metadata": {},
   "source": [
    "1. Create Python dictionaries\n",
    "2. Access, modify, and delete dictionary items\n",
    "3. Merge dictionaries\n",
    "4. Loop over dictionary keys, values, and items"
   ]
  },
  {
   "cell_type": "markdown",
   "metadata": {},
   "source": [
    "#### Create a dictionary"
   ]
  },
  {
   "cell_type": "code",
   "execution_count": 8,
   "metadata": {},
   "outputs": [],
   "source": [
    "capitals = {'China': 'Beijing',\n",
    "            'United Kingdom': 'London',\n",
    "            'France': 'Paris',\n",
    "            'Italy': 'Rome'}"
   ]
  },
  {
   "cell_type": "markdown",
   "metadata": {},
   "source": [
    "#### Accessing dictionaries items"
   ]
  },
  {
   "cell_type": "markdown",
   "metadata": {},
   "source": [
    "Instead of using numerical index as we did in a list, we can use a more intuitive approach in a dictionary."
   ]
  },
  {
   "cell_type": "code",
   "execution_count": 22,
   "metadata": {},
   "outputs": [
    {
     "data": {
      "text/plain": [
       "'Beijing'"
      ]
     },
     "execution_count": 22,
     "metadata": {},
     "output_type": "execute_result"
    }
   ],
   "source": [
    "capitals['China']"
   ]
  },
  {
   "cell_type": "markdown",
   "metadata": {},
   "source": [
    "#### Add items to dictionary"
   ]
  },
  {
   "cell_type": "code",
   "execution_count": 23,
   "metadata": {},
   "outputs": [],
   "source": [
    "capitals['United States'] = 'Washington, DC'"
   ]
  },
  {
   "cell_type": "code",
   "execution_count": 24,
   "metadata": {},
   "outputs": [
    {
     "data": {
      "text/plain": [
       "{'China': 'Beijing',\n",
       " 'France': 'Paris',\n",
       " 'Italy': 'Rome',\n",
       " 'United Kingdom': 'London',\n",
       " 'United States': 'Washington, DC'}"
      ]
     },
     "execution_count": 24,
     "metadata": {},
     "output_type": "execute_result"
    }
   ],
   "source": [
    "capitals"
   ]
  },
  {
   "cell_type": "markdown",
   "metadata": {},
   "source": [
    "if we call a key from the dictionary, but there is no such pair in our container/box/data, then we get an error"
   ]
  },
  {
   "cell_type": "code",
   "execution_count": 26,
   "metadata": {},
   "outputs": [
    {
     "ename": "KeyError",
     "evalue": "'Germany'",
     "output_type": "error",
     "traceback": [
      "\u001b[0;31m---------------------------------------------------------------------------\u001b[0m",
      "\u001b[0;31mKeyError\u001b[0m                                  Traceback (most recent call last)",
      "\u001b[0;32m<ipython-input-26-1df1a1ea5991>\u001b[0m in \u001b[0;36m<module>\u001b[0;34m()\u001b[0m\n\u001b[0;32m----> 1\u001b[0;31m \u001b[0mcapitals\u001b[0m\u001b[0;34m[\u001b[0m\u001b[0;34m'Germany'\u001b[0m\u001b[0;34m]\u001b[0m\u001b[0;34m\u001b[0m\u001b[0m\n\u001b[0m",
      "\u001b[0;31mKeyError\u001b[0m: 'Germany'"
     ]
    }
   ],
   "source": [
    "capitals['Germany']"
   ]
  },
  {
   "cell_type": "markdown",
   "metadata": {},
   "source": [
    "#### Check if an item belongs to a dictionary"
   ]
  },
  {
   "cell_type": "code",
   "execution_count": 1,
   "metadata": {},
   "outputs": [
    {
     "ename": "NameError",
     "evalue": "name 'capitals' is not defined",
     "output_type": "error",
     "traceback": [
      "\u001b[0;31m---------------------------------------------------------------------------\u001b[0m",
      "\u001b[0;31mNameError\u001b[0m                                 Traceback (most recent call last)",
      "\u001b[0;32m<ipython-input-1-544502dc67a8>\u001b[0m in \u001b[0;36m<module>\u001b[0;34m()\u001b[0m\n\u001b[0;32m----> 1\u001b[0;31m \u001b[0;34m'Germany'\u001b[0m \u001b[0;32min\u001b[0m \u001b[0mcapitals\u001b[0m \u001b[0;31m# Python knows that you are talking about keys\u001b[0m\u001b[0;34m\u001b[0m\u001b[0m\n\u001b[0m",
      "\u001b[0;31mNameError\u001b[0m: name 'capitals' is not defined"
     ]
    }
   ],
   "source": [
    "'Germany' in capitals # Python knows that you are talking about keys"
   ]
  },
  {
   "cell_type": "code",
   "execution_count": 28,
   "metadata": {},
   "outputs": [
    {
     "data": {
      "text/plain": [
       "True"
      ]
     },
     "execution_count": 28,
     "metadata": {},
     "output_type": "execute_result"
    }
   ],
   "source": [
    "'United Kingdom' in capitals"
   ]
  },
  {
   "cell_type": "markdown",
   "metadata": {},
   "source": [
    "#### Combine dictionaries"
   ]
  },
  {
   "cell_type": "code",
   "execution_count": 29,
   "metadata": {},
   "outputs": [],
   "source": [
    "morecapitals = {'Germany': 'Berlin',\n",
    "                'Japan': 'Tokyo'}"
   ]
  },
  {
   "cell_type": "code",
   "execution_count": 31,
   "metadata": {},
   "outputs": [
    {
     "data": {
      "text/plain": [
       "{'China': 'Beijing',\n",
       " 'France': 'Paris',\n",
       " 'Germany': 'Berlin',\n",
       " 'Italy': 'Rome',\n",
       " 'Japan': 'Tokyo',\n",
       " 'United Kingdom': 'London',\n",
       " 'United States': 'Washington, DC'}"
      ]
     },
     "execution_count": 31,
     "metadata": {},
     "output_type": "execute_result"
    }
   ],
   "source": [
    "capitals.update(morecapitals)\n",
    "capitals"
   ]
  },
  {
   "cell_type": "markdown",
   "metadata": {},
   "source": [
    "#### Delete Key-Value pair"
   ]
  },
  {
   "cell_type": "code",
   "execution_count": 32,
   "metadata": {},
   "outputs": [
    {
     "data": {
      "text/plain": [
       "{'China': 'Beijing',\n",
       " 'France': 'Paris',\n",
       " 'Germany': 'Berlin',\n",
       " 'Italy': 'Rome',\n",
       " 'Japan': 'Tokyo',\n",
       " 'United Kingdom': 'London'}"
      ]
     },
     "execution_count": 32,
     "metadata": {},
     "output_type": "execute_result"
    }
   ],
   "source": [
    "del capitals['United States']\n",
    "capitals"
   ]
  },
  {
   "cell_type": "markdown",
   "metadata": {},
   "source": [
    "#### Dictionaries are useful with `loop`"
   ]
  },
  {
   "cell_type": "code",
   "execution_count": 33,
   "metadata": {},
   "outputs": [
    {
     "name": "stdout",
     "output_type": "stream",
     "text": [
      "United Kingdom\n",
      "Italy\n",
      "Japan\n",
      "China\n",
      "Germany\n",
      "France\n"
     ]
    }
   ],
   "source": [
    "# if we want to know what are the keys we have in the dictionary\n",
    "# loop through keys\n",
    "for key in capitals.keys():\n",
    "    print(key)"
   ]
  },
  {
   "cell_type": "code",
   "execution_count": 37,
   "metadata": {},
   "outputs": [
    {
     "name": "stdout",
     "output_type": "stream",
     "text": [
      "London\n",
      "Rome\n",
      "Tokyo\n",
      "Beijing\n",
      "Berlin\n",
      "Paris\n"
     ]
    }
   ],
   "source": [
    "# if we want to know what values we stored\n",
    "# loop through values\n",
    "for value in capitals.values():\n",
    "    print(value)"
   ]
  },
  {
   "cell_type": "code",
   "execution_count": 38,
   "metadata": {},
   "outputs": [
    {
     "name": "stdout",
     "output_type": "stream",
     "text": [
      "('United Kingdom', 'London')\n",
      "('Italy', 'Rome')\n",
      "('Japan', 'Tokyo')\n",
      "('China', 'Beijing')\n",
      "('Germany', 'Berlin')\n",
      "('France', 'Paris')\n"
     ]
    }
   ],
   "source": [
    "# or loop over pairs\n",
    "for key, value in capitals.items():\n",
    "    print(key, value)"
   ]
  },
  {
   "cell_type": "markdown",
   "metadata": {},
   "source": [
    "### Comprehensions\n",
    "In python programming, especially when dealing with data, there are many cases where we want to iterate over or loop through list or dictionary, perform an operation on every element, and then collect the results in a new list or dictionary for future analysis.\n",
    "\n",
    "We can certainly perform this with a traditional `for` loop but Python offers a better approach, comprehensions, which let us write shorter and cleaner codes that acchieves the same effect."
   ]
  },
  {
   "cell_type": "markdown",
   "metadata": {},
   "source": [
    "1. rewrite a loop as a comprehensions\n",
    "2. filter items\n",
    "3. create a list or a dictionary from a comprehensions"
   ]
  },
  {
   "cell_type": "markdown",
   "metadata": {},
   "source": [
    "#### Create a list using `for` loop"
   ]
  },
  {
   "cell_type": "code",
   "execution_count": 41,
   "metadata": {},
   "outputs": [
    {
     "data": {
      "text/plain": [
       "[0, 1, 4, 9, 16, 25, 36, 49, 64, 81]"
      ]
     },
     "execution_count": 41,
     "metadata": {},
     "output_type": "execute_result"
    }
   ],
   "source": [
    "sq = []\n",
    "for i in range(10):\n",
    "    sq.append(i**2)\n",
    "sq"
   ]
  },
  {
   "cell_type": "markdown",
   "metadata": {},
   "source": [
    "#### Create a list using `comprehension`"
   ]
  },
  {
   "cell_type": "code",
   "execution_count": 43,
   "metadata": {},
   "outputs": [
    {
     "data": {
      "text/plain": [
       "[0, 1, 4, 9, 16, 25, 36, 49, 64, 81]"
      ]
     },
     "execution_count": 43,
     "metadata": {},
     "output_type": "execute_result"
    }
   ],
   "source": [
    "# inline for loop\n",
    "sq = [i**2 for i in range(10)]\n",
    "sq"
   ]
  },
  {
   "cell_type": "markdown",
   "metadata": {},
   "source": [
    "#### Filter elements in a list using `for` loop"
   ]
  },
  {
   "cell_type": "code",
   "execution_count": 46,
   "metadata": {},
   "outputs": [
    {
     "data": {
      "text/plain": [
       "[0, 1, 4, 9, 16]"
      ]
     },
     "execution_count": 46,
     "metadata": {},
     "output_type": "execute_result"
    }
   ],
   "source": [
    "sq = []\n",
    "for i in range(10):\n",
    "    if i < 5:\n",
    "        sq.append(i**2)\n",
    "sq"
   ]
  },
  {
   "cell_type": "markdown",
   "metadata": {},
   "source": [
    "#### Filter elements in a list using `comprehension`"
   ]
  },
  {
   "cell_type": "code",
   "execution_count": 47,
   "metadata": {},
   "outputs": [
    {
     "data": {
      "text/plain": [
       "[0, 1, 4, 9, 16]"
      ]
     },
     "execution_count": 47,
     "metadata": {},
     "output_type": "execute_result"
    }
   ],
   "source": [
    "# if condition\n",
    "sq = [i**2 for i in range(10) if i < 5]\n",
    "sq"
   ]
  },
  {
   "cell_type": "markdown",
   "metadata": {},
   "source": [
    "#### Create a dictionary using `comprehension`"
   ]
  },
  {
   "cell_type": "code",
   "execution_count": 51,
   "metadata": {},
   "outputs": [],
   "source": [
    "i_sq = {i: i**2 for i in range(10) if i < 5}"
   ]
  },
  {
   "cell_type": "code",
   "execution_count": 52,
   "metadata": {},
   "outputs": [
    {
     "data": {
      "text/plain": [
       "{0: 0, 1: 1, 2: 4, 3: 9, 4: 16}"
      ]
     },
     "execution_count": 52,
     "metadata": {},
     "output_type": "execute_result"
    }
   ],
   "source": [
    "i_sq"
   ]
  },
  {
   "cell_type": "markdown",
   "metadata": {},
   "source": [
    "### TASK: Can you use a comprehension to transpose key and value of the dictionary `capitals`?"
   ]
  },
  {
   "cell_type": "markdown",
   "metadata": {},
   "source": [
    "# 4. Flow Control/Logical Statements"
   ]
  },
  {
   "cell_type": "markdown",
   "metadata": {},
   "source": [
    "### Basic Logic"
   ]
  },
  {
   "cell_type": "markdown",
   "metadata": {},
   "source": [
    "If you recall, a boolean takes one of the two values, `True` or `False` (sometimes 1 or 0). The basic logical statements that we can make are defined using Python built-in **comparison operators**:\n",
    "\n",
    "- `==`: equal to\n",
    "- `!=`: NOT equal to\n",
    "- `<`: less than\n",
    "- `<=`: less than or equal to\n",
    "- `>`: greater than\n",
    "- `>=`: greater than or equal to"
   ]
  },
  {
   "cell_type": "code",
   "execution_count": null,
   "metadata": {},
   "outputs": [],
   "source": [
    "1 == 1"
   ]
  },
  {
   "cell_type": "code",
   "execution_count": null,
   "metadata": {},
   "outputs": [],
   "source": [
    "2.0 != 2"
   ]
  },
  {
   "cell_type": "code",
   "execution_count": null,
   "metadata": {},
   "outputs": [],
   "source": [
    "3 > 3"
   ]
  },
  {
   "cell_type": "code",
   "execution_count": null,
   "metadata": {},
   "outputs": [],
   "source": [
    "3 >= 3"
   ]
  },
  {
   "cell_type": "markdown",
   "metadata": {},
   "source": [
    "#### Boolean Operators"
   ]
  },
  {
   "cell_type": "markdown",
   "metadata": {},
   "source": [
    "We can also put various comparisons together using `Boolean Operators`:\n",
    "- `and`: and\n",
    "- `or`: or\n",
    "- `not`: not"
   ]
  },
  {
   "cell_type": "code",
   "execution_count": null,
   "metadata": {},
   "outputs": [],
   "source": [
    "True and True"
   ]
  },
  {
   "cell_type": "code",
   "execution_count": null,
   "metadata": {},
   "outputs": [],
   "source": [
    "True and False"
   ]
  },
  {
   "cell_type": "code",
   "execution_count": null,
   "metadata": {},
   "outputs": [],
   "source": [
    "(1 == 0) and (1 < 2)"
   ]
  },
  {
   "cell_type": "code",
   "execution_count": null,
   "metadata": {},
   "outputs": [],
   "source": [
    "(1 == 0) or (1 < 2)"
   ]
  },
  {
   "cell_type": "code",
   "execution_count": null,
   "metadata": {},
   "outputs": [],
   "source": [
    "not (1 == 0) and (1 < 2)"
   ]
  },
  {
   "cell_type": "markdown",
   "metadata": {},
   "source": [
    "#### Truthiness\n",
    "As a general rule, containers like strings, tuples, dictionaries, lists, and sets, will return `True` if they contain anything at all and `False` if they contain nothing."
   ]
  },
  {
   "cell_type": "code",
   "execution_count": 3,
   "metadata": {},
   "outputs": [
    {
     "data": {
      "text/plain": [
       "False"
      ]
     },
     "execution_count": 3,
     "metadata": {},
     "output_type": "execute_result"
    }
   ],
   "source": [
    "bool('')"
   ]
  },
  {
   "cell_type": "code",
   "execution_count": 4,
   "metadata": {},
   "outputs": [
    {
     "data": {
      "text/plain": [
       "True"
      ]
     },
     "execution_count": 4,
     "metadata": {},
     "output_type": "execute_result"
    }
   ],
   "source": [
    "bool('I am not empty')"
   ]
  },
  {
   "cell_type": "code",
   "execution_count": 5,
   "metadata": {},
   "outputs": [
    {
     "data": {
      "text/plain": [
       "False"
      ]
     },
     "execution_count": 5,
     "metadata": {},
     "output_type": "execute_result"
    }
   ],
   "source": [
    "bool([])"
   ]
  },
  {
   "cell_type": "markdown",
   "metadata": {},
   "source": [
    "This feature becomes very handy if we need to test if a variable or any object exists in Python's memory so that we can avoid errors."
   ]
  },
  {
   "cell_type": "code",
   "execution_count": 9,
   "metadata": {},
   "outputs": [
    {
     "data": {
      "text/plain": [
       "True"
      ]
     },
     "execution_count": 9,
     "metadata": {},
     "output_type": "execute_result"
    }
   ],
   "source": [
    "bool(capitals['China'])"
   ]
  },
  {
   "cell_type": "markdown",
   "metadata": {},
   "source": [
    "### If-statements\n",
    "We can create segments of code that only execute if a set of `conditions` is met. \n",
    "\n",
    "We use if-statements in conjunction with logical statements in order to create `branches` in our code.\n",
    "\n",
    "An `if branch` gets executed when the `condition` is considered to be `True`. If condition is evaluated as `False`, the if block will simply be skipped unless there is an `else branch`. \n",
    "\n",
    "Conditions are made using either logical operators or by using the truthiness of values in Python. An if-statement is defined with a colon and a block of indented text:"
   ]
  },
  {
   "cell_type": "code",
   "execution_count": 11,
   "metadata": {},
   "outputs": [
    {
     "name": "stdout",
     "output_type": "stream",
     "text": [
      "1\n"
     ]
    }
   ],
   "source": [
    "# Multiple-branch logical statements\n",
    "\n",
    "if \"Condition_1\":         # First check Condition_1\n",
    "    print(\"1\")            # If met, take action and finish\n",
    "elif not \"Condition_2\":   # If not met, check Condition_2\n",
    "    print(\"not 2\")        # If met, take action and finish\n",
    "else:                     # If not met, check other Conditions\n",
    "    print(\"never see me\") # take action and finish the operation"
   ]
  },
  {
   "cell_type": "code",
   "execution_count": 12,
   "metadata": {},
   "outputs": [
    {
     "data": {
      "text/plain": [
       "{'China': 'Beijing',\n",
       " 'France': 'Paris',\n",
       " 'Italy': 'Rome',\n",
       " 'United Kingdom': 'London'}"
      ]
     },
     "execution_count": 12,
     "metadata": {},
     "output_type": "execute_result"
    }
   ],
   "source": [
    "capitals"
   ]
  },
  {
   "cell_type": "code",
   "execution_count": null,
   "metadata": {},
   "outputs": [],
   "source": [
    "# Test if data exists\n",
    "if capitals['United States']: # truthiness\n",
    "    print('Yes!')\n",
    "# if not, we can then add US\n",
    "else:\n",
    "    capitals['United States'] = 'Washington, DC'"
   ]
  },
  {
   "cell_type": "markdown",
   "metadata": {},
   "source": [
    "Multiple Conditions:"
   ]
  },
  {
   "cell_type": "code",
   "execution_count": 14,
   "metadata": {},
   "outputs": [
    {
     "name": "stdout",
     "output_type": "stream",
     "text": [
      "You are not Alice, kiddo!\n"
     ]
    }
   ],
   "source": [
    "# name = \"Liang\"\n",
    "# age = 5\n",
    "\n",
    "if name == \"Alice\":\n",
    "    print(\"How are you today, Alice.\")\n",
    "else:\n",
    "    if age < 12:\n",
    "        print(\"You are not Alice, kiddo!\")\n",
    "    elif (age >= 12) and (age <=100):\n",
    "        print(\"You are not Alice, stranger!\")\n",
    "    else:\n",
    "        print(\"You are not Alice, vampire!\")"
   ]
  },
  {
   "cell_type": "markdown",
   "metadata": {},
   "source": [
    "### `for` loop"
   ]
  },
  {
   "cell_type": "markdown",
   "metadata": {},
   "source": [
    "As we have seen many times, `for` loop is extremely useful if we need to operate each data point in a container such as lists and dictionaries.\n",
    "\n",
    "Or we only want to do something interesting for a certain number of times such a arcade game!"
   ]
  },
  {
   "cell_type": "markdown",
   "metadata": {},
   "source": [
    "### `while` loop"
   ]
  },
  {
   "cell_type": "markdown",
   "metadata": {},
   "source": [
    "We can make a block of code execute over and over again with a `while` statement. The body block (actions) will be executed as long as `while` statement's condition is True."
   ]
  },
  {
   "cell_type": "code",
   "execution_count": 19,
   "metadata": {},
   "outputs": [
    {
     "name": "stdout",
     "output_type": "stream",
     "text": [
      "Hello World\n",
      "Hello World\n",
      "Hello World\n",
      "Hello World\n",
      "Hello World\n"
     ]
    }
   ],
   "source": [
    "spam = 0\n",
    "\n",
    "while spam < 5:\n",
    "    print(\"Hello World\")\n",
    "    spam = spam + 1"
   ]
  },
  {
   "cell_type": "markdown",
   "metadata": {},
   "source": [
    "### break/continue statements"
   ]
  },
  {
   "cell_type": "markdown",
   "metadata": {},
   "source": [
    "Be ware of `infinite loop` since `while` loop can go on and on...\n",
    "We need statements to jump out loops such as break and continue statements"
   ]
  },
  {
   "cell_type": "code",
   "execution_count": 27,
   "metadata": {},
   "outputs": [
    {
     "name": "stdout",
     "output_type": "stream",
     "text": [
      "Please type your name.\n",
      "'Alice'\n",
      "Nice to meet you, Alice\n"
     ]
    }
   ],
   "source": [
    "while True:\n",
    "    print(\"Please type your name.\")\n",
    "    name = raw_input()\n",
    "    \n",
    "    if name == 'Alice':\n",
    "        break\n",
    "print(\"Nice to meet you, {}\".format(name))"
   ]
  },
  {
   "cell_type": "code",
   "execution_count": 31,
   "metadata": {},
   "outputs": [
    {
     "name": "stdout",
     "output_type": "stream",
     "text": [
      "Please input your username\n",
      "Huawei\n",
      "Hello, master, please input your password (It is a phone)\n",
      "P20\n",
      "Access granted\n"
     ]
    }
   ],
   "source": [
    "while True:\n",
    "    print(\"Please input your username\")\n",
    "    name = raw_input()\n",
    "    \n",
    "    if name != 'Huawei':\n",
    "        continue\n",
    "    else:\n",
    "        print(\"Hello, master, please input your password (It is a phone)\")\n",
    "        password = raw_input()\n",
    "        \n",
    "        if password == 'P20':\n",
    "            break\n",
    "print(\"Access granted\")"
   ]
  },
  {
   "cell_type": "markdown",
   "metadata": {},
   "source": [
    "### ===== Your First Python Toy Game ====="
   ]
  },
  {
   "cell_type": "code",
   "execution_count": null,
   "metadata": {},
   "outputs": [],
   "source": [
    "import random\n",
    "\n",
    "secretNumber = random.randint(1, 20)\n",
    "print(\"I am thinking of a number between 1 and 20\")\n",
    "\n",
    "print(\"You have 6 changes\")\n",
    "for guessesTaken in range(1,7):\n",
    "    print(\"Take a guess\")\n",
    "    guess = int(input())\n",
    "    \n",
    "    # check with stored secretNumber\n",
    "    if guess < secretNumber:\n",
    "        print(\"too low, try again!\")\n",
    "    elif guess > secretNumber:\n",
    "        print(\"too high, try again!\")\n",
    "    else:\n",
    "        break\n",
    "\n",
    "if guess == secretNumber:\n",
    "    print(\"Good job! You guessed my number {} in {} guesses\".format(secretNumber, guessesTaken))\n",
    "else:\n",
    "    print(\"Sorry, I was thinking of {}\".format(secretNumber))"
   ]
  },
  {
   "cell_type": "markdown",
   "metadata": {},
   "source": [
    "### Functions"
   ]
  },
  {
   "cell_type": "markdown",
   "metadata": {},
   "source": [
    "An enhanced version of the above game is putting the above block codes in a function with arguements we can put in:"
   ]
  },
  {
   "cell_type": "code",
   "execution_count": 24,
   "metadata": {},
   "outputs": [],
   "source": [
    "def myFirstGame(x, y, z):\n",
    "    secretNumber = random.randint(x, y)\n",
    "    print(\"I am thinking of a number between {} and {}\".format(x, y))\n",
    "\n",
    "    print(\"You have {} changes\".format(z))\n",
    "    \n",
    "    for guessesTaken in range(1,z+1):\n",
    "        print(\"Take a guess\")\n",
    "        guess = int(input())\n",
    "    \n",
    "    # check with stored secretNumber\n",
    "        if guess < secretNumber:\n",
    "            print(\"too low, try again!\")\n",
    "        elif guess > secretNumber:\n",
    "            print(\"too high, try again!\")\n",
    "        else:\n",
    "            break\n",
    "\n",
    "    if guess == secretNumber:\n",
    "        print(\"Good job! You guessed my number {} in {} guesses\".format(secretNumber, guessesTaken))\n",
    "    else:\n",
    "        print(\"Sorry, I was thinking of {}\".format(secretNumber))"
   ]
  },
  {
   "cell_type": "code",
   "execution_count": 25,
   "metadata": {},
   "outputs": [
    {
     "name": "stdout",
     "output_type": "stream",
     "text": [
      "I am thinking of a number between 1 and 100\n",
      "You have 2 changes\n",
      "Take a guess\n",
      "1\n",
      "too low, try again!\n",
      "Take a guess\n",
      "50\n",
      "too low, try again!\n",
      "Sorry, I was thinking of 52\n"
     ]
    }
   ],
   "source": [
    "myFirstGame(1, 100, 2)"
   ]
  }
 ],
 "metadata": {
  "kernelspec": {
   "display_name": "Python 3",
   "language": "python",
   "name": "python3"
  },
  "language_info": {
   "codemirror_mode": {
    "name": "ipython",
    "version": 2
   },
   "file_extension": ".py",
   "mimetype": "text/x-python",
   "name": "python",
   "nbconvert_exporter": "python",
   "pygments_lexer": "ipython2",
   "version": "2.7.14"
  }
 },
 "nbformat": 4,
 "nbformat_minor": 2
}
