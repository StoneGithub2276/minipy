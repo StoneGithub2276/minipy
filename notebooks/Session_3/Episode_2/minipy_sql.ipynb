{
 "cells": [
  {
   "cell_type": "markdown",
   "metadata": {
    "slideshow": {
     "slide_type": "slide"
    }
   },
   "source": [
    "# PostgreSQL & WRDS\n",
    "by Dr Liang Jin\n",
    "\n",
    "- Part of Mini Python Sessions: [github.com/drliangjin/minipy](https://github.com/drliangjin/minipy)\n",
    "\n",
    "- Official Guide/Documentation of PostgreSQL: [www.postgresql.org/docs](https://www.postgresql.org/docs/current/tutorial.html)\n",
    "\n",
    "- WRDS Python Connection: [wrds-www.wharton.upenn.edu](https://wrds-www.wharton.upenn.edu/pages/support/programming-wrds/programming-python/python-from-your-computer/)"
   ]
  },
  {
   "cell_type": "markdown",
   "metadata": {
    "slideshow": {
     "slide_type": "slide"
    }
   },
   "source": [
    "## Connect WRDS"
   ]
  },
  {
   "cell_type": "markdown",
   "metadata": {
    "slideshow": {
     "slide_type": "slide"
    }
   },
   "source": [
    "### Initial Setup"
   ]
  },
  {
   "cell_type": "code",
   "execution_count": 1,
   "metadata": {
    "slideshow": {
     "slide_type": "subslide"
    }
   },
   "outputs": [],
   "source": [
    "# Install WRDS and associated modules necessary using pip\n",
    "try:\n",
    "    import wrds\n",
    "except ImportError:\n",
    "    !pip install wrds"
   ]
  },
  {
   "cell_type": "code",
   "execution_count": 2,
   "metadata": {
    "slideshow": {
     "slide_type": "subslide"
    }
   },
   "outputs": [
    {
     "name": "stderr",
     "output_type": "stream",
     "text": [
      "/usr/local/miniconda3/envs/minipy/lib/python3.6/site-packages/psycopg2/__init__.py:144: UserWarning: The psycopg2 wheel package will be renamed from release 2.8; in order to keep installing from binary please use \"pip install psycopg2-binary\" instead. For details see: <http://initd.org/psycopg/docs/install.html#binary-install-from-pypi>.\n",
      "  \"\"\")\n"
     ]
    },
    {
     "name": "stdout",
     "output_type": "stream",
     "text": [
      "Enter your WRDS username [jin]:jinlums\n",
      "Enter your password:········\n",
      "WRDS recommends setting up a .pgpass file.\n",
      "You can find more info here:\n",
      "https://www.postgresql.org/docs/9.5/static/libpq-pgpass.html.\n",
      "Loading library list...\n",
      "Done\n"
     ]
    }
   ],
   "source": [
    "# Create a connection to WRDS server\n",
    "# You will be asked for your username and passwords\n",
    "\n",
    "conn = wrds.Connection()\n",
    "\n",
    "# Optionally, you can create pgpass file to store your passwords locally\n",
    "# conn.create_pgpass_file()"
   ]
  },
  {
   "cell_type": "markdown",
   "metadata": {
    "slideshow": {
     "slide_type": "slide"
    }
   },
   "source": [
    "### WRDS data Workflow"
   ]
  },
  {
   "cell_type": "markdown",
   "metadata": {
    "slideshow": {
     "slide_type": "slide"
    }
   },
   "source": [
    "#### Datasets Overview"
   ]
  },
  {
   "cell_type": "code",
   "execution_count": 9,
   "metadata": {
    "slideshow": {
     "slide_type": "subslide"
    }
   },
   "outputs": [
    {
     "data": {
      "text/plain": [
       "['hfrsamp_hfrdb',\n",
       " 'risk_proposals',\n",
       " 'infogroupsamp_residential',\n",
       " 'boardex',\n",
       " 'zacks',\n",
       " 'optionm',\n",
       " 'totalq',\n",
       " 'compg',\n",
       " 'factsamp_revere',\n",
       " 'compnad']"
      ]
     },
     "execution_count": 9,
     "metadata": {},
     "output_type": "execute_result"
    }
   ],
   "source": [
    "import random\n",
    "# get all WRDS databases/libraries/Schema\n",
    "libraries = conn.list_libraries()\n",
    "\n",
    "random.sample(libraries, 10)"
   ]
  },
  {
   "cell_type": "code",
   "execution_count": 13,
   "metadata": {
    "slideshow": {
     "slide_type": "subslide"
    }
   },
   "outputs": [
    {
     "data": {
      "text/plain": [
       "['asib',\n",
       " 'zr_hdrnames',\n",
       " 'dsix',\n",
       " 'sector',\n",
       " 'mse62nasdin',\n",
       " 'erdport4',\n",
       " 's6z_dis',\n",
       " 'qsib',\n",
       " 'hldbid12',\n",
       " 'mseall']"
      ]
     },
     "execution_count": 13,
     "metadata": {},
     "output_type": "execute_result"
    }
   ],
   "source": [
    "# get all tables stores in a specific library\n",
    "library = \"crsp\"\n",
    "\n",
    "tables = conn.list_tables(library = library)\n",
    "\n",
    "random.sample(tables, 10)"
   ]
  },
  {
   "cell_type": "code",
   "execution_count": 12,
   "metadata": {
    "slideshow": {
     "slide_type": "subslide"
    }
   },
   "outputs": [
    {
     "name": "stdout",
     "output_type": "stream",
     "text": [
      "Approximately 11216100 rows in crsp.dse.\n"
     ]
    },
    {
     "data": {
      "text/html": [
       "<div>\n",
       "<style scoped>\n",
       "    .dataframe tbody tr th:only-of-type {\n",
       "        vertical-align: middle;\n",
       "    }\n",
       "\n",
       "    .dataframe tbody tr th {\n",
       "        vertical-align: top;\n",
       "    }\n",
       "\n",
       "    .dataframe thead th {\n",
       "        text-align: right;\n",
       "    }\n",
       "</style>\n",
       "<table border=\"1\" class=\"dataframe\">\n",
       "  <thead>\n",
       "    <tr style=\"text-align: right;\">\n",
       "      <th></th>\n",
       "      <th>name</th>\n",
       "      <th>nullable</th>\n",
       "      <th>type</th>\n",
       "    </tr>\n",
       "  </thead>\n",
       "  <tbody>\n",
       "    <tr>\n",
       "      <th>0</th>\n",
       "      <td>event</td>\n",
       "      <td>True</td>\n",
       "      <td>VARCHAR(8)</td>\n",
       "    </tr>\n",
       "    <tr>\n",
       "      <th>1</th>\n",
       "      <td>date</td>\n",
       "      <td>True</td>\n",
       "      <td>DATE</td>\n",
       "    </tr>\n",
       "    <tr>\n",
       "      <th>2</th>\n",
       "      <td>hsicmg</td>\n",
       "      <td>True</td>\n",
       "      <td>DOUBLE PRECISION</td>\n",
       "    </tr>\n",
       "    <tr>\n",
       "      <th>3</th>\n",
       "      <td>hsicig</td>\n",
       "      <td>True</td>\n",
       "      <td>DOUBLE PRECISION</td>\n",
       "    </tr>\n",
       "    <tr>\n",
       "      <th>4</th>\n",
       "      <td>comnam</td>\n",
       "      <td>True</td>\n",
       "      <td>VARCHAR(32)</td>\n",
       "    </tr>\n",
       "  </tbody>\n",
       "</table>\n",
       "</div>"
      ],
      "text/plain": [
       "     name  nullable              type\n",
       "0   event      True        VARCHAR(8)\n",
       "1    date      True              DATE\n",
       "2  hsicmg      True  DOUBLE PRECISION\n",
       "3  hsicig      True  DOUBLE PRECISION\n",
       "4  comnam      True       VARCHAR(32)"
      ]
     },
     "execution_count": 12,
     "metadata": {},
     "output_type": "execute_result"
    }
   ],
   "source": [
    "# determine the column headers within a given dataset\n",
    "library = \"crsp\"\n",
    "\n",
    "table = \"dse\"\n",
    "\n",
    "conn.describe_table(library = library, table  = table).head()"
   ]
  },
  {
   "cell_type": "markdown",
   "metadata": {
    "slideshow": {
     "slide_type": "slide"
    }
   },
   "source": [
    "#### Peek into a dataset"
   ]
  },
  {
   "cell_type": "code",
   "execution_count": 18,
   "metadata": {
    "slideshow": {
     "slide_type": "subslide"
    }
   },
   "outputs": [
    {
     "data": {
      "text/html": [
       "<div>\n",
       "<style scoped>\n",
       "    .dataframe tbody tr th:only-of-type {\n",
       "        vertical-align: middle;\n",
       "    }\n",
       "\n",
       "    .dataframe tbody tr th {\n",
       "        vertical-align: top;\n",
       "    }\n",
       "\n",
       "    .dataframe thead th {\n",
       "        text-align: right;\n",
       "    }\n",
       "</style>\n",
       "<table border=\"1\" class=\"dataframe\">\n",
       "  <thead>\n",
       "    <tr style=\"text-align: right;\">\n",
       "      <th></th>\n",
       "      <th>cusip</th>\n",
       "      <th>permno</th>\n",
       "      <th>permco</th>\n",
       "      <th>date</th>\n",
       "      <th>prc</th>\n",
       "      <th>openprc</th>\n",
       "      <th>bid</th>\n",
       "      <th>bidlo</th>\n",
       "      <th>ask</th>\n",
       "      <th>askhi</th>\n",
       "      <th>vol</th>\n",
       "      <th>ret</th>\n",
       "      <th>retx</th>\n",
       "    </tr>\n",
       "  </thead>\n",
       "  <tbody>\n",
       "    <tr>\n",
       "      <th>0</th>\n",
       "      <td>08403740</td>\n",
       "      <td>49438.0</td>\n",
       "      <td>5897.0</td>\n",
       "      <td>2003-09-22</td>\n",
       "      <td>3.249</td>\n",
       "      <td>3.280</td>\n",
       "      <td>3.20</td>\n",
       "      <td>3.230</td>\n",
       "      <td>3.24</td>\n",
       "      <td>3.290</td>\n",
       "      <td>500.0</td>\n",
       "      <td>0.016901</td>\n",
       "      <td>0.016901</td>\n",
       "    </tr>\n",
       "    <tr>\n",
       "      <th>1</th>\n",
       "      <td>08403740</td>\n",
       "      <td>49438.0</td>\n",
       "      <td>5897.0</td>\n",
       "      <td>2003-09-23</td>\n",
       "      <td>-3.220</td>\n",
       "      <td>NaN</td>\n",
       "      <td>3.20</td>\n",
       "      <td>3.200</td>\n",
       "      <td>3.24</td>\n",
       "      <td>3.240</td>\n",
       "      <td>0.0</td>\n",
       "      <td>-0.008926</td>\n",
       "      <td>-0.008926</td>\n",
       "    </tr>\n",
       "    <tr>\n",
       "      <th>2</th>\n",
       "      <td>08403740</td>\n",
       "      <td>49438.0</td>\n",
       "      <td>5897.0</td>\n",
       "      <td>2003-09-24</td>\n",
       "      <td>3.200</td>\n",
       "      <td>3.200</td>\n",
       "      <td>3.20</td>\n",
       "      <td>3.200</td>\n",
       "      <td>3.24</td>\n",
       "      <td>3.200</td>\n",
       "      <td>200.0</td>\n",
       "      <td>-0.006211</td>\n",
       "      <td>-0.006211</td>\n",
       "    </tr>\n",
       "    <tr>\n",
       "      <th>3</th>\n",
       "      <td>08403740</td>\n",
       "      <td>49438.0</td>\n",
       "      <td>5897.0</td>\n",
       "      <td>2003-09-25</td>\n",
       "      <td>3.220</td>\n",
       "      <td>3.220</td>\n",
       "      <td>3.20</td>\n",
       "      <td>3.220</td>\n",
       "      <td>3.24</td>\n",
       "      <td>3.220</td>\n",
       "      <td>2000.0</td>\n",
       "      <td>0.006250</td>\n",
       "      <td>0.006250</td>\n",
       "    </tr>\n",
       "    <tr>\n",
       "      <th>4</th>\n",
       "      <td>08403740</td>\n",
       "      <td>49438.0</td>\n",
       "      <td>5897.0</td>\n",
       "      <td>2003-09-26</td>\n",
       "      <td>3.200</td>\n",
       "      <td>3.200</td>\n",
       "      <td>3.20</td>\n",
       "      <td>3.200</td>\n",
       "      <td>3.24</td>\n",
       "      <td>3.200</td>\n",
       "      <td>705.0</td>\n",
       "      <td>-0.006211</td>\n",
       "      <td>-0.006211</td>\n",
       "    </tr>\n",
       "    <tr>\n",
       "      <th>5</th>\n",
       "      <td>08403740</td>\n",
       "      <td>49438.0</td>\n",
       "      <td>5897.0</td>\n",
       "      <td>2003-09-29</td>\n",
       "      <td>3.150</td>\n",
       "      <td>3.210</td>\n",
       "      <td>3.15</td>\n",
       "      <td>3.150</td>\n",
       "      <td>3.24</td>\n",
       "      <td>3.210</td>\n",
       "      <td>2223.0</td>\n",
       "      <td>-0.015625</td>\n",
       "      <td>-0.015625</td>\n",
       "    </tr>\n",
       "    <tr>\n",
       "      <th>6</th>\n",
       "      <td>08403740</td>\n",
       "      <td>49438.0</td>\n",
       "      <td>5897.0</td>\n",
       "      <td>2003-09-30</td>\n",
       "      <td>3.240</td>\n",
       "      <td>3.240</td>\n",
       "      <td>3.15</td>\n",
       "      <td>3.240</td>\n",
       "      <td>3.24</td>\n",
       "      <td>3.240</td>\n",
       "      <td>800.0</td>\n",
       "      <td>0.028571</td>\n",
       "      <td>0.028571</td>\n",
       "    </tr>\n",
       "    <tr>\n",
       "      <th>7</th>\n",
       "      <td>08403740</td>\n",
       "      <td>49438.0</td>\n",
       "      <td>5897.0</td>\n",
       "      <td>2003-10-01</td>\n",
       "      <td>-3.195</td>\n",
       "      <td>NaN</td>\n",
       "      <td>3.15</td>\n",
       "      <td>3.150</td>\n",
       "      <td>3.24</td>\n",
       "      <td>3.240</td>\n",
       "      <td>0.0</td>\n",
       "      <td>-0.013889</td>\n",
       "      <td>-0.013889</td>\n",
       "    </tr>\n",
       "    <tr>\n",
       "      <th>8</th>\n",
       "      <td>08403740</td>\n",
       "      <td>49438.0</td>\n",
       "      <td>5897.0</td>\n",
       "      <td>2003-10-02</td>\n",
       "      <td>3.150</td>\n",
       "      <td>3.160</td>\n",
       "      <td>3.16</td>\n",
       "      <td>3.150</td>\n",
       "      <td>3.24</td>\n",
       "      <td>3.160</td>\n",
       "      <td>2500.0</td>\n",
       "      <td>-0.014085</td>\n",
       "      <td>-0.014085</td>\n",
       "    </tr>\n",
       "    <tr>\n",
       "      <th>9</th>\n",
       "      <td>08403740</td>\n",
       "      <td>49438.0</td>\n",
       "      <td>5897.0</td>\n",
       "      <td>2003-10-03</td>\n",
       "      <td>3.240</td>\n",
       "      <td>3.220</td>\n",
       "      <td>3.21</td>\n",
       "      <td>3.219</td>\n",
       "      <td>3.24</td>\n",
       "      <td>3.240</td>\n",
       "      <td>1200.0</td>\n",
       "      <td>0.028571</td>\n",
       "      <td>0.028571</td>\n",
       "    </tr>\n",
       "    <tr>\n",
       "      <th>10</th>\n",
       "      <td>08403740</td>\n",
       "      <td>49438.0</td>\n",
       "      <td>5897.0</td>\n",
       "      <td>2003-10-06</td>\n",
       "      <td>3.161</td>\n",
       "      <td>3.160</td>\n",
       "      <td>3.16</td>\n",
       "      <td>3.160</td>\n",
       "      <td>3.20</td>\n",
       "      <td>3.200</td>\n",
       "      <td>1756.0</td>\n",
       "      <td>-0.024383</td>\n",
       "      <td>-0.024383</td>\n",
       "    </tr>\n",
       "    <tr>\n",
       "      <th>11</th>\n",
       "      <td>08403740</td>\n",
       "      <td>49438.0</td>\n",
       "      <td>5897.0</td>\n",
       "      <td>2003-10-07</td>\n",
       "      <td>3.161</td>\n",
       "      <td>3.161</td>\n",
       "      <td>3.16</td>\n",
       "      <td>3.161</td>\n",
       "      <td>3.25</td>\n",
       "      <td>3.161</td>\n",
       "      <td>276.0</td>\n",
       "      <td>0.000000</td>\n",
       "      <td>0.000000</td>\n",
       "    </tr>\n",
       "    <tr>\n",
       "      <th>12</th>\n",
       "      <td>08403740</td>\n",
       "      <td>49438.0</td>\n",
       "      <td>5897.0</td>\n",
       "      <td>2003-10-08</td>\n",
       "      <td>3.220</td>\n",
       "      <td>3.150</td>\n",
       "      <td>3.22</td>\n",
       "      <td>3.150</td>\n",
       "      <td>3.24</td>\n",
       "      <td>3.220</td>\n",
       "      <td>765.0</td>\n",
       "      <td>0.018665</td>\n",
       "      <td>0.018665</td>\n",
       "    </tr>\n",
       "    <tr>\n",
       "      <th>13</th>\n",
       "      <td>08403740</td>\n",
       "      <td>49438.0</td>\n",
       "      <td>5897.0</td>\n",
       "      <td>2003-10-09</td>\n",
       "      <td>-3.210</td>\n",
       "      <td>NaN</td>\n",
       "      <td>3.17</td>\n",
       "      <td>3.170</td>\n",
       "      <td>3.25</td>\n",
       "      <td>3.250</td>\n",
       "      <td>0.0</td>\n",
       "      <td>-0.003106</td>\n",
       "      <td>-0.003106</td>\n",
       "    </tr>\n",
       "    <tr>\n",
       "      <th>14</th>\n",
       "      <td>08403740</td>\n",
       "      <td>49438.0</td>\n",
       "      <td>5897.0</td>\n",
       "      <td>2003-10-10</td>\n",
       "      <td>3.100</td>\n",
       "      <td>3.161</td>\n",
       "      <td>3.10</td>\n",
       "      <td>3.100</td>\n",
       "      <td>3.24</td>\n",
       "      <td>3.161</td>\n",
       "      <td>13719.0</td>\n",
       "      <td>-0.034268</td>\n",
       "      <td>-0.034268</td>\n",
       "    </tr>\n",
       "    <tr>\n",
       "      <th>15</th>\n",
       "      <td>08403740</td>\n",
       "      <td>49438.0</td>\n",
       "      <td>5897.0</td>\n",
       "      <td>2003-10-13</td>\n",
       "      <td>3.810</td>\n",
       "      <td>3.750</td>\n",
       "      <td>3.81</td>\n",
       "      <td>3.750</td>\n",
       "      <td>3.82</td>\n",
       "      <td>3.870</td>\n",
       "      <td>1181890.0</td>\n",
       "      <td>0.229032</td>\n",
       "      <td>0.229032</td>\n",
       "    </tr>\n",
       "    <tr>\n",
       "      <th>16</th>\n",
       "      <td>08403740</td>\n",
       "      <td>49438.0</td>\n",
       "      <td>5897.0</td>\n",
       "      <td>2003-10-14</td>\n",
       "      <td>3.830</td>\n",
       "      <td>3.820</td>\n",
       "      <td>3.83</td>\n",
       "      <td>3.810</td>\n",
       "      <td>3.85</td>\n",
       "      <td>3.850</td>\n",
       "      <td>90653.0</td>\n",
       "      <td>0.005249</td>\n",
       "      <td>0.005249</td>\n",
       "    </tr>\n",
       "    <tr>\n",
       "      <th>17</th>\n",
       "      <td>08403740</td>\n",
       "      <td>49438.0</td>\n",
       "      <td>5897.0</td>\n",
       "      <td>2003-10-15</td>\n",
       "      <td>3.820</td>\n",
       "      <td>3.830</td>\n",
       "      <td>3.82</td>\n",
       "      <td>3.810</td>\n",
       "      <td>3.84</td>\n",
       "      <td>3.830</td>\n",
       "      <td>426967.0</td>\n",
       "      <td>-0.002611</td>\n",
       "      <td>-0.002611</td>\n",
       "    </tr>\n",
       "    <tr>\n",
       "      <th>18</th>\n",
       "      <td>08403740</td>\n",
       "      <td>49438.0</td>\n",
       "      <td>5897.0</td>\n",
       "      <td>2003-10-16</td>\n",
       "      <td>3.850</td>\n",
       "      <td>3.820</td>\n",
       "      <td>3.85</td>\n",
       "      <td>3.820</td>\n",
       "      <td>3.86</td>\n",
       "      <td>3.850</td>\n",
       "      <td>23876.0</td>\n",
       "      <td>0.007853</td>\n",
       "      <td>0.007853</td>\n",
       "    </tr>\n",
       "    <tr>\n",
       "      <th>19</th>\n",
       "      <td>08403740</td>\n",
       "      <td>49438.0</td>\n",
       "      <td>5897.0</td>\n",
       "      <td>2003-10-17</td>\n",
       "      <td>3.840</td>\n",
       "      <td>3.850</td>\n",
       "      <td>3.83</td>\n",
       "      <td>3.830</td>\n",
       "      <td>3.85</td>\n",
       "      <td>3.850</td>\n",
       "      <td>25200.0</td>\n",
       "      <td>-0.002597</td>\n",
       "      <td>-0.002597</td>\n",
       "    </tr>\n",
       "  </tbody>\n",
       "</table>\n",
       "</div>"
      ],
      "text/plain": [
       "       cusip   permno  permco        date    prc  openprc   bid  bidlo   ask  \\\n",
       "0   08403740  49438.0  5897.0  2003-09-22  3.249    3.280  3.20  3.230  3.24   \n",
       "1   08403740  49438.0  5897.0  2003-09-23 -3.220      NaN  3.20  3.200  3.24   \n",
       "2   08403740  49438.0  5897.0  2003-09-24  3.200    3.200  3.20  3.200  3.24   \n",
       "3   08403740  49438.0  5897.0  2003-09-25  3.220    3.220  3.20  3.220  3.24   \n",
       "4   08403740  49438.0  5897.0  2003-09-26  3.200    3.200  3.20  3.200  3.24   \n",
       "5   08403740  49438.0  5897.0  2003-09-29  3.150    3.210  3.15  3.150  3.24   \n",
       "6   08403740  49438.0  5897.0  2003-09-30  3.240    3.240  3.15  3.240  3.24   \n",
       "7   08403740  49438.0  5897.0  2003-10-01 -3.195      NaN  3.15  3.150  3.24   \n",
       "8   08403740  49438.0  5897.0  2003-10-02  3.150    3.160  3.16  3.150  3.24   \n",
       "9   08403740  49438.0  5897.0  2003-10-03  3.240    3.220  3.21  3.219  3.24   \n",
       "10  08403740  49438.0  5897.0  2003-10-06  3.161    3.160  3.16  3.160  3.20   \n",
       "11  08403740  49438.0  5897.0  2003-10-07  3.161    3.161  3.16  3.161  3.25   \n",
       "12  08403740  49438.0  5897.0  2003-10-08  3.220    3.150  3.22  3.150  3.24   \n",
       "13  08403740  49438.0  5897.0  2003-10-09 -3.210      NaN  3.17  3.170  3.25   \n",
       "14  08403740  49438.0  5897.0  2003-10-10  3.100    3.161  3.10  3.100  3.24   \n",
       "15  08403740  49438.0  5897.0  2003-10-13  3.810    3.750  3.81  3.750  3.82   \n",
       "16  08403740  49438.0  5897.0  2003-10-14  3.830    3.820  3.83  3.810  3.85   \n",
       "17  08403740  49438.0  5897.0  2003-10-15  3.820    3.830  3.82  3.810  3.84   \n",
       "18  08403740  49438.0  5897.0  2003-10-16  3.850    3.820  3.85  3.820  3.86   \n",
       "19  08403740  49438.0  5897.0  2003-10-17  3.840    3.850  3.83  3.830  3.85   \n",
       "\n",
       "    askhi        vol       ret      retx  \n",
       "0   3.290      500.0  0.016901  0.016901  \n",
       "1   3.240        0.0 -0.008926 -0.008926  \n",
       "2   3.200      200.0 -0.006211 -0.006211  \n",
       "3   3.220     2000.0  0.006250  0.006250  \n",
       "4   3.200      705.0 -0.006211 -0.006211  \n",
       "5   3.210     2223.0 -0.015625 -0.015625  \n",
       "6   3.240      800.0  0.028571  0.028571  \n",
       "7   3.240        0.0 -0.013889 -0.013889  \n",
       "8   3.160     2500.0 -0.014085 -0.014085  \n",
       "9   3.240     1200.0  0.028571  0.028571  \n",
       "10  3.200     1756.0 -0.024383 -0.024383  \n",
       "11  3.161      276.0  0.000000  0.000000  \n",
       "12  3.220      765.0  0.018665  0.018665  \n",
       "13  3.250        0.0 -0.003106 -0.003106  \n",
       "14  3.161    13719.0 -0.034268 -0.034268  \n",
       "15  3.870  1181890.0  0.229032  0.229032  \n",
       "16  3.850    90653.0  0.005249  0.005249  \n",
       "17  3.830   426967.0 -0.002611 -0.002611  \n",
       "18  3.850    23876.0  0.007853  0.007853  \n",
       "19  3.850    25200.0 -0.002597 -0.002597  "
      ]
     },
     "execution_count": 18,
     "metadata": {},
     "output_type": "execute_result"
    }
   ],
   "source": [
    "# get_table approach\n",
    "# limit our queries\n",
    "library = \"crsp\"\n",
    "table = \"dsf\"\n",
    "columns = [\"cusip, permno, permco, date, prc, openprc, bid, bidlo, ask, askhi, vol, ret, retx\"]\n",
    "obs = 20\n",
    "\n",
    "# retrieve the whole dataset, without modification/manipulation\n",
    "conn.get_table(library = library, table = table, columns = columns, obs = obs)"
   ]
  },
  {
   "cell_type": "markdown",
   "metadata": {
    "slideshow": {
     "slide_type": "slide"
    }
   },
   "source": [
    "## SQL & PostgreSQL"
   ]
  },
  {
   "cell_type": "markdown",
   "metadata": {
    "slideshow": {
     "slide_type": "subslide"
    }
   },
   "source": [
    "SQL, or Structured Query Language, is a language designed to allow both technical and non-technical users:\n",
    "\n",
    "- query data\n",
    "- manipulate data\n",
    "- transform data\n",
    "\n",
    "from relational databases. PostgreSQL is arguably the best open-source relational database, others include MySQL, Oracle and Microsoft SQL server."
   ]
  },
  {
   "cell_type": "markdown",
   "metadata": {
    "slideshow": {
     "slide_type": "slide"
    }
   },
   "source": [
    "##### Basic syntax (1):\n",
    "- `SELECT`: retrieve data\n",
    "- `FROM`: from a table using a format of **library.table**\n",
    "- `LIMIT`: limit observations, or we will stuck with a large data table for a very very long time..."
   ]
  },
  {
   "cell_type": "code",
   "execution_count": null,
   "metadata": {
    "slideshow": {
     "slide_type": "subslide"
    }
   },
   "outputs": [],
   "source": [
    "# SQL quary statment\n",
    "\n",
    "stmt = \"\"\"\n",
    "SELECT * \n",
    "FROM crsp.dsf \n",
    "LIMIT 10\n",
    "\"\"\"\n",
    "\n",
    "# Connect to WRDS PostgreSQL databases\n",
    "conn.raw_sql(stmt)"
   ]
  },
  {
   "cell_type": "markdown",
   "metadata": {
    "slideshow": {
     "slide_type": "slide"
    }
   },
   "source": [
    "##### Basic syntax (2):\n",
    "- `*`: all columns in a table\n",
    "- alternative: we can pick the columns we want"
   ]
  },
  {
   "cell_type": "code",
   "execution_count": 22,
   "metadata": {
    "slideshow": {
     "slide_type": "subslide"
    }
   },
   "outputs": [],
   "source": [
    "# SQL quary statment\n",
    "stmt = \"\"\"\n",
    "SELECT cusip, permno, permco, date, prc, openprc, bid, bidlo, ask, askhi, vol, ret, retx\n",
    "FROM crsp.dsf\n",
    "LIMIT 10\n",
    "\"\"\"\n",
    "# Connect to WRDS PostgreSQL databases\n",
    "data = conn.raw_sql(stmt)"
   ]
  },
  {
   "cell_type": "code",
   "execution_count": 23,
   "metadata": {
    "slideshow": {
     "slide_type": "subslide"
    }
   },
   "outputs": [
    {
     "name": "stdout",
     "output_type": "stream",
     "text": [
      "<class 'pandas.core.frame.DataFrame'>\n",
      "RangeIndex: 10 entries, 0 to 9\n",
      "Data columns (total 13 columns):\n",
      "cusip      10 non-null object\n",
      "permno     10 non-null float64\n",
      "permco     10 non-null float64\n",
      "date       10 non-null object\n",
      "prc        10 non-null float64\n",
      "openprc    8 non-null float64\n",
      "bid        10 non-null float64\n",
      "bidlo      10 non-null float64\n",
      "ask        10 non-null float64\n",
      "askhi      10 non-null float64\n",
      "vol        10 non-null float64\n",
      "ret        10 non-null float64\n",
      "retx       10 non-null float64\n",
      "dtypes: float64(11), object(2)\n",
      "memory usage: 1.1+ KB\n"
     ]
    }
   ],
   "source": [
    "# data overview\n",
    "data.info()"
   ]
  },
  {
   "cell_type": "code",
   "execution_count": 24,
   "metadata": {
    "slideshow": {
     "slide_type": "subslide"
    }
   },
   "outputs": [
    {
     "data": {
      "text/html": [
       "<div>\n",
       "<style scoped>\n",
       "    .dataframe tbody tr th:only-of-type {\n",
       "        vertical-align: middle;\n",
       "    }\n",
       "\n",
       "    .dataframe tbody tr th {\n",
       "        vertical-align: top;\n",
       "    }\n",
       "\n",
       "    .dataframe thead th {\n",
       "        text-align: right;\n",
       "    }\n",
       "</style>\n",
       "<table border=\"1\" class=\"dataframe\">\n",
       "  <thead>\n",
       "    <tr style=\"text-align: right;\">\n",
       "      <th></th>\n",
       "      <th>cusip</th>\n",
       "      <th>permno</th>\n",
       "      <th>permco</th>\n",
       "      <th>date</th>\n",
       "      <th>prc</th>\n",
       "      <th>openprc</th>\n",
       "      <th>bid</th>\n",
       "      <th>bidlo</th>\n",
       "      <th>ask</th>\n",
       "      <th>askhi</th>\n",
       "      <th>vol</th>\n",
       "      <th>ret</th>\n",
       "      <th>retx</th>\n",
       "    </tr>\n",
       "  </thead>\n",
       "  <tbody>\n",
       "    <tr>\n",
       "      <th>0</th>\n",
       "      <td>08403740</td>\n",
       "      <td>49438.0</td>\n",
       "      <td>5897.0</td>\n",
       "      <td>2003-09-22</td>\n",
       "      <td>3.249</td>\n",
       "      <td>3.28</td>\n",
       "      <td>3.2</td>\n",
       "      <td>3.23</td>\n",
       "      <td>3.24</td>\n",
       "      <td>3.29</td>\n",
       "      <td>500.0</td>\n",
       "      <td>0.016901</td>\n",
       "      <td>0.016901</td>\n",
       "    </tr>\n",
       "    <tr>\n",
       "      <th>1</th>\n",
       "      <td>08403740</td>\n",
       "      <td>49438.0</td>\n",
       "      <td>5897.0</td>\n",
       "      <td>2003-09-23</td>\n",
       "      <td>-3.220</td>\n",
       "      <td>NaN</td>\n",
       "      <td>3.2</td>\n",
       "      <td>3.20</td>\n",
       "      <td>3.24</td>\n",
       "      <td>3.24</td>\n",
       "      <td>0.0</td>\n",
       "      <td>-0.008926</td>\n",
       "      <td>-0.008926</td>\n",
       "    </tr>\n",
       "    <tr>\n",
       "      <th>2</th>\n",
       "      <td>08403740</td>\n",
       "      <td>49438.0</td>\n",
       "      <td>5897.0</td>\n",
       "      <td>2003-09-24</td>\n",
       "      <td>3.200</td>\n",
       "      <td>3.20</td>\n",
       "      <td>3.2</td>\n",
       "      <td>3.20</td>\n",
       "      <td>3.24</td>\n",
       "      <td>3.20</td>\n",
       "      <td>200.0</td>\n",
       "      <td>-0.006211</td>\n",
       "      <td>-0.006211</td>\n",
       "    </tr>\n",
       "    <tr>\n",
       "      <th>3</th>\n",
       "      <td>08403740</td>\n",
       "      <td>49438.0</td>\n",
       "      <td>5897.0</td>\n",
       "      <td>2003-09-25</td>\n",
       "      <td>3.220</td>\n",
       "      <td>3.22</td>\n",
       "      <td>3.2</td>\n",
       "      <td>3.22</td>\n",
       "      <td>3.24</td>\n",
       "      <td>3.22</td>\n",
       "      <td>2000.0</td>\n",
       "      <td>0.006250</td>\n",
       "      <td>0.006250</td>\n",
       "    </tr>\n",
       "    <tr>\n",
       "      <th>4</th>\n",
       "      <td>08403740</td>\n",
       "      <td>49438.0</td>\n",
       "      <td>5897.0</td>\n",
       "      <td>2003-09-26</td>\n",
       "      <td>3.200</td>\n",
       "      <td>3.20</td>\n",
       "      <td>3.2</td>\n",
       "      <td>3.20</td>\n",
       "      <td>3.24</td>\n",
       "      <td>3.20</td>\n",
       "      <td>705.0</td>\n",
       "      <td>-0.006211</td>\n",
       "      <td>-0.006211</td>\n",
       "    </tr>\n",
       "  </tbody>\n",
       "</table>\n",
       "</div>"
      ],
      "text/plain": [
       "      cusip   permno  permco        date    prc  openprc  bid  bidlo   ask  \\\n",
       "0  08403740  49438.0  5897.0  2003-09-22  3.249     3.28  3.2   3.23  3.24   \n",
       "1  08403740  49438.0  5897.0  2003-09-23 -3.220      NaN  3.2   3.20  3.24   \n",
       "2  08403740  49438.0  5897.0  2003-09-24  3.200     3.20  3.2   3.20  3.24   \n",
       "3  08403740  49438.0  5897.0  2003-09-25  3.220     3.22  3.2   3.22  3.24   \n",
       "4  08403740  49438.0  5897.0  2003-09-26  3.200     3.20  3.2   3.20  3.24   \n",
       "\n",
       "   askhi     vol       ret      retx  \n",
       "0   3.29   500.0  0.016901  0.016901  \n",
       "1   3.24     0.0 -0.008926 -0.008926  \n",
       "2   3.20   200.0 -0.006211 -0.006211  \n",
       "3   3.22  2000.0  0.006250  0.006250  \n",
       "4   3.20   705.0 -0.006211 -0.006211  "
      ]
     },
     "execution_count": 24,
     "metadata": {},
     "output_type": "execute_result"
    }
   ],
   "source": [
    "# head()\n",
    "data.head()"
   ]
  },
  {
   "cell_type": "markdown",
   "metadata": {
    "slideshow": {
     "slide_type": "slide"
    }
   },
   "source": [
    "##### Basic syntax (3):\n",
    "- `WHERE`: we can send queries with constrains\n",
    "- `AND/OR`: more conditions\n",
    "- `NULL`: select query with null or non-null value\n",
    "\n",
    "- `=, !=, <, <=, >, >=`: standard numerical operators\n",
    "- `BETWEEN...AND...`: number is within range of two values (inclusive)\n",
    "- `IN`: number exists in a list\n",
    "- `NOT`: not..."
   ]
  },
  {
   "cell_type": "code",
   "execution_count": 25,
   "metadata": {
    "slideshow": {
     "slide_type": "subslide"
    }
   },
   "outputs": [
    {
     "data": {
      "text/html": [
       "<div>\n",
       "<style scoped>\n",
       "    .dataframe tbody tr th:only-of-type {\n",
       "        vertical-align: middle;\n",
       "    }\n",
       "\n",
       "    .dataframe tbody tr th {\n",
       "        vertical-align: top;\n",
       "    }\n",
       "\n",
       "    .dataframe thead th {\n",
       "        text-align: right;\n",
       "    }\n",
       "</style>\n",
       "<table border=\"1\" class=\"dataframe\">\n",
       "  <thead>\n",
       "    <tr style=\"text-align: right;\">\n",
       "      <th></th>\n",
       "      <th>cusip</th>\n",
       "      <th>permno</th>\n",
       "      <th>permco</th>\n",
       "      <th>date</th>\n",
       "      <th>prc</th>\n",
       "      <th>openprc</th>\n",
       "      <th>bid</th>\n",
       "      <th>bidlo</th>\n",
       "      <th>ask</th>\n",
       "      <th>askhi</th>\n",
       "      <th>vol</th>\n",
       "      <th>ret</th>\n",
       "      <th>retx</th>\n",
       "    </tr>\n",
       "  </thead>\n",
       "  <tbody>\n",
       "    <tr>\n",
       "      <th>0</th>\n",
       "      <td>03783310</td>\n",
       "      <td>14593.0</td>\n",
       "      <td>7.0</td>\n",
       "      <td>1981-02-04</td>\n",
       "      <td>-28.6875</td>\n",
       "      <td>NaN</td>\n",
       "      <td>NaN</td>\n",
       "      <td>28.625</td>\n",
       "      <td>NaN</td>\n",
       "      <td>28.750</td>\n",
       "      <td>NaN</td>\n",
       "      <td>0.036117</td>\n",
       "      <td>0.036117</td>\n",
       "    </tr>\n",
       "    <tr>\n",
       "      <th>1</th>\n",
       "      <td>03783310</td>\n",
       "      <td>14593.0</td>\n",
       "      <td>7.0</td>\n",
       "      <td>1981-02-05</td>\n",
       "      <td>-28.7500</td>\n",
       "      <td>NaN</td>\n",
       "      <td>NaN</td>\n",
       "      <td>28.625</td>\n",
       "      <td>NaN</td>\n",
       "      <td>28.875</td>\n",
       "      <td>NaN</td>\n",
       "      <td>0.002179</td>\n",
       "      <td>0.002179</td>\n",
       "    </tr>\n",
       "    <tr>\n",
       "      <th>2</th>\n",
       "      <td>03783310</td>\n",
       "      <td>14593.0</td>\n",
       "      <td>7.0</td>\n",
       "      <td>1981-02-06</td>\n",
       "      <td>-28.8125</td>\n",
       "      <td>NaN</td>\n",
       "      <td>NaN</td>\n",
       "      <td>28.750</td>\n",
       "      <td>NaN</td>\n",
       "      <td>28.875</td>\n",
       "      <td>NaN</td>\n",
       "      <td>0.002174</td>\n",
       "      <td>0.002174</td>\n",
       "    </tr>\n",
       "    <tr>\n",
       "      <th>3</th>\n",
       "      <td>03783310</td>\n",
       "      <td>14593.0</td>\n",
       "      <td>7.0</td>\n",
       "      <td>1981-02-09</td>\n",
       "      <td>-27.3750</td>\n",
       "      <td>NaN</td>\n",
       "      <td>NaN</td>\n",
       "      <td>27.250</td>\n",
       "      <td>NaN</td>\n",
       "      <td>27.500</td>\n",
       "      <td>NaN</td>\n",
       "      <td>-0.049892</td>\n",
       "      <td>-0.049892</td>\n",
       "    </tr>\n",
       "    <tr>\n",
       "      <th>4</th>\n",
       "      <td>03783310</td>\n",
       "      <td>14593.0</td>\n",
       "      <td>7.0</td>\n",
       "      <td>1981-02-10</td>\n",
       "      <td>-27.3125</td>\n",
       "      <td>NaN</td>\n",
       "      <td>NaN</td>\n",
       "      <td>27.250</td>\n",
       "      <td>NaN</td>\n",
       "      <td>27.375</td>\n",
       "      <td>NaN</td>\n",
       "      <td>-0.002283</td>\n",
       "      <td>-0.002283</td>\n",
       "    </tr>\n",
       "  </tbody>\n",
       "</table>\n",
       "</div>"
      ],
      "text/plain": [
       "      cusip   permno  permco        date      prc  openprc  bid   bidlo  ask  \\\n",
       "0  03783310  14593.0     7.0  1981-02-04 -28.6875      NaN  NaN  28.625  NaN   \n",
       "1  03783310  14593.0     7.0  1981-02-05 -28.7500      NaN  NaN  28.625  NaN   \n",
       "2  03783310  14593.0     7.0  1981-02-06 -28.8125      NaN  NaN  28.750  NaN   \n",
       "3  03783310  14593.0     7.0  1981-02-09 -27.3750      NaN  NaN  27.250  NaN   \n",
       "4  03783310  14593.0     7.0  1981-02-10 -27.3125      NaN  NaN  27.250  NaN   \n",
       "\n",
       "    askhi  vol       ret      retx  \n",
       "0  28.750  NaN  0.036117  0.036117  \n",
       "1  28.875  NaN  0.002179  0.002179  \n",
       "2  28.875  NaN  0.002174  0.002174  \n",
       "3  27.500  NaN -0.049892 -0.049892  \n",
       "4  27.375  NaN -0.002283 -0.002283  "
      ]
     },
     "execution_count": 25,
     "metadata": {},
     "output_type": "execute_result"
    }
   ],
   "source": [
    "# SQL quary statment\n",
    "stmt = \"\"\"\n",
    "SELECT cusip, permno, permco, date, prc, openprc, bid, bidlo, ask, askhi, vol, ret, retx\n",
    "FROM crsp.dsf\n",
    "WHERE permno = 14593\n",
    "\"\"\"\n",
    "# Connect to WRDS PostgreSQL databases\n",
    "conn.raw_sql(stmt).head()"
   ]
  },
  {
   "cell_type": "markdown",
   "metadata": {
    "slideshow": {
     "slide_type": "slide"
    }
   },
   "source": [
    "## Task Set 1:\n",
    "1. Find the data with permno: permno: 14593 and 10107 (Apple and Microsoft)\n",
    "2. Find the above data with date between 01/01/2000 and 31/12/2018, \n",
    "3. Find the above data with returns higher than 10%"
   ]
  },
  {
   "cell_type": "code",
   "execution_count": null,
   "metadata": {
    "slideshow": {
     "slide_type": "subslide"
    }
   },
   "outputs": [],
   "source": [
    "# Your codes start HERE #\n",
    "\n",
    "# Your codes end HERE #"
   ]
  },
  {
   "cell_type": "markdown",
   "metadata": {
    "slideshow": {
     "slide_type": "slide"
    }
   },
   "source": [
    "#### Basic syntax (4):\n",
    "- `ORDER BY`: select query with ordered results\n",
    "- `LIMIT` and `OFFSET`(optional): select query with limited results"
   ]
  },
  {
   "cell_type": "code",
   "execution_count": null,
   "metadata": {
    "slideshow": {
     "slide_type": "subslide"
    }
   },
   "outputs": [],
   "source": [
    "# SQL quary statment\n",
    "stmt = \"\"\"\n",
    "SELECT cusip, permno, permco, date, prc, openprc, bid, bidlo, ask, askhi, vol, ret, retx\n",
    "FROM crsp.dsf\n",
    "ORDER BY cusip DESC\n",
    "LIMIT 100 OFFSET 10\n",
    "\"\"\"\n",
    "\n",
    "# Connect to WRDS PostgreSQL databases\n",
    "conn.raw_sql(stmt).head()"
   ]
  },
  {
   "cell_type": "markdown",
   "metadata": {
    "slideshow": {
     "slide_type": "slide"
    }
   },
   "source": [
    "#### Intermedia Syntax (1)\n",
    "- `INNER JOIN`: generates only records matched on both/all tables\n",
    "- `LEFT JOIN` and `RIGHT JOIN`: retains all records from **left** or **right** table and merge with new columns\n",
    "- `FULL JOIN`: results in a large data, combining both/all tables"
   ]
  },
  {
   "cell_type": "code",
   "execution_count": 29,
   "metadata": {
    "slideshow": {
     "slide_type": "subslide"
    }
   },
   "outputs": [
    {
     "data": {
      "text/html": [
       "<div>\n",
       "<style scoped>\n",
       "    .dataframe tbody tr th:only-of-type {\n",
       "        vertical-align: middle;\n",
       "    }\n",
       "\n",
       "    .dataframe tbody tr th {\n",
       "        vertical-align: top;\n",
       "    }\n",
       "\n",
       "    .dataframe thead th {\n",
       "        text-align: right;\n",
       "    }\n",
       "</style>\n",
       "<table border=\"1\" class=\"dataframe\">\n",
       "  <thead>\n",
       "    <tr style=\"text-align: right;\">\n",
       "      <th></th>\n",
       "      <th>permno</th>\n",
       "      <th>date</th>\n",
       "      <th>prc</th>\n",
       "      <th>ret</th>\n",
       "    </tr>\n",
       "  </thead>\n",
       "  <tbody>\n",
       "    <tr>\n",
       "      <th>0</th>\n",
       "      <td>14593.0</td>\n",
       "      <td>2018-12-31</td>\n",
       "      <td>157.740005</td>\n",
       "      <td>0.009665</td>\n",
       "    </tr>\n",
       "    <tr>\n",
       "      <th>1</th>\n",
       "      <td>14593.0</td>\n",
       "      <td>2018-12-28</td>\n",
       "      <td>156.229996</td>\n",
       "      <td>0.000512</td>\n",
       "    </tr>\n",
       "    <tr>\n",
       "      <th>2</th>\n",
       "      <td>14593.0</td>\n",
       "      <td>2018-12-27</td>\n",
       "      <td>156.149994</td>\n",
       "      <td>-0.006490</td>\n",
       "    </tr>\n",
       "    <tr>\n",
       "      <th>3</th>\n",
       "      <td>14593.0</td>\n",
       "      <td>2018-12-26</td>\n",
       "      <td>157.169998</td>\n",
       "      <td>0.070422</td>\n",
       "    </tr>\n",
       "    <tr>\n",
       "      <th>4</th>\n",
       "      <td>14593.0</td>\n",
       "      <td>2018-12-24</td>\n",
       "      <td>146.830002</td>\n",
       "      <td>-0.025874</td>\n",
       "    </tr>\n",
       "  </tbody>\n",
       "</table>\n",
       "</div>"
      ],
      "text/plain": [
       "    permno        date         prc       ret\n",
       "0  14593.0  2018-12-31  157.740005  0.009665\n",
       "1  14593.0  2018-12-28  156.229996  0.000512\n",
       "2  14593.0  2018-12-27  156.149994 -0.006490\n",
       "3  14593.0  2018-12-26  157.169998  0.070422\n",
       "4  14593.0  2018-12-24  146.830002 -0.025874"
      ]
     },
     "execution_count": 29,
     "metadata": {},
     "output_type": "execute_result"
    }
   ],
   "source": [
    "# SQL quary statment\n",
    "dsf = \"\"\"\n",
    "SELECT permno, date, prc, ret\n",
    "FROM crsp.dsf\n",
    "WHERE permno = 14593\n",
    "ORDER BY date DESC\n",
    "LIMIT 10\n",
    "\"\"\"\n",
    "\n",
    "# Connect to WRDS PostgreSQL databases\n",
    "conn.raw_sql(dsf).head()"
   ]
  },
  {
   "cell_type": "code",
   "execution_count": 30,
   "metadata": {
    "slideshow": {
     "slide_type": "subslide"
    }
   },
   "outputs": [
    {
     "data": {
      "text/html": [
       "<div>\n",
       "<style scoped>\n",
       "    .dataframe tbody tr th:only-of-type {\n",
       "        vertical-align: middle;\n",
       "    }\n",
       "\n",
       "    .dataframe tbody tr th {\n",
       "        vertical-align: top;\n",
       "    }\n",
       "\n",
       "    .dataframe thead th {\n",
       "        text-align: right;\n",
       "    }\n",
       "</style>\n",
       "<table border=\"1\" class=\"dataframe\">\n",
       "  <thead>\n",
       "    <tr style=\"text-align: right;\">\n",
       "      <th></th>\n",
       "      <th>permno</th>\n",
       "      <th>date</th>\n",
       "      <th>event</th>\n",
       "    </tr>\n",
       "  </thead>\n",
       "  <tbody>\n",
       "    <tr>\n",
       "      <th>0</th>\n",
       "      <td>14593.0</td>\n",
       "      <td>2018-12-31</td>\n",
       "      <td>NASDIN</td>\n",
       "    </tr>\n",
       "    <tr>\n",
       "      <th>1</th>\n",
       "      <td>14593.0</td>\n",
       "      <td>2018-12-31</td>\n",
       "      <td>DELIST</td>\n",
       "    </tr>\n",
       "    <tr>\n",
       "      <th>2</th>\n",
       "      <td>14593.0</td>\n",
       "      <td>2018-11-12</td>\n",
       "      <td>NASDIN</td>\n",
       "    </tr>\n",
       "    <tr>\n",
       "      <th>3</th>\n",
       "      <td>14593.0</td>\n",
       "      <td>2018-11-08</td>\n",
       "      <td>DIST</td>\n",
       "    </tr>\n",
       "    <tr>\n",
       "      <th>4</th>\n",
       "      <td>14593.0</td>\n",
       "      <td>2018-10-26</td>\n",
       "      <td>SHARES</td>\n",
       "    </tr>\n",
       "  </tbody>\n",
       "</table>\n",
       "</div>"
      ],
      "text/plain": [
       "    permno        date   event\n",
       "0  14593.0  2018-12-31  NASDIN\n",
       "1  14593.0  2018-12-31  DELIST\n",
       "2  14593.0  2018-11-12  NASDIN\n",
       "3  14593.0  2018-11-08    DIST\n",
       "4  14593.0  2018-10-26  SHARES"
      ]
     },
     "execution_count": 30,
     "metadata": {},
     "output_type": "execute_result"
    }
   ],
   "source": [
    "# SQL quary statment\n",
    "dse = \"\"\"\n",
    "SELECT permno, date, event\n",
    "FROM crsp.dse\n",
    "WHERE permno = 14593\n",
    "ORDER BY date DESC\n",
    "LIMIT 10\n",
    "\"\"\"\n",
    "\n",
    "# Connect to WRDS PostgreSQL databases\n",
    "conn.raw_sql(dse).head()"
   ]
  },
  {
   "cell_type": "code",
   "execution_count": 31,
   "metadata": {
    "slideshow": {
     "slide_type": "subslide"
    }
   },
   "outputs": [
    {
     "data": {
      "text/html": [
       "<div>\n",
       "<style scoped>\n",
       "    .dataframe tbody tr th:only-of-type {\n",
       "        vertical-align: middle;\n",
       "    }\n",
       "\n",
       "    .dataframe tbody tr th {\n",
       "        vertical-align: top;\n",
       "    }\n",
       "\n",
       "    .dataframe thead th {\n",
       "        text-align: right;\n",
       "    }\n",
       "</style>\n",
       "<table border=\"1\" class=\"dataframe\">\n",
       "  <thead>\n",
       "    <tr style=\"text-align: right;\">\n",
       "      <th></th>\n",
       "      <th>permno</th>\n",
       "      <th>date</th>\n",
       "      <th>prc</th>\n",
       "      <th>ret</th>\n",
       "      <th>event</th>\n",
       "    </tr>\n",
       "  </thead>\n",
       "  <tbody>\n",
       "    <tr>\n",
       "      <th>0</th>\n",
       "      <td>14593.0</td>\n",
       "      <td>2018-12-31</td>\n",
       "      <td>157.740005</td>\n",
       "      <td>0.009665</td>\n",
       "      <td>DELIST</td>\n",
       "    </tr>\n",
       "    <tr>\n",
       "      <th>1</th>\n",
       "      <td>14593.0</td>\n",
       "      <td>2018-12-31</td>\n",
       "      <td>157.740005</td>\n",
       "      <td>0.009665</td>\n",
       "      <td>NASDIN</td>\n",
       "    </tr>\n",
       "    <tr>\n",
       "      <th>2</th>\n",
       "      <td>14593.0</td>\n",
       "      <td>2018-11-12</td>\n",
       "      <td>194.169998</td>\n",
       "      <td>-0.050374</td>\n",
       "      <td>NASDIN</td>\n",
       "    </tr>\n",
       "    <tr>\n",
       "      <th>3</th>\n",
       "      <td>14593.0</td>\n",
       "      <td>2018-11-08</td>\n",
       "      <td>208.490005</td>\n",
       "      <td>-0.003477</td>\n",
       "      <td>DIST</td>\n",
       "    </tr>\n",
       "    <tr>\n",
       "      <th>4</th>\n",
       "      <td>14593.0</td>\n",
       "      <td>2018-10-26</td>\n",
       "      <td>216.300003</td>\n",
       "      <td>-0.015924</td>\n",
       "      <td>SHARES</td>\n",
       "    </tr>\n",
       "  </tbody>\n",
       "</table>\n",
       "</div>"
      ],
      "text/plain": [
       "    permno        date         prc       ret   event\n",
       "0  14593.0  2018-12-31  157.740005  0.009665  DELIST\n",
       "1  14593.0  2018-12-31  157.740005  0.009665  NASDIN\n",
       "2  14593.0  2018-11-12  194.169998 -0.050374  NASDIN\n",
       "3  14593.0  2018-11-08  208.490005 -0.003477    DIST\n",
       "4  14593.0  2018-10-26  216.300003 -0.015924  SHARES"
      ]
     },
     "execution_count": 31,
     "metadata": {},
     "output_type": "execute_result"
    }
   ],
   "source": [
    "# SQL quary statment\n",
    "join = \"\"\"\n",
    "SELECT crsp.dsf.permno, crsp.dsf.date, crsp.dsf.prc, crsp.dsf.ret, crsp.dse.event\n",
    "FROM crsp.dsf\n",
    "INNER JOIN crsp.dse\n",
    "ON crsp.dsf.permno = crsp.dse.permno\n",
    "AND crsp.dsf.date =  crsp.dse.date\n",
    "WHERE crsp.dsf.permno = 14593\n",
    "ORDER BY date DESC\n",
    "LIMIT 10\n",
    "\"\"\"\n",
    "\n",
    "# Connect to WRDS PostgreSQL databases\n",
    "conn.raw_sql(join).head()"
   ]
  },
  {
   "cell_type": "markdown",
   "metadata": {
    "slideshow": {
     "slide_type": "slide"
    }
   },
   "source": [
    "### Task Set 2:\n",
    "1. Try `LEFT JOIN`\n",
    "2. Try `RIGHT JOIN`\n",
    "3. Try `FULL JOIN`"
   ]
  },
  {
   "cell_type": "markdown",
   "metadata": {
    "slideshow": {
     "slide_type": "slide"
    }
   },
   "source": [
    "#### Intermedia Syntax (2):\n",
    "- `AS`: regular columns and even tables can have aliases to make them easier to reference"
   ]
  },
  {
   "cell_type": "code",
   "execution_count": 32,
   "metadata": {
    "slideshow": {
     "slide_type": "subslide"
    }
   },
   "outputs": [
    {
     "data": {
      "text/html": [
       "<div>\n",
       "<style scoped>\n",
       "    .dataframe tbody tr th:only-of-type {\n",
       "        vertical-align: middle;\n",
       "    }\n",
       "\n",
       "    .dataframe tbody tr th {\n",
       "        vertical-align: top;\n",
       "    }\n",
       "\n",
       "    .dataframe thead th {\n",
       "        text-align: right;\n",
       "    }\n",
       "</style>\n",
       "<table border=\"1\" class=\"dataframe\">\n",
       "  <thead>\n",
       "    <tr style=\"text-align: right;\">\n",
       "      <th></th>\n",
       "      <th>permno</th>\n",
       "      <th>date</th>\n",
       "      <th>price</th>\n",
       "      <th>return</th>\n",
       "      <th>event</th>\n",
       "    </tr>\n",
       "  </thead>\n",
       "  <tbody>\n",
       "    <tr>\n",
       "      <th>0</th>\n",
       "      <td>14593.0</td>\n",
       "      <td>2018-12-31</td>\n",
       "      <td>157.740005</td>\n",
       "      <td>0.966530</td>\n",
       "      <td>DELIST</td>\n",
       "    </tr>\n",
       "    <tr>\n",
       "      <th>1</th>\n",
       "      <td>14593.0</td>\n",
       "      <td>2018-12-31</td>\n",
       "      <td>157.740005</td>\n",
       "      <td>0.966530</td>\n",
       "      <td>NASDIN</td>\n",
       "    </tr>\n",
       "    <tr>\n",
       "      <th>2</th>\n",
       "      <td>14593.0</td>\n",
       "      <td>2018-11-12</td>\n",
       "      <td>194.169998</td>\n",
       "      <td>-5.037415</td>\n",
       "      <td>NASDIN</td>\n",
       "    </tr>\n",
       "    <tr>\n",
       "      <th>3</th>\n",
       "      <td>14593.0</td>\n",
       "      <td>2018-11-08</td>\n",
       "      <td>208.490005</td>\n",
       "      <td>-0.347698</td>\n",
       "      <td>DIST</td>\n",
       "    </tr>\n",
       "    <tr>\n",
       "      <th>4</th>\n",
       "      <td>14593.0</td>\n",
       "      <td>2018-10-26</td>\n",
       "      <td>216.300003</td>\n",
       "      <td>-1.592357</td>\n",
       "      <td>SHARES</td>\n",
       "    </tr>\n",
       "  </tbody>\n",
       "</table>\n",
       "</div>"
      ],
      "text/plain": [
       "    permno        date       price    return   event\n",
       "0  14593.0  2018-12-31  157.740005  0.966530  DELIST\n",
       "1  14593.0  2018-12-31  157.740005  0.966530  NASDIN\n",
       "2  14593.0  2018-11-12  194.169998 -5.037415  NASDIN\n",
       "3  14593.0  2018-11-08  208.490005 -0.347698    DIST\n",
       "4  14593.0  2018-10-26  216.300003 -1.592357  SHARES"
      ]
     },
     "execution_count": 32,
     "metadata": {},
     "output_type": "execute_result"
    }
   ],
   "source": [
    "# SQL quary statment\n",
    "join = \"\"\"\n",
    "SELECT a.permno, a.date, a.prc AS price, a.ret * 100 AS return, b.event\n",
    "FROM crsp.dsf AS a\n",
    "INNER JOIN crsp.dse AS b\n",
    "ON a.permno = b.permno\n",
    "AND a.date =  b.date\n",
    "WHERE a.permno = 14593\n",
    "ORDER BY a.date DESC\n",
    "LIMIT 10\n",
    "\"\"\"\n",
    "\n",
    "# Connect to WRDS PostgreSQL databases\n",
    "conn.raw_sql(join).head()"
   ]
  },
  {
   "cell_type": "markdown",
   "metadata": {
    "slideshow": {
     "slide_type": "slide"
    }
   },
   "source": [
    "#### Intermedia Syntax (3):\n",
    "- Aggregation Functions (e.g., `AVG`, `MAX` and so on): aggregate expressions that allow us to summarize information about a group of rows of data\n",
    "- `DISTINCT`: remove duplicates\n",
    "- `GROUP BY`: specify individual groups\n",
    "- `HAVING`: a `WHERE` condition for the `GROUP BY` clause to filter grouped rows from the result set"
   ]
  },
  {
   "cell_type": "code",
   "execution_count": null,
   "metadata": {
    "scrolled": true,
    "slideshow": {
     "slide_type": "subslide"
    }
   },
   "outputs": [],
   "source": [
    "# Demo\n",
    "\n",
    "# SQL quary statment\n",
    "stmt = \"\"\"\n",
    "SELECT permno, MAX(prc) AS max_prc, AVG(ret) AS avg_ret\n",
    "FROM crsp.dsf\n",
    "WHERE permno IN (14593, 10107)\n",
    "GROUP BY permno\n",
    "\"\"\"\n",
    "\n",
    "# Connect to WRDS PostgreSQL databases\n",
    "conn.raw_sql(stmt)"
   ]
  },
  {
   "cell_type": "markdown",
   "metadata": {
    "slideshow": {
     "slide_type": "slide"
    }
   },
   "source": [
    "#### Advanced Features:\n",
    "- Sub-queries: nest queries to allow complicated dataset transformation (for example, `FROM (SELECT * FROM...)`)\n",
    "- Window Functions: perform a comprehensive calculation across a set of table rows\n",
    "- Control Structures: perform complicated data manipulations (`CASE...WHEN...END CASE`, `IF...THEN...ELSE...END IF`)"
   ]
  },
  {
   "cell_type": "code",
   "execution_count": 34,
   "metadata": {
    "slideshow": {
     "slide_type": "subslide"
    }
   },
   "outputs": [
    {
     "data": {
      "text/html": [
       "<div>\n",
       "<style scoped>\n",
       "    .dataframe tbody tr th:only-of-type {\n",
       "        vertical-align: middle;\n",
       "    }\n",
       "\n",
       "    .dataframe tbody tr th {\n",
       "        vertical-align: top;\n",
       "    }\n",
       "\n",
       "    .dataframe thead th {\n",
       "        text-align: right;\n",
       "    }\n",
       "</style>\n",
       "<table border=\"1\" class=\"dataframe\">\n",
       "  <thead>\n",
       "    <tr style=\"text-align: right;\">\n",
       "      <th></th>\n",
       "      <th>permno</th>\n",
       "      <th>ret</th>\n",
       "      <th>avg_ret</th>\n",
       "      <th>abnorm_ret</th>\n",
       "    </tr>\n",
       "  </thead>\n",
       "  <tbody>\n",
       "    <tr>\n",
       "      <th>0</th>\n",
       "      <td>10107.0</td>\n",
       "      <td>NaN</td>\n",
       "      <td>0.001124</td>\n",
       "      <td>NaN</td>\n",
       "    </tr>\n",
       "    <tr>\n",
       "      <th>1</th>\n",
       "      <td>10107.0</td>\n",
       "      <td>0.035714</td>\n",
       "      <td>0.001124</td>\n",
       "      <td>0.034590</td>\n",
       "    </tr>\n",
       "    <tr>\n",
       "      <th>2</th>\n",
       "      <td>10107.0</td>\n",
       "      <td>0.017241</td>\n",
       "      <td>0.001124</td>\n",
       "      <td>0.016117</td>\n",
       "    </tr>\n",
       "    <tr>\n",
       "      <th>3</th>\n",
       "      <td>10107.0</td>\n",
       "      <td>-0.025424</td>\n",
       "      <td>0.001124</td>\n",
       "      <td>-0.026548</td>\n",
       "    </tr>\n",
       "    <tr>\n",
       "      <th>4</th>\n",
       "      <td>10107.0</td>\n",
       "      <td>-0.017391</td>\n",
       "      <td>0.001124</td>\n",
       "      <td>-0.018515</td>\n",
       "    </tr>\n",
       "  </tbody>\n",
       "</table>\n",
       "</div>"
      ],
      "text/plain": [
       "    permno       ret   avg_ret  abnorm_ret\n",
       "0  10107.0       NaN  0.001124         NaN\n",
       "1  10107.0  0.035714  0.001124    0.034590\n",
       "2  10107.0  0.017241  0.001124    0.016117\n",
       "3  10107.0 -0.025424  0.001124   -0.026548\n",
       "4  10107.0 -0.017391  0.001124   -0.018515"
      ]
     },
     "execution_count": 34,
     "metadata": {},
     "output_type": "execute_result"
    }
   ],
   "source": [
    "# SQL quary statment\n",
    "stmt = \"\"\"\n",
    "SELECT permno, ret, \n",
    "AVG(ret) OVER (PARTITION BY permno) AS avg_ret, \n",
    "ret - AVG(ret) OVER (PARTITION BY permno) AS abnorm_ret\n",
    "FROM crsp.dsf\n",
    "WHERE permno IN (14593, 10107)\n",
    "\"\"\"\n",
    "\n",
    "# Connect to WRDS PostgreSQL databases\n",
    "conn.raw_sql(stmt).head()"
   ]
  }
 ],
 "metadata": {
  "celltoolbar": "Slideshow",
  "kernelspec": {
   "display_name": "Python 3",
   "language": "python",
   "name": "python3"
  },
  "language_info": {
   "codemirror_mode": {
    "name": "ipython",
    "version": 3
   },
   "file_extension": ".py",
   "mimetype": "text/x-python",
   "name": "python",
   "nbconvert_exporter": "python",
   "pygments_lexer": "ipython3",
   "version": "3.6.8"
  }
 },
 "nbformat": 4,
 "nbformat_minor": 2
}
