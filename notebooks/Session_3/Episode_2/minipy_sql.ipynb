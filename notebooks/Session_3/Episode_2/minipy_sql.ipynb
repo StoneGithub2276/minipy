{
 "cells": [
  {
   "cell_type": "markdown",
   "metadata": {
    "slideshow": {
     "slide_type": "slide"
    }
   },
   "source": [
    "# PostgreSQL & WRDS\n",
    "by Dr Liang Jin\n",
    "\n",
    "- Part of Mini Python Sessions: [github.com/drliangjin/minipy](https://github.com/drliangjin/minipy)\n",
    "\n",
    "- Official Guide/Documentation of PostgreSQL: [www.postgresql.org/docs](https://www.postgresql.org/docs/current/tutorial.html)\n",
    "\n",
    "- WRDS Python Connection: [wrds-www.wharton.upenn.edu](https://wrds-www.wharton.upenn.edu/pages/support/programming-wrds/programming-python/python-from-your-computer/)"
   ]
  },
  {
   "cell_type": "markdown",
   "metadata": {
    "slideshow": {
     "slide_type": "slide"
    }
   },
   "source": [
    "## Connect WRDS"
   ]
  },
  {
   "cell_type": "markdown",
   "metadata": {},
   "source": [
    "### Initial Setup"
   ]
  },
  {
   "cell_type": "code",
   "execution_count": null,
   "metadata": {},
   "outputs": [],
   "source": [
    "# Install WRDS and associated modules necessary using pip\n",
    "try:\n",
    "    import wrds\n",
    "except ImportError:\n",
    "    !pip install wrds"
   ]
  },
  {
   "cell_type": "code",
   "execution_count": null,
   "metadata": {},
   "outputs": [],
   "source": [
    "# Create a connection to WRDS server\n",
    "# You will be asked for your username and passwords\n",
    "\n",
    "conn = wrds.Connection()"
   ]
  },
  {
   "cell_type": "markdown",
   "metadata": {},
   "source": [
    "### Create pgpass file (OPTIONAL)"
   ]
  },
  {
   "cell_type": "code",
   "execution_count": null,
   "metadata": {},
   "outputs": [],
   "source": [
    "# store your passwords locally!\n",
    "\n",
    "# conn.create_pgpass_file()\n",
    "\n",
    "# Test connection using stored passwords\n",
    "# conn = wrds.Connection(wrds_username = username)"
   ]
  },
  {
   "cell_type": "markdown",
   "metadata": {
    "slideshow": {
     "slide_type": "slide"
    }
   },
   "source": [
    "### WRDS data Workflow"
   ]
  },
  {
   "cell_type": "markdown",
   "metadata": {
    "slideshow": {
     "slide_type": "slide"
    }
   },
   "source": [
    "#### Datasets Overview"
   ]
  },
  {
   "cell_type": "code",
   "execution_count": null,
   "metadata": {
    "slideshow": {
     "slide_type": "subslide"
    }
   },
   "outputs": [],
   "source": [
    "# get all WRDS databases/libraries/Schema\n",
    "conn.list_libraries()"
   ]
  },
  {
   "cell_type": "code",
   "execution_count": null,
   "metadata": {
    "slideshow": {
     "slide_type": "subslide"
    }
   },
   "outputs": [],
   "source": [
    "# get all tables stores in a specific library\n",
    "conn.list_tables(library = 'crsp')"
   ]
  },
  {
   "cell_type": "code",
   "execution_count": null,
   "metadata": {
    "slideshow": {
     "slide_type": "subslide"
    }
   },
   "outputs": [],
   "source": [
    "# determine the column headers within a given dataset\n",
    "conn.describe_table(library = \"crsp\", table = \"dse\")"
   ]
  },
  {
   "cell_type": "markdown",
   "metadata": {},
   "source": [
    "#### Peek into a dataset"
   ]
  },
  {
   "cell_type": "code",
   "execution_count": null,
   "metadata": {},
   "outputs": [],
   "source": [
    "# get_table approach\n",
    "# limit our queries\n",
    "conn.get_table(library = \"crsp\", table = \"dsf\", columns = [\"cusip, permno, permco, date, prc, openprc, bid, bidlo, ask, askhi, vol, ret, retx\"], obs = 10)"
   ]
  },
  {
   "cell_type": "markdown",
   "metadata": {
    "slideshow": {
     "slide_type": "slide"
    }
   },
   "source": [
    "## SQL & PostgreSQL"
   ]
  },
  {
   "cell_type": "markdown",
   "metadata": {},
   "source": [
    "SQL, or Structured Query Language, is a language designed to allow both technical and non-technical users:\n",
    "\n",
    "- query data\n",
    "- manipulate data\n",
    "- transform data\n",
    "\n",
    "from relational databases. PostgreSQL is arguably the best open-source relational database, others include MySQL, Oracle and Microsoft SQL server."
   ]
  },
  {
   "cell_type": "markdown",
   "metadata": {
    "slideshow": {
     "slide_type": "slide"
    }
   },
   "source": [
    "##### Basic syntax (1):\n",
    "- `SELECT`: retrieve data\n",
    "- `FROM`: from a table using a format of **library.table**\n",
    "- `LIMIT`: limit observations, or we will stuck with a large data table for a very very long time..."
   ]
  },
  {
   "cell_type": "code",
   "execution_count": null,
   "metadata": {
    "slideshow": {
     "slide_type": "subslide"
    }
   },
   "outputs": [],
   "source": [
    "# SQL quary statment\n",
    "\n",
    "stmt = \"\"\"\n",
    "SELECT * \n",
    "FROM crsp.dsf \n",
    "LIMIT 10\n",
    "\"\"\"\n",
    "\n",
    "# Connect to WRDS PostgreSQL databases\n",
    "conn.raw_sql(stmt)"
   ]
  },
  {
   "cell_type": "markdown",
   "metadata": {
    "slideshow": {
     "slide_type": "slide"
    }
   },
   "source": [
    "##### Basic syntax (2):\n",
    "- `*`: all columns in a table\n",
    "- alternative: we can pick the columns we want"
   ]
  },
  {
   "cell_type": "code",
   "execution_count": null,
   "metadata": {
    "slideshow": {
     "slide_type": "subslide"
    }
   },
   "outputs": [],
   "source": [
    "# SQL quary statment\n",
    "\n",
    "stmt = \"\"\"\n",
    "SELECT cusip, permno, permco, date, prc, openprc, bid, bidlo, ask, askhi, vol, ret, retx\n",
    "FROM crsp.dsf\n",
    "LIMIT 10\n",
    "\"\"\"\n",
    "\n",
    "# Connect to WRDS PostgreSQL databases\n",
    "conn.raw_sql(stmt).info()"
   ]
  },
  {
   "cell_type": "markdown",
   "metadata": {
    "slideshow": {
     "slide_type": "slide"
    }
   },
   "source": [
    "##### Basic syntax (3):\n",
    "- `WHERE`: we can send queries with constrains\n",
    "- `AND/OR`: more conditions\n",
    "- `NULL`: select query with null or non-null value\n",
    "\n",
    "*Numerical Operators*\n",
    "- `=, !=, <, <=, >, >=`: standard numerical operators\n",
    "- `BETWEEN...AND...`: number is within range of two values (inclusive)\n",
    "- `IN`: number exists in a list\n",
    "- `NOT`: not..."
   ]
  },
  {
   "cell_type": "code",
   "execution_count": null,
   "metadata": {},
   "outputs": [],
   "source": [
    "# Demo\n",
    "\n",
    "# SQL quary statment\n",
    "stmt = \"\"\"\n",
    "SELECT cusip, permno, permco, date, prc, openprc, bid, bidlo, ask, askhi, vol, ret, retx\n",
    "FROM crsp.dsf\n",
    "WHERE permno = 14593\n",
    "\"\"\"\n",
    "\n",
    "# Connect to WRDS PostgreSQL databases\n",
    "conn.raw_sql(stmt).head()"
   ]
  },
  {
   "cell_type": "markdown",
   "metadata": {
    "slideshow": {
     "slide_type": "slide"
    }
   },
   "source": [
    "## Task Set 1:\n",
    "1. Find the data with permno: permno: 14593 and 10107 (Apple and Microsoft)\n",
    "2. Find the above data with date between 01/01/2000 and 31/12/2018, \n",
    "3. Find the above data with returns higher than 10%"
   ]
  },
  {
   "cell_type": "markdown",
   "metadata": {},
   "source": [
    "#### Basic syntax (4):\n",
    "- `ORDER BY`: select query with ordered results\n",
    "- `LIMIT` and `OFFSET`(optional): select query with limited results"
   ]
  },
  {
   "cell_type": "code",
   "execution_count": null,
   "metadata": {},
   "outputs": [],
   "source": [
    "# Demo\n",
    "\n",
    "# SQL quary statment\n",
    "stmt = \"\"\"\n",
    "SELECT cusip, permno, permco, date, prc, openprc, bid, bidlo, ask, askhi, vol, ret, retx\n",
    "FROM crsp.dsf\n",
    "ORDER BY cusip DESC\n",
    "LIMIT 100 OFFSET 10\n",
    "\"\"\"\n",
    "\n",
    "# Connect to WRDS PostgreSQL databases\n",
    "conn.raw_sql(stmt).head()"
   ]
  },
  {
   "cell_type": "markdown",
   "metadata": {},
   "source": [
    "#### Intermedia Syntax (1)\n",
    "- `INNER JOIN`:\n",
    "- `LEFT JOIN` and `RIGHT JOIN`:\n",
    "- `OUTER JOIN`:"
   ]
  },
  {
   "cell_type": "code",
   "execution_count": null,
   "metadata": {},
   "outputs": [],
   "source": [
    "# Demo\n",
    "\n",
    "# SQL quary statment\n",
    "dsf = \"\"\"\n",
    "SELECT permno, date, prc, ret\n",
    "FROM crsp.dsf\n",
    "WHERE permno = 14593\n",
    "ORDER BY date DESC\n",
    "LIMIT 10\n",
    "\"\"\"\n",
    "\n",
    "# Connect to WRDS PostgreSQL databases\n",
    "conn.raw_sql(dsf)"
   ]
  },
  {
   "cell_type": "code",
   "execution_count": null,
   "metadata": {},
   "outputs": [],
   "source": [
    "# Demo\n",
    "\n",
    "# SQL quary statment\n",
    "dse = \"\"\"\n",
    "SELECT permno, date, event\n",
    "FROM crsp.dse\n",
    "WHERE permno = 14593\n",
    "ORDER BY date DESC\n",
    "LIMIT 10\n",
    "\"\"\"\n",
    "\n",
    "# Connect to WRDS PostgreSQL databases\n",
    "conn.raw_sql(dse)"
   ]
  },
  {
   "cell_type": "code",
   "execution_count": null,
   "metadata": {},
   "outputs": [],
   "source": [
    "# Demo\n",
    "\n",
    "# SQL quary statment\n",
    "join = \"\"\"\n",
    "SELECT crsp.dsf.permno, crsp.dsf.date, crsp.dsf.prc, crsp.dsf.ret, crsp.dse.event\n",
    "FROM crsp.dsf\n",
    "INNER JOIN crsp.dse\n",
    "ON crsp.dsf.permno = crsp.dse.permno\n",
    "AND crsp.dsf.date =  crsp.dse.date\n",
    "WHERE crsp.dsf.permno = 14593\n",
    "ORDER BY date DESC\n",
    "LIMIT 10\n",
    "\"\"\"\n",
    "\n",
    "# Connect to WRDS PostgreSQL databases\n",
    "conn.raw_sql(join).head()\n",
    "\n",
    "# Try INNER/LEFT/RIGHT/OUTER"
   ]
  },
  {
   "cell_type": "markdown",
   "metadata": {},
   "source": [
    "### Task Set 2:\n",
    "- Try INNER/LEFT/RIGHT/OUTER JOIN"
   ]
  },
  {
   "cell_type": "markdown",
   "metadata": {},
   "source": [
    "#### Intermedia Syntax (2):\n",
    "- `AS`: regular columns and even tables can have aliases to make them easier to reference"
   ]
  },
  {
   "cell_type": "code",
   "execution_count": null,
   "metadata": {},
   "outputs": [],
   "source": [
    "# Demo\n",
    "\n",
    "# SQL quary statment\n",
    "join = \"\"\"\n",
    "SELECT a.permno, a.date, a.prc AS price, a.ret * 100 AS return, b.event\n",
    "FROM crsp.dsf AS a\n",
    "INNER JOIN crsp.dse AS b\n",
    "ON a.permno = b.permno\n",
    "AND a.date =  b.date\n",
    "WHERE a.permno = 14593\n",
    "ORDER BY a.date DESC\n",
    "LIMIT 10\n",
    "\"\"\"\n",
    "\n",
    "# Connect to WRDS PostgreSQL databases\n",
    "conn.raw_sql(join).head()\n",
    "\n",
    "# Try INNER/LEFT/RIGHT/OUTER"
   ]
  },
  {
   "cell_type": "markdown",
   "metadata": {},
   "source": [
    "#### Intermedia Syntax (3):\n",
    "- `AGG_FUNC` (e.g., `AVG`, `MAX` and so on): aggregate expressions that allow us to summarize information about a group of rows of data\n",
    "- `DISTINCT`: remove duplicates\n",
    "- `GROUP BY`: specify individual groups\n",
    "- `HAVING`: a `WHERE` condition for the `GROUP BY` clause to filter grouped rows from the result set"
   ]
  },
  {
   "cell_type": "code",
   "execution_count": null,
   "metadata": {
    "scrolled": true
   },
   "outputs": [],
   "source": [
    "# Demo\n",
    "\n",
    "# SQL quary statment\n",
    "stmt = \"\"\"\n",
    "SELECT permno, MAX(prc) AS max_prc, AVG(ret) AS avg_ret\n",
    "FROM crsp.dsf\n",
    "WHERE permno IN (14593, 10107)\n",
    "GROUP BY permno\n",
    "\"\"\"\n",
    "\n",
    "# Connect to WRDS PostgreSQL databases\n",
    "conn.raw_sql(stmt)"
   ]
  },
  {
   "cell_type": "markdown",
   "metadata": {},
   "source": [
    "#### Advanced Features:\n",
    "- Sub-queries: nest queries to allow complicated dataset transformation (for example, `FROM (SELECT * FROM...)`)\n",
    "- Window Functions: perform a comprehensive calculation across a set of table rows"
   ]
  },
  {
   "cell_type": "code",
   "execution_count": null,
   "metadata": {},
   "outputs": [],
   "source": [
    "# SQL quary statment\n",
    "stmt = \"\"\"\n",
    "SELECT permno, ret, \n",
    "AVG(ret) OVER (PARTITION BY permno) AS avg_ret, \n",
    "ret - AVG(ret) OVER (PARTITION BY permno) AS abnorm_ret\n",
    "FROM crsp.dsf\n",
    "WHERE permno IN (14593, 10107)\n",
    "\"\"\"\n",
    "\n",
    "# Connect to WRDS PostgreSQL databases\n",
    "conn.raw_sql(stmt)"
   ]
  }
 ],
 "metadata": {
  "celltoolbar": "Slideshow",
  "kernelspec": {
   "display_name": "Python 3",
   "language": "python",
   "name": "python3"
  },
  "language_info": {
   "codemirror_mode": {
    "name": "ipython",
    "version": 3
   },
   "file_extension": ".py",
   "mimetype": "text/x-python",
   "name": "python",
   "nbconvert_exporter": "python",
   "pygments_lexer": "ipython3",
   "version": "3.6.8"
  }
 },
 "nbformat": 4,
 "nbformat_minor": 2
}
