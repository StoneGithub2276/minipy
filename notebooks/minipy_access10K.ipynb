{
 "cells": [
  {
   "cell_type": "markdown",
   "metadata": {
    "slideshow": {
     "slide_type": "slide"
    }
   },
   "source": [
    "# Web Data Extraction (1)\n",
    "by Dr Liang Jin\n",
    "\n",
    "- Step 1: access crawler.idx files from SEC EDGAR\n",
    "- Step 2: re-write crawler data to csv files\n",
    "- Step 3: retrieve 10K filing information including URLs\n",
    "- Step 4: read text from html"
   ]
  },
  {
   "cell_type": "markdown",
   "metadata": {
    "slideshow": {
     "slide_type": "slide"
    }
   },
   "source": [
    "## Step 0: Setup..."
   ]
  },
  {
   "cell_type": "code",
   "execution_count": null,
   "metadata": {
    "slideshow": {
     "slide_type": "subslide"
    }
   },
   "outputs": [],
   "source": [
    "# import packages as usual\n",
    "import os, requests, csv, webbrowser\n",
    "from urllib.request import urlopen, urlretrieve\n",
    "from bs4 import BeautifulSoup"
   ]
  },
  {
   "cell_type": "code",
   "execution_count": null,
   "metadata": {
    "slideshow": {
     "slide_type": "subslide"
    }
   },
   "outputs": [],
   "source": [
    "# define some global variables such as sample periods\n",
    "beg_yr = 2016\n",
    "end_yr = 2017"
   ]
  },
  {
   "cell_type": "markdown",
   "metadata": {
    "slideshow": {
     "slide_type": "slide"
    }
   },
   "source": [
    "## Step 1: Access Crawler.idx Files...\n",
    "SEC stores tons of filings in its archives and fortunately they provide index files. We can access to the index files using following url as an example:\n",
    "\n",
    "[https://www.sec.gov/Archives/edgar/full-index/](https://www.sec.gov/Archives/edgar/full-index/)\n",
    "\n",
    "And individual crawler.idx files are stored in a structured way:\n",
    "\n",
    "`https://www.sec.gov/Archives/edgar/full-index/{}/{}/crawler.idx`\n",
    "where `{ }/{ }` are year and quarter"
   ]
  },
  {
   "cell_type": "code",
   "execution_count": null,
   "metadata": {
    "slideshow": {
     "slide_type": "slide"
    }
   },
   "outputs": [],
   "source": [
    "# create a list containning all the URLs for .idx file\n",
    "idx_urls = []\n",
    "for year in range(beg_yr, end_yr+1):\n",
    "    for qtr in ['QTR1', 'QTR2', 'QTR3', 'QTR4']:\n",
    "        idx_url = 'https://www.sec.gov/Archives/edgar/full-index/{}/{}/crawler.idx'.format(year, qtr)\n",
    "        idx_urls.append(idx_url)"
   ]
  },
  {
   "cell_type": "code",
   "execution_count": null,
   "metadata": {
    "slideshow": {
     "slide_type": "subslide"
    }
   },
   "outputs": [],
   "source": [
    "# check on our URLs\n",
    "idx_urls"
   ]
  },
  {
   "cell_type": "code",
   "execution_count": null,
   "metadata": {
    "slideshow": {
     "slide_type": "slide"
    }
   },
   "outputs": [],
   "source": [
    "# let's try downloading one of the files\n",
    "urlretrieve(idx_urls[0], './example.idx');"
   ]
  },
  {
   "cell_type": "markdown",
   "metadata": {
    "slideshow": {
     "slide_type": "subslide"
    }
   },
   "source": [
    "### Task 1: Have a look at the downloaded file?"
   ]
  },
  {
   "cell_type": "markdown",
   "metadata": {
    "slideshow": {
     "slide_type": "slide"
    }
   },
   "source": [
    "## Step 2: Rewrite Crawler data into CSV files...\n",
    "The original Crawler.idx files come with extra information:\n",
    "- **Company Name**: hmmm...not really useful\n",
    "- **Form Type**: i.e., 10K, 10Q and others\n",
    "- **CIK**: Central Index Key, claimed to be unique key to identify entities in SEC universe\n",
    "- **Date Filed**: the exact filing date, NOTE, it is not necessary to be the reporting date\n",
    "- **URL**: filing page address which contains the link to the actual filing in HTML format\n",
    "- **Meta-data** on the crawler.idx itself\n",
    "- **Other information** including headers and seperators"
   ]
  },
  {
   "cell_type": "markdown",
   "metadata": {
    "slideshow": {
     "slide_type": "slide"
    }
   },
   "source": [
    "### Retrieve the data inside the .idx file"
   ]
  },
  {
   "cell_type": "code",
   "execution_count": null,
   "metadata": {
    "slideshow": {
     "slide_type": "subslide"
    }
   },
   "outputs": [],
   "source": [
    "# Ok, let's get cracking\n",
    "url = idx_urls[0]\n",
    "\n",
    "# use requests package to access the contents\n",
    "r = requests.get(url)\n",
    "\n",
    "# then focus on the text data only and split the whole file into lines\n",
    "lines = r.text.splitlines()"
   ]
  },
  {
   "cell_type": "markdown",
   "metadata": {
    "slideshow": {
     "slide_type": "slide"
    }
   },
   "source": [
    "### Raw data processing"
   ]
  },
  {
   "cell_type": "code",
   "execution_count": null,
   "metadata": {
    "slideshow": {
     "slide_type": "subslide"
    }
   },
   "outputs": [],
   "source": [
    "# Let's peek the contents\n",
    "lines[:10]"
   ]
  },
  {
   "cell_type": "code",
   "execution_count": null,
   "metadata": {
    "slideshow": {
     "slide_type": "subslide"
    }
   },
   "outputs": [],
   "source": [
    "# identify the location of the header row\n",
    "# its the eighth row, so in Python the index is 7\n",
    "header_loc = 7\n",
    "# double check\n",
    "lines[header_loc]"
   ]
  },
  {
   "cell_type": "code",
   "execution_count": null,
   "metadata": {
    "slideshow": {
     "slide_type": "subslide"
    }
   },
   "outputs": [],
   "source": [
    "# retrieve the location of individual columns\n",
    "name_loc = lines[header_loc].find('Company Name')\n",
    "type_loc = lines[header_loc].find('Form Type')\n",
    "cik_loc = lines[header_loc].find('CIK')\n",
    "date_loc = lines[header_loc].find('Date Filed')\n",
    "url_loc = lines[header_loc].find('URL')"
   ]
  },
  {
   "cell_type": "markdown",
   "metadata": {
    "slideshow": {
     "slide_type": "slide"
    }
   },
   "source": [
    "### Re-organise the data"
   ]
  },
  {
   "cell_type": "code",
   "execution_count": null,
   "metadata": {
    "slideshow": {
     "slide_type": "subslide"
    }
   },
   "outputs": [],
   "source": [
    "# identify the location of the first row\n",
    "# its NO.10 row, so in Python the index is 9\n",
    "firstdata_loc = 9\n",
    "# double check\n",
    "lines[firstdata_loc]"
   ]
  },
  {
   "cell_type": "code",
   "execution_count": null,
   "metadata": {
    "slideshow": {
     "slide_type": "subslide"
    }
   },
   "outputs": [],
   "source": [
    "# create an empty list\n",
    "rows = []\n",
    "\n",
    "# loop through lines in .idx file\n",
    "for line in lines[firstdata_loc:]:\n",
    "    \n",
    "    # collect the data from the begining until the char before 485BPOS (Form Type)\n",
    "    # then strip the string, i.e., removing the heading and trailing white spaces\n",
    "    company_name = line[:type_loc].strip()\n",
    "    form_type = line[type_loc:cik_loc].strip()\n",
    "    cik = line[cik_loc:date_loc].strip()\n",
    "    date_filed = line[date_loc:url_loc].strip()\n",
    "    page_url = line[url_loc:].strip()\n",
    "    \n",
    "    # store these collected data to a row (tuple)\n",
    "    row = (company_name, form_type, cik, date_filed, page_url)\n",
    "    # then append this row to the empty list rows\n",
    "    rows.append(row)"
   ]
  },
  {
   "cell_type": "markdown",
   "metadata": {
    "slideshow": {
     "slide_type": "slide"
    }
   },
   "source": [
    "### Task 2: Can you update the codes to store 10-K file only?"
   ]
  },
  {
   "cell_type": "code",
   "execution_count": null,
   "metadata": {
    "slideshow": {
     "slide_type": "slide"
    }
   },
   "outputs": [],
   "source": [
    "# peek again\n",
    "rows[:5]"
   ]
  },
  {
   "cell_type": "markdown",
   "metadata": {
    "slideshow": {
     "slide_type": "slide"
    }
   },
   "source": [
    "### Write to CSV file"
   ]
  },
  {
   "cell_type": "code",
   "execution_count": null,
   "metadata": {
    "slideshow": {
     "slide_type": "subslide"
    }
   },
   "outputs": [],
   "source": [
    "# where to write?\n",
    "# define directory to store data\n",
    "csv_dir = './CSV/' # recommend to put this on top\n",
    "\n",
    "# a future-proof way to create directory\n",
    "# only create the folder when there is no existing one\n",
    "if not os.path.isdir(csv_dir):\n",
    "    os.mkdir(csv_dir)"
   ]
  },
  {
   "cell_type": "code",
   "execution_count": null,
   "metadata": {
    "slideshow": {
     "slide_type": "subslide"
    }
   },
   "outputs": [],
   "source": [
    "# But file names? since we will have multiple files to process eventually\n",
    "\n",
    "# create file name based on the original idx file\n",
    "_ = url.split('/')\n",
    "_"
   ]
  },
  {
   "cell_type": "markdown",
   "metadata": {
    "slideshow": {
     "slide_type": "fragment"
    }
   },
   "source": [
    "How about create a sensible naming scheme can be easily refered to?\n",
    "\n",
    "How about something like **2017Q4**?"
   ]
  },
  {
   "cell_type": "code",
   "execution_count": null,
   "metadata": {
    "slideshow": {
     "slide_type": "subslide"
    }
   },
   "outputs": [],
   "source": [
    "# get year from idx URL\n",
    "file_yr = url.split('/')[-3]\n",
    "\n",
    "# get quarter from idx URL\n",
    "file_qtr = url.split('/')[-2][-1]\n",
    "\n",
    "# Combine year, quarter, and extension to create file name\n",
    "file_name = file_yr + \"Q\" + file_qtr + '.csv'\n",
    "\n",
    "# then create a path so that we can write the data to local drive\n",
    "file_path = os.path.join(csv_dir, file_name)"
   ]
  },
  {
   "cell_type": "code",
   "execution_count": null,
   "metadata": {
    "slideshow": {
     "slide_type": "fragment"
    }
   },
   "outputs": [],
   "source": [
    "# Check on the path\n",
    "file_path"
   ]
  },
  {
   "cell_type": "code",
   "execution_count": null,
   "metadata": {
    "slideshow": {
     "slide_type": "slide"
    }
   },
   "outputs": [],
   "source": [
    "# create and write to csv file\n",
    "with open(file_path, 'w') as wf:\n",
    "    writer = csv.writer(wf, delimiter = ',')\n",
    "    writer.writerows(rows)"
   ]
  },
  {
   "cell_type": "markdown",
   "metadata": {
    "slideshow": {
     "slide_type": "slide"
    }
   },
   "source": [
    "### Task 3: Can you loop through idx files from 2016 to 2017?"
   ]
  }
 ],
 "metadata": {
  "celltoolbar": "Slideshow",
  "kernelspec": {
   "display_name": "Python 3",
   "language": "python",
   "name": "python3"
  },
  "language_info": {
   "codemirror_mode": {
    "name": "ipython",
    "version": 3
   },
   "file_extension": ".py",
   "mimetype": "text/x-python",
   "name": "python",
   "nbconvert_exporter": "python",
   "pygments_lexer": "ipython3",
   "version": "3.7.3"
  }
 },
 "nbformat": 4,
 "nbformat_minor": 2
}
