{
 "cells": [
  {
   "cell_type": "markdown",
   "metadata": {
    "slideshow": {
     "slide_type": "slide"
    }
   },
   "source": [
    "# Fama-French Risk Factors SML & HML\n",
    "by Dr Liang Jin\n",
    "\n",
    "Part of Mini Python Sessions: [github.com/drliangjin/minipy](https://github.com/drliangjin/minipy)\n",
    "\n",
    "Based on the Python example on WRDS by Qingyi Song Drechsler: [Fama-French Factors (Python)](https://wrds-www.wharton.upenn.edu/pages/support/applications/risk-factors-and-industry-benchmarks/fama-french-factors-python/)"
   ]
  },
  {
   "cell_type": "markdown",
   "metadata": {
    "slideshow": {
     "slide_type": "slide"
    }
   },
   "source": [
    "### Import external packages"
   ]
  },
  {
   "cell_type": "code",
   "execution_count": 1,
   "metadata": {
    "slideshow": {
     "slide_type": "fragment"
    }
   },
   "outputs": [],
   "source": [
    "# import pacakges\n",
    "import pandas as pd\n",
    "import numpy as np\n",
    "import datetime as dt\n",
    "import wrds\n",
    "#import psycopg2 \n",
    "import matplotlib.pyplot as plt\n",
    "from dateutil.relativedelta import *\n",
    "from pandas.tseries.offsets import *\n",
    "from scipy import stats"
   ]
  },
  {
   "cell_type": "markdown",
   "metadata": {
    "slideshow": {
     "slide_type": "slide"
    }
   },
   "source": [
    "### Connect to WRDS"
   ]
  },
  {
   "cell_type": "code",
   "execution_count": 63,
   "metadata": {
    "slideshow": {
     "slide_type": "fragment"
    }
   },
   "outputs": [
    {
     "name": "stdout",
     "output_type": "stream",
     "text": [
      "Enter your WRDS username [liang]:jinlums\n",
      "Enter your password:········\n",
      "WRDS recommends setting up a .pgpass file.\n",
      "You can find more info here:\n",
      "https://www.postgresql.org/docs/9.5/static/libpq-pgpass.html.\n",
      "Loading library list...\n",
      "Done\n"
     ]
    }
   ],
   "source": [
    "# WRDS Connection\n",
    "conn = wrds.Connection()"
   ]
  },
  {
   "cell_type": "markdown",
   "metadata": {
    "slideshow": {
     "slide_type": "slide"
    }
   },
   "source": [
    "### General Settings"
   ]
  },
  {
   "cell_type": "code",
   "execution_count": 3,
   "metadata": {
    "slideshow": {
     "slide_type": "fragment"
    }
   },
   "outputs": [],
   "source": [
    "# pre-define the sample periods\n",
    "COMPUSTAT_BEG_DATE = '01/01/1959'\n",
    "CRSP_BEG_DATE = '01/01/1959'\n",
    "CRSP_END_DATE = '12/31/2017'"
   ]
  },
  {
   "cell_type": "markdown",
   "metadata": {
    "slideshow": {
     "slide_type": "slide"
    }
   },
   "source": [
    "### Retrieving Compustat Data"
   ]
  },
  {
   "cell_type": "code",
   "execution_count": 4,
   "metadata": {
    "slideshow": {
     "slide_type": "fragment"
    }
   },
   "outputs": [],
   "source": [
    "# Postgres Query\n",
    "stmt = \"\"\"\n",
    "          SELECT gvkey, datadate, at, pstkl, txditc, pstkrv, seq, pstk\n",
    "          FROM comp.funda\n",
    "          WHERE indfmt='INDL' \n",
    "          AND datafmt='STD'\n",
    "          AND popsrc='D'\n",
    "          AND consol='C'\n",
    "          AND datadate >= '{}'\n",
    "       \"\"\".format(COMPUSTAT_BEG_DATE)\n",
    "comp = conn.raw_sql(stmt)"
   ]
  },
  {
   "cell_type": "markdown",
   "metadata": {
    "slideshow": {
     "slide_type": "slide"
    }
   },
   "source": [
    "### Work on Compustat Data"
   ]
  },
  {
   "cell_type": "code",
   "execution_count": 6,
   "metadata": {
    "slideshow": {
     "slide_type": "fragment"
    }
   },
   "outputs": [],
   "source": [
    "# set date and time to the standard format recognised by Pandas and other packages\n",
    "comp['datadate']=pd.to_datetime(comp['datadate'])\n",
    "\n",
    "# create a new variable for year\n",
    "comp['year']=comp['datadate'].dt.year"
   ]
  },
  {
   "cell_type": "code",
   "execution_count": 7,
   "metadata": {
    "slideshow": {
     "slide_type": "subslide"
    }
   },
   "outputs": [
    {
     "name": "stdout",
     "output_type": "stream",
     "text": [
      "<class 'pandas.core.frame.DataFrame'>\n",
      "RangeIndex: 499800 entries, 0 to 499799\n",
      "Data columns (total 9 columns):\n",
      "gvkey       499800 non-null object\n",
      "datadate    499800 non-null datetime64[ns]\n",
      "at          431177 non-null float64\n",
      "pstkl       429857 non-null float64\n",
      "txditc      395617 non-null float64\n",
      "pstkrv      427630 non-null float64\n",
      "seq         419769 non-null float64\n",
      "pstk        427502 non-null float64\n",
      "year        499800 non-null int64\n",
      "dtypes: datetime64[ns](1), float64(6), int64(1), object(1)\n",
      "memory usage: 34.3+ MB\n"
     ]
    },
    {
     "data": {
      "text/html": [
       "<div>\n",
       "<style scoped>\n",
       "    .dataframe tbody tr th:only-of-type {\n",
       "        vertical-align: middle;\n",
       "    }\n",
       "\n",
       "    .dataframe tbody tr th {\n",
       "        vertical-align: top;\n",
       "    }\n",
       "\n",
       "    .dataframe thead th {\n",
       "        text-align: right;\n",
       "    }\n",
       "</style>\n",
       "<table border=\"1\" class=\"dataframe\">\n",
       "  <thead>\n",
       "    <tr style=\"text-align: right;\">\n",
       "      <th></th>\n",
       "      <th>gvkey</th>\n",
       "      <th>datadate</th>\n",
       "      <th>at</th>\n",
       "      <th>pstkl</th>\n",
       "      <th>txditc</th>\n",
       "      <th>pstkrv</th>\n",
       "      <th>seq</th>\n",
       "      <th>pstk</th>\n",
       "      <th>year</th>\n",
       "    </tr>\n",
       "  </thead>\n",
       "  <tbody>\n",
       "    <tr>\n",
       "      <th>0</th>\n",
       "      <td>001000</td>\n",
       "      <td>1961-12-31</td>\n",
       "      <td>NaN</td>\n",
       "      <td>0.0</td>\n",
       "      <td>0.000</td>\n",
       "      <td>NaN</td>\n",
       "      <td>NaN</td>\n",
       "      <td>NaN</td>\n",
       "      <td>1961</td>\n",
       "    </tr>\n",
       "    <tr>\n",
       "      <th>1</th>\n",
       "      <td>001000</td>\n",
       "      <td>1962-12-31</td>\n",
       "      <td>NaN</td>\n",
       "      <td>0.0</td>\n",
       "      <td>NaN</td>\n",
       "      <td>NaN</td>\n",
       "      <td>NaN</td>\n",
       "      <td>0.0</td>\n",
       "      <td>1962</td>\n",
       "    </tr>\n",
       "    <tr>\n",
       "      <th>2</th>\n",
       "      <td>001000</td>\n",
       "      <td>1963-12-31</td>\n",
       "      <td>NaN</td>\n",
       "      <td>0.0</td>\n",
       "      <td>0.008</td>\n",
       "      <td>0.0</td>\n",
       "      <td>0.553</td>\n",
       "      <td>0.0</td>\n",
       "      <td>1963</td>\n",
       "    </tr>\n",
       "    <tr>\n",
       "      <th>3</th>\n",
       "      <td>001000</td>\n",
       "      <td>1964-12-31</td>\n",
       "      <td>1.416</td>\n",
       "      <td>0.0</td>\n",
       "      <td>0.020</td>\n",
       "      <td>0.0</td>\n",
       "      <td>0.607</td>\n",
       "      <td>0.0</td>\n",
       "      <td>1964</td>\n",
       "    </tr>\n",
       "    <tr>\n",
       "      <th>4</th>\n",
       "      <td>001000</td>\n",
       "      <td>1965-12-31</td>\n",
       "      <td>2.310</td>\n",
       "      <td>0.0</td>\n",
       "      <td>0.000</td>\n",
       "      <td>0.0</td>\n",
       "      <td>0.491</td>\n",
       "      <td>0.0</td>\n",
       "      <td>1965</td>\n",
       "    </tr>\n",
       "  </tbody>\n",
       "</table>\n",
       "</div>"
      ],
      "text/plain": [
       "    gvkey   datadate     at  pstkl  txditc  pstkrv    seq  pstk  year\n",
       "0  001000 1961-12-31    NaN    0.0   0.000     NaN    NaN   NaN  1961\n",
       "1  001000 1962-12-31    NaN    0.0     NaN     NaN    NaN   0.0  1962\n",
       "2  001000 1963-12-31    NaN    0.0   0.008     0.0  0.553   0.0  1963\n",
       "3  001000 1964-12-31  1.416    0.0   0.020     0.0  0.607   0.0  1964\n",
       "4  001000 1965-12-31  2.310    0.0   0.000     0.0  0.491   0.0  1965"
      ]
     },
     "execution_count": 7,
     "metadata": {},
     "output_type": "execute_result"
    }
   ],
   "source": [
    "# check data\n",
    "comp.info()\n",
    "comp.head()"
   ]
  },
  {
   "cell_type": "markdown",
   "metadata": {
    "slideshow": {
     "slide_type": "slide"
    }
   },
   "source": [
    "### Deal with prefered stock"
   ]
  },
  {
   "cell_type": "code",
   "execution_count": 8,
   "metadata": {
    "slideshow": {
     "slide_type": "fragment"
    }
   },
   "outputs": [],
   "source": [
    "# if pstkrv is missing, then use pstkl ==>\n",
    "comp['ps'] = np.where(comp['pstkrv'].isnull(), comp['pstkl'], comp['pstkrv'])\n",
    "\n",
    "# if created ps is missing, then use pstk ==>\n",
    "comp['ps'] = np.where(comp['ps'].isnull(),comp['pstk'], comp['ps'])\n",
    "\n",
    "# if ps is still missing, then assign 0\n",
    "comp['ps'] = np.where(comp['ps'].isnull(),0,comp['ps'])"
   ]
  },
  {
   "cell_type": "code",
   "execution_count": 9,
   "metadata": {
    "slideshow": {
     "slide_type": "subslide"
    }
   },
   "outputs": [
    {
     "data": {
      "text/plain": [
       "count    499800.000000\n",
       "mean         25.043483\n",
       "std        1075.263139\n",
       "min        -101.000000\n",
       "25%           0.000000\n",
       "50%           0.000000\n",
       "75%           0.000000\n",
       "max      526300.000000\n",
       "Name: ps, dtype: float64"
      ]
     },
     "execution_count": 9,
     "metadata": {},
     "output_type": "execute_result"
    }
   ],
   "source": [
    "# again check prefered stock we just created\n",
    "comp['ps'].describe()"
   ]
  },
  {
   "cell_type": "markdown",
   "metadata": {
    "slideshow": {
     "slide_type": "slide"
    }
   },
   "source": [
    "### Book Value of Equity"
   ]
  },
  {
   "cell_type": "code",
   "execution_count": 10,
   "metadata": {
    "slideshow": {
     "slide_type": "fragment"
    }
   },
   "outputs": [],
   "source": [
    "# assign 0 to txditc ==>\n",
    "comp['txditc'] = comp['txditc'].fillna(0)\n",
    "\n",
    "# create a variable, be, for book value of equity ... broadcasting\n",
    "comp['be'] = comp['seq'] + comp['txditc'] - comp['ps']\n",
    "\n",
    "# if be is negative, replaced by NaN \n",
    "comp['be'] = np.where(comp['be'] > 0, comp['be'], np.nan)"
   ]
  },
  {
   "cell_type": "code",
   "execution_count": 11,
   "metadata": {
    "slideshow": {
     "slide_type": "subslide"
    }
   },
   "outputs": [
    {
     "data": {
      "text/plain": [
       "count    378367.000000\n",
       "mean       1013.919581\n",
       "std        6170.248438\n",
       "min           0.001000\n",
       "25%          10.298500\n",
       "50%          52.390000\n",
       "75%         284.706000\n",
       "max      404478.000000\n",
       "Name: be, dtype: float64"
      ]
     },
     "execution_count": 11,
     "metadata": {},
     "output_type": "execute_result"
    }
   ],
   "source": [
    "# check book value of equity\n",
    "comp['be'].describe()"
   ]
  },
  {
   "cell_type": "markdown",
   "metadata": {
    "slideshow": {
     "slide_type": "slide"
    }
   },
   "source": [
    "### House cleanning"
   ]
  },
  {
   "cell_type": "code",
   "execution_count": 12,
   "metadata": {
    "slideshow": {
     "slide_type": "fragment"
    }
   },
   "outputs": [],
   "source": [
    "# sort values so that the dataframe is constructed by id and time\n",
    "comp = comp.sort_values(by=['gvkey','datadate']) # gvkey is the primary company id\n",
    "\n",
    "# count obs? starting from 0 to length of the group -1\n",
    "comp['count'] = comp.groupby(['gvkey']).cumcount()\n",
    "\n",
    "# house cleanning\n",
    "comp = comp[['gvkey','datadate','year','be','count']]"
   ]
  },
  {
   "cell_type": "code",
   "execution_count": 13,
   "metadata": {
    "slideshow": {
     "slide_type": "subslide"
    }
   },
   "outputs": [
    {
     "name": "stdout",
     "output_type": "stream",
     "text": [
      "<class 'pandas.core.frame.DataFrame'>\n",
      "Int64Index: 499800 entries, 0 to 499799\n",
      "Data columns (total 5 columns):\n",
      "gvkey       499800 non-null object\n",
      "datadate    499800 non-null datetime64[ns]\n",
      "year        499800 non-null int64\n",
      "be          378367 non-null float64\n",
      "count       499800 non-null int64\n",
      "dtypes: datetime64[ns](1), float64(1), int64(2), object(1)\n",
      "memory usage: 22.9+ MB\n"
     ]
    },
    {
     "data": {
      "text/html": [
       "<div>\n",
       "<style scoped>\n",
       "    .dataframe tbody tr th:only-of-type {\n",
       "        vertical-align: middle;\n",
       "    }\n",
       "\n",
       "    .dataframe tbody tr th {\n",
       "        vertical-align: top;\n",
       "    }\n",
       "\n",
       "    .dataframe thead th {\n",
       "        text-align: right;\n",
       "    }\n",
       "</style>\n",
       "<table border=\"1\" class=\"dataframe\">\n",
       "  <thead>\n",
       "    <tr style=\"text-align: right;\">\n",
       "      <th></th>\n",
       "      <th>gvkey</th>\n",
       "      <th>datadate</th>\n",
       "      <th>year</th>\n",
       "      <th>be</th>\n",
       "      <th>count</th>\n",
       "    </tr>\n",
       "  </thead>\n",
       "  <tbody>\n",
       "    <tr>\n",
       "      <th>0</th>\n",
       "      <td>001000</td>\n",
       "      <td>1961-12-31</td>\n",
       "      <td>1961</td>\n",
       "      <td>NaN</td>\n",
       "      <td>0</td>\n",
       "    </tr>\n",
       "    <tr>\n",
       "      <th>1</th>\n",
       "      <td>001000</td>\n",
       "      <td>1962-12-31</td>\n",
       "      <td>1962</td>\n",
       "      <td>NaN</td>\n",
       "      <td>1</td>\n",
       "    </tr>\n",
       "    <tr>\n",
       "      <th>2</th>\n",
       "      <td>001000</td>\n",
       "      <td>1963-12-31</td>\n",
       "      <td>1963</td>\n",
       "      <td>0.561</td>\n",
       "      <td>2</td>\n",
       "    </tr>\n",
       "    <tr>\n",
       "      <th>3</th>\n",
       "      <td>001000</td>\n",
       "      <td>1964-12-31</td>\n",
       "      <td>1964</td>\n",
       "      <td>0.627</td>\n",
       "      <td>3</td>\n",
       "    </tr>\n",
       "    <tr>\n",
       "      <th>4</th>\n",
       "      <td>001000</td>\n",
       "      <td>1965-12-31</td>\n",
       "      <td>1965</td>\n",
       "      <td>0.491</td>\n",
       "      <td>4</td>\n",
       "    </tr>\n",
       "    <tr>\n",
       "      <th>5</th>\n",
       "      <td>001000</td>\n",
       "      <td>1966-12-31</td>\n",
       "      <td>1966</td>\n",
       "      <td>0.834</td>\n",
       "      <td>5</td>\n",
       "    </tr>\n",
       "    <tr>\n",
       "      <th>6</th>\n",
       "      <td>001000</td>\n",
       "      <td>1967-12-31</td>\n",
       "      <td>1967</td>\n",
       "      <td>0.744</td>\n",
       "      <td>6</td>\n",
       "    </tr>\n",
       "    <tr>\n",
       "      <th>7</th>\n",
       "      <td>001000</td>\n",
       "      <td>1968-12-31</td>\n",
       "      <td>1968</td>\n",
       "      <td>2.571</td>\n",
       "      <td>7</td>\n",
       "    </tr>\n",
       "    <tr>\n",
       "      <th>8</th>\n",
       "      <td>001000</td>\n",
       "      <td>1969-12-31</td>\n",
       "      <td>1969</td>\n",
       "      <td>10.211</td>\n",
       "      <td>8</td>\n",
       "    </tr>\n",
       "    <tr>\n",
       "      <th>9</th>\n",
       "      <td>001000</td>\n",
       "      <td>1970-12-31</td>\n",
       "      <td>1970</td>\n",
       "      <td>10.544</td>\n",
       "      <td>9</td>\n",
       "    </tr>\n",
       "    <tr>\n",
       "      <th>10</th>\n",
       "      <td>001000</td>\n",
       "      <td>1971-12-31</td>\n",
       "      <td>1971</td>\n",
       "      <td>8.382</td>\n",
       "      <td>10</td>\n",
       "    </tr>\n",
       "    <tr>\n",
       "      <th>11</th>\n",
       "      <td>001000</td>\n",
       "      <td>1972-12-31</td>\n",
       "      <td>1972</td>\n",
       "      <td>7.309</td>\n",
       "      <td>11</td>\n",
       "    </tr>\n",
       "    <tr>\n",
       "      <th>13</th>\n",
       "      <td>001000</td>\n",
       "      <td>1973-12-31</td>\n",
       "      <td>1973</td>\n",
       "      <td>8.798</td>\n",
       "      <td>12</td>\n",
       "    </tr>\n",
       "    <tr>\n",
       "      <th>14</th>\n",
       "      <td>001000</td>\n",
       "      <td>1974-12-31</td>\n",
       "      <td>1974</td>\n",
       "      <td>8.279</td>\n",
       "      <td>13</td>\n",
       "    </tr>\n",
       "    <tr>\n",
       "      <th>15</th>\n",
       "      <td>001000</td>\n",
       "      <td>1975-12-31</td>\n",
       "      <td>1975</td>\n",
       "      <td>11.020</td>\n",
       "      <td>14</td>\n",
       "    </tr>\n",
       "    <tr>\n",
       "      <th>17</th>\n",
       "      <td>001000</td>\n",
       "      <td>1976-12-31</td>\n",
       "      <td>1976</td>\n",
       "      <td>15.527</td>\n",
       "      <td>15</td>\n",
       "    </tr>\n",
       "    <tr>\n",
       "      <th>18</th>\n",
       "      <td>001000</td>\n",
       "      <td>1977-12-31</td>\n",
       "      <td>1977</td>\n",
       "      <td>17.673</td>\n",
       "      <td>16</td>\n",
       "    </tr>\n",
       "    <tr>\n",
       "      <th>19</th>\n",
       "      <td>001001</td>\n",
       "      <td>1978-12-31</td>\n",
       "      <td>1978</td>\n",
       "      <td>NaN</td>\n",
       "      <td>0</td>\n",
       "    </tr>\n",
       "    <tr>\n",
       "      <th>20</th>\n",
       "      <td>001001</td>\n",
       "      <td>1979-12-31</td>\n",
       "      <td>1979</td>\n",
       "      <td>NaN</td>\n",
       "      <td>1</td>\n",
       "    </tr>\n",
       "    <tr>\n",
       "      <th>21</th>\n",
       "      <td>001001</td>\n",
       "      <td>1980-12-31</td>\n",
       "      <td>1980</td>\n",
       "      <td>NaN</td>\n",
       "      <td>2</td>\n",
       "    </tr>\n",
       "  </tbody>\n",
       "</table>\n",
       "</div>"
      ],
      "text/plain": [
       "     gvkey   datadate  year      be  count\n",
       "0   001000 1961-12-31  1961     NaN      0\n",
       "1   001000 1962-12-31  1962     NaN      1\n",
       "2   001000 1963-12-31  1963   0.561      2\n",
       "3   001000 1964-12-31  1964   0.627      3\n",
       "4   001000 1965-12-31  1965   0.491      4\n",
       "5   001000 1966-12-31  1966   0.834      5\n",
       "6   001000 1967-12-31  1967   0.744      6\n",
       "7   001000 1968-12-31  1968   2.571      7\n",
       "8   001000 1969-12-31  1969  10.211      8\n",
       "9   001000 1970-12-31  1970  10.544      9\n",
       "10  001000 1971-12-31  1971   8.382     10\n",
       "11  001000 1972-12-31  1972   7.309     11\n",
       "13  001000 1973-12-31  1973   8.798     12\n",
       "14  001000 1974-12-31  1974   8.279     13\n",
       "15  001000 1975-12-31  1975  11.020     14\n",
       "17  001000 1976-12-31  1976  15.527     15\n",
       "18  001000 1977-12-31  1977  17.673     16\n",
       "19  001001 1978-12-31  1978     NaN      0\n",
       "20  001001 1979-12-31  1979     NaN      1\n",
       "21  001001 1980-12-31  1980     NaN      2"
      ]
     },
     "execution_count": 13,
     "metadata": {},
     "output_type": "execute_result"
    }
   ],
   "source": [
    "comp.info()\n",
    "comp.head(20)"
   ]
  },
  {
   "cell_type": "markdown",
   "metadata": {
    "slideshow": {
     "slide_type": "slide"
    }
   },
   "source": [
    "### Retrieving CRSP stock data"
   ]
  },
  {
   "cell_type": "code",
   "execution_count": 14,
   "metadata": {
    "slideshow": {
     "slide_type": "fragment"
    }
   },
   "outputs": [],
   "source": [
    "# sql for returning a merged crsp price dataset\n",
    "# its a large dataset, takes time to run\n",
    "stmt = \"\"\"\n",
    "          SELECT a.permno, a.permco, a.date, a.ret, a.retx, a.shrout, a.prc,\n",
    "                 b.shrcd, b.exchcd\n",
    "          FROM crsp.msf AS a\n",
    "          LEFT JOIN crsp.msenames AS b\n",
    "          ON a.permno=b.permno\n",
    "          AND b.namedt<=a.date\n",
    "          AND a.date<=b.nameendt\n",
    "          WHERE a.date BETWEEN '{}' AND '{}'\n",
    "          AND b.exchcd BETWEEN 1 AND 3\n",
    "       \"\"\".format(CRSP_BEG_DATE, CRSP_END_DATE)\n",
    "crsp_m = conn.raw_sql(stmt)"
   ]
  },
  {
   "cell_type": "code",
   "execution_count": 15,
   "metadata": {
    "slideshow": {
     "slide_type": "fragment"
    }
   },
   "outputs": [
    {
     "name": "stdout",
     "output_type": "stream",
     "text": [
      "<class 'pandas.core.frame.DataFrame'>\n",
      "RangeIndex: 3838338 entries, 0 to 3838337\n",
      "Data columns (total 9 columns):\n",
      "permno    float64\n",
      "permco    float64\n",
      "date      object\n",
      "ret       float64\n",
      "retx      float64\n",
      "shrout    float64\n",
      "prc       float64\n",
      "shrcd     float64\n",
      "exchcd    float64\n",
      "dtypes: float64(8), object(1)\n",
      "memory usage: 263.6+ MB\n"
     ]
    },
    {
     "data": {
      "text/html": [
       "<div>\n",
       "<style scoped>\n",
       "    .dataframe tbody tr th:only-of-type {\n",
       "        vertical-align: middle;\n",
       "    }\n",
       "\n",
       "    .dataframe tbody tr th {\n",
       "        vertical-align: top;\n",
       "    }\n",
       "\n",
       "    .dataframe thead th {\n",
       "        text-align: right;\n",
       "    }\n",
       "</style>\n",
       "<table border=\"1\" class=\"dataframe\">\n",
       "  <thead>\n",
       "    <tr style=\"text-align: right;\">\n",
       "      <th></th>\n",
       "      <th>permno</th>\n",
       "      <th>permco</th>\n",
       "      <th>date</th>\n",
       "      <th>ret</th>\n",
       "      <th>retx</th>\n",
       "      <th>shrout</th>\n",
       "      <th>prc</th>\n",
       "      <th>shrcd</th>\n",
       "      <th>exchcd</th>\n",
       "    </tr>\n",
       "  </thead>\n",
       "  <tbody>\n",
       "    <tr>\n",
       "      <th>0</th>\n",
       "      <td>10000.0</td>\n",
       "      <td>7952.0</td>\n",
       "      <td>1986-01-31</td>\n",
       "      <td>NaN</td>\n",
       "      <td>NaN</td>\n",
       "      <td>3680.0</td>\n",
       "      <td>-4.375000</td>\n",
       "      <td>10.0</td>\n",
       "      <td>3.0</td>\n",
       "    </tr>\n",
       "    <tr>\n",
       "      <th>1</th>\n",
       "      <td>10000.0</td>\n",
       "      <td>7952.0</td>\n",
       "      <td>1986-02-28</td>\n",
       "      <td>-0.257143</td>\n",
       "      <td>-0.257143</td>\n",
       "      <td>3680.0</td>\n",
       "      <td>-3.250000</td>\n",
       "      <td>10.0</td>\n",
       "      <td>3.0</td>\n",
       "    </tr>\n",
       "    <tr>\n",
       "      <th>2</th>\n",
       "      <td>10000.0</td>\n",
       "      <td>7952.0</td>\n",
       "      <td>1986-03-31</td>\n",
       "      <td>0.365385</td>\n",
       "      <td>0.365385</td>\n",
       "      <td>3680.0</td>\n",
       "      <td>-4.437500</td>\n",
       "      <td>10.0</td>\n",
       "      <td>3.0</td>\n",
       "    </tr>\n",
       "    <tr>\n",
       "      <th>3</th>\n",
       "      <td>10000.0</td>\n",
       "      <td>7952.0</td>\n",
       "      <td>1986-04-30</td>\n",
       "      <td>-0.098592</td>\n",
       "      <td>-0.098592</td>\n",
       "      <td>3793.0</td>\n",
       "      <td>-4.000000</td>\n",
       "      <td>10.0</td>\n",
       "      <td>3.0</td>\n",
       "    </tr>\n",
       "    <tr>\n",
       "      <th>4</th>\n",
       "      <td>10000.0</td>\n",
       "      <td>7952.0</td>\n",
       "      <td>1986-05-30</td>\n",
       "      <td>-0.222656</td>\n",
       "      <td>-0.222656</td>\n",
       "      <td>3793.0</td>\n",
       "      <td>-3.109375</td>\n",
       "      <td>10.0</td>\n",
       "      <td>3.0</td>\n",
       "    </tr>\n",
       "  </tbody>\n",
       "</table>\n",
       "</div>"
      ],
      "text/plain": [
       "    permno  permco        date       ret      retx  shrout       prc  shrcd  \\\n",
       "0  10000.0  7952.0  1986-01-31       NaN       NaN  3680.0 -4.375000   10.0   \n",
       "1  10000.0  7952.0  1986-02-28 -0.257143 -0.257143  3680.0 -3.250000   10.0   \n",
       "2  10000.0  7952.0  1986-03-31  0.365385  0.365385  3680.0 -4.437500   10.0   \n",
       "3  10000.0  7952.0  1986-04-30 -0.098592 -0.098592  3793.0 -4.000000   10.0   \n",
       "4  10000.0  7952.0  1986-05-30 -0.222656 -0.222656  3793.0 -3.109375   10.0   \n",
       "\n",
       "   exchcd  \n",
       "0     3.0  \n",
       "1     3.0  \n",
       "2     3.0  \n",
       "3     3.0  \n",
       "4     3.0  "
      ]
     },
     "execution_count": 15,
     "metadata": {},
     "output_type": "execute_result"
    }
   ],
   "source": [
    "# check data\n",
    "crsp_m.info()\n",
    "crsp_m.head()"
   ]
  },
  {
   "cell_type": "markdown",
   "metadata": {
    "slideshow": {
     "slide_type": "slide"
    }
   },
   "source": [
    "### Data cleanning"
   ]
  },
  {
   "cell_type": "code",
   "execution_count": 17,
   "metadata": {
    "slideshow": {
     "slide_type": "fragment"
    }
   },
   "outputs": [],
   "source": [
    "# change variable format to int\n",
    "crsp_m[['permco','permno','shrcd','exchcd']] = crsp_m[['permco','permno','shrcd','exchcd']].astype(int)\n",
    "\n",
    "# personally, I like to set all the identifications to be strings...because of the annoying trailing zeros"
   ]
  },
  {
   "cell_type": "code",
   "execution_count": 18,
   "metadata": {
    "slideshow": {
     "slide_type": "fragment"
    }
   },
   "outputs": [],
   "source": [
    "# format datatime\n",
    "crsp_m['date'] = pd.to_datetime(crsp_m['date'])\n",
    "\n",
    "# MonthEnd is a function from pandas.tseries.offsets\n",
    "# convert timestamp to current month end <= for easier merging purpose\n",
    "# MonthEnd(-1) move backwards by 1 month (last month end)\n",
    "# MonthEnd(1) next month end = MonthEnd(0)\n",
    "crsp_m['jdate'] = crsp_m['date'] + MonthEnd(0) # jdate stands for \"join date\", a consistent datetime to merge data"
   ]
  },
  {
   "cell_type": "markdown",
   "metadata": {
    "slideshow": {
     "slide_type": "slide"
    }
   },
   "source": [
    "### Add delisting return"
   ]
  },
  {
   "cell_type": "code",
   "execution_count": 19,
   "metadata": {
    "slideshow": {
     "slide_type": "fragment"
    }
   },
   "outputs": [],
   "source": [
    "# again, sql query\n",
    "dlret = conn.raw_sql(\"SELECT permno, dlret, dlstdt FROM crsp.msedelist\")\n",
    "\n",
    "# work on datetime\n",
    "dlret['dlstdt'] = pd.to_datetime(dlret['dlstdt'])\n",
    "dlret['jdate'] = dlret['dlstdt'] + MonthEnd(0)"
   ]
  },
  {
   "cell_type": "code",
   "execution_count": 20,
   "metadata": {
    "slideshow": {
     "slide_type": "fragment"
    }
   },
   "outputs": [],
   "source": [
    "# merge two datasets\n",
    "crsp = pd.merge(crsp_m, dlret, how='left',on=['permno','jdate'])"
   ]
  },
  {
   "cell_type": "markdown",
   "metadata": {
    "slideshow": {
     "slide_type": "slide"
    }
   },
   "source": [
    "### House cleaning"
   ]
  },
  {
   "cell_type": "code",
   "execution_count": 21,
   "metadata": {
    "slideshow": {
     "slide_type": "fragment"
    }
   },
   "outputs": [],
   "source": [
    "# house cleaning\n",
    "crsp['dlret'] = crsp['dlret'].fillna(0)\n",
    "crsp['ret'] = crsp['ret'].fillna(0)\n",
    "crsp['retadj'] = (1 + crsp['ret']) * (1 + crsp['dlret']) - 1\n",
    "crsp['me'] = crsp['prc'].abs() * crsp['shrout'] # calculate market equity\n",
    "crsp = crsp.drop(['dlret','dlstdt','prc','shrout'], axis = 1)\n",
    "crsp = crsp.sort_values(by = ['jdate','permco','me'])"
   ]
  },
  {
   "cell_type": "code",
   "execution_count": 22,
   "metadata": {
    "slideshow": {
     "slide_type": "slide"
    }
   },
   "outputs": [
    {
     "name": "stdout",
     "output_type": "stream",
     "text": [
      "<class 'pandas.core.frame.DataFrame'>\n",
      "Int64Index: 3838338 entries, 505102 to 3569983\n",
      "Data columns (total 10 columns):\n",
      "permno    int64\n",
      "permco    int64\n",
      "date      datetime64[ns]\n",
      "ret       float64\n",
      "retx      float64\n",
      "shrcd     int64\n",
      "exchcd    int64\n",
      "jdate     datetime64[ns]\n",
      "retadj    float64\n",
      "me        float64\n",
      "dtypes: datetime64[ns](2), float64(4), int64(4)\n",
      "memory usage: 322.1 MB\n"
     ]
    },
    {
     "data": {
      "text/html": [
       "<div>\n",
       "<style scoped>\n",
       "    .dataframe tbody tr th:only-of-type {\n",
       "        vertical-align: middle;\n",
       "    }\n",
       "\n",
       "    .dataframe tbody tr th {\n",
       "        vertical-align: top;\n",
       "    }\n",
       "\n",
       "    .dataframe thead th {\n",
       "        text-align: right;\n",
       "    }\n",
       "</style>\n",
       "<table border=\"1\" class=\"dataframe\">\n",
       "  <thead>\n",
       "    <tr style=\"text-align: right;\">\n",
       "      <th></th>\n",
       "      <th>permno</th>\n",
       "      <th>permco</th>\n",
       "      <th>date</th>\n",
       "      <th>ret</th>\n",
       "      <th>retx</th>\n",
       "      <th>shrcd</th>\n",
       "      <th>exchcd</th>\n",
       "      <th>jdate</th>\n",
       "      <th>retadj</th>\n",
       "      <th>me</th>\n",
       "    </tr>\n",
       "  </thead>\n",
       "  <tbody>\n",
       "    <tr>\n",
       "      <th>505102</th>\n",
       "      <td>17670</td>\n",
       "      <td>74</td>\n",
       "      <td>1959-01-30</td>\n",
       "      <td>0.016667</td>\n",
       "      <td>0.006410</td>\n",
       "      <td>10</td>\n",
       "      <td>1</td>\n",
       "      <td>1959-01-31</td>\n",
       "      <td>0.016667</td>\n",
       "      <td>17034.5</td>\n",
       "    </tr>\n",
       "    <tr>\n",
       "      <th>541198</th>\n",
       "      <td>18702</td>\n",
       "      <td>267</td>\n",
       "      <td>1959-01-30</td>\n",
       "      <td>0.149254</td>\n",
       "      <td>0.149254</td>\n",
       "      <td>10</td>\n",
       "      <td>1</td>\n",
       "      <td>1959-01-31</td>\n",
       "      <td>0.149254</td>\n",
       "      <td>28297.5</td>\n",
       "    </tr>\n",
       "    <tr>\n",
       "      <th>604317</th>\n",
       "      <td>20714</td>\n",
       "      <td>584</td>\n",
       "      <td>1959-01-30</td>\n",
       "      <td>0.129412</td>\n",
       "      <td>0.129412</td>\n",
       "      <td>10</td>\n",
       "      <td>1</td>\n",
       "      <td>1959-01-31</td>\n",
       "      <td>0.129412</td>\n",
       "      <td>40512.0</td>\n",
       "    </tr>\n",
       "    <tr>\n",
       "      <th>156117</th>\n",
       "      <td>11287</td>\n",
       "      <td>921</td>\n",
       "      <td>1959-01-30</td>\n",
       "      <td>0.097403</td>\n",
       "      <td>0.097403</td>\n",
       "      <td>10</td>\n",
       "      <td>1</td>\n",
       "      <td>1959-01-31</td>\n",
       "      <td>0.097403</td>\n",
       "      <td>37180.0</td>\n",
       "    </tr>\n",
       "    <tr>\n",
       "      <th>617212</th>\n",
       "      <td>21151</td>\n",
       "      <td>994</td>\n",
       "      <td>1959-01-30</td>\n",
       "      <td>0.009009</td>\n",
       "      <td>0.009009</td>\n",
       "      <td>10</td>\n",
       "      <td>1</td>\n",
       "      <td>1959-01-31</td>\n",
       "      <td>0.009009</td>\n",
       "      <td>14826.0</td>\n",
       "    </tr>\n",
       "  </tbody>\n",
       "</table>\n",
       "</div>"
      ],
      "text/plain": [
       "        permno  permco       date       ret      retx  shrcd  exchcd  \\\n",
       "505102   17670      74 1959-01-30  0.016667  0.006410     10       1   \n",
       "541198   18702     267 1959-01-30  0.149254  0.149254     10       1   \n",
       "604317   20714     584 1959-01-30  0.129412  0.129412     10       1   \n",
       "156117   11287     921 1959-01-30  0.097403  0.097403     10       1   \n",
       "617212   21151     994 1959-01-30  0.009009  0.009009     10       1   \n",
       "\n",
       "            jdate    retadj       me  \n",
       "505102 1959-01-31  0.016667  17034.5  \n",
       "541198 1959-01-31  0.149254  28297.5  \n",
       "604317 1959-01-31  0.129412  40512.0  \n",
       "156117 1959-01-31  0.097403  37180.0  \n",
       "617212 1959-01-31  0.009009  14826.0  "
      ]
     },
     "execution_count": 22,
     "metadata": {},
     "output_type": "execute_result"
    }
   ],
   "source": [
    "crsp.info()\n",
    "crsp.head()"
   ]
  },
  {
   "cell_type": "markdown",
   "metadata": {
    "slideshow": {
     "slide_type": "slide"
    }
   },
   "source": [
    "### Aggregate market-cap to company level"
   ]
  },
  {
   "cell_type": "code",
   "execution_count": 23,
   "metadata": {
    "slideshow": {
     "slide_type": "fragment"
    }
   },
   "outputs": [],
   "source": [
    "# sum of me across different permno belonging to same permco a given date\n",
    "crsp_summe = crsp.groupby(['jdate','permco'])['me'].sum().reset_index()\n",
    "# permno with largest mktcap in a permco/date\n",
    "crsp_maxme = crsp.groupby(['jdate','permco'])['me'].max().reset_index()\n",
    "\n",
    "# join by jdate/maxme to find the permno\n",
    "crsp1 = pd.merge(crsp, crsp_maxme, how = 'inner', on = ['jdate','permco','me'])\n",
    "# drop me column and replace with the sum me\n",
    "crsp1 = crsp1.drop(['me'], axis = 1)\n",
    "# join with sum of me to get the correct market cap info\n",
    "crsp2 = pd.merge(crsp1, crsp_summe, how = 'inner', on = ['jdate','permco'])\n",
    "# sort by permno and date and also drop duplicates\n",
    "crsp2 = crsp2.sort_values(by = ['permno','jdate']).drop_duplicates()"
   ]
  },
  {
   "cell_type": "code",
   "execution_count": 24,
   "metadata": {
    "slideshow": {
     "slide_type": "slide"
    }
   },
   "outputs": [
    {
     "name": "stdout",
     "output_type": "stream",
     "text": [
      "<class 'pandas.core.frame.DataFrame'>\n",
      "Int64Index: 3764430 entries, 1176176 to 3762625\n",
      "Data columns (total 10 columns):\n",
      "permno    int64\n",
      "permco    int64\n",
      "date      datetime64[ns]\n",
      "ret       float64\n",
      "retx      float64\n",
      "shrcd     int64\n",
      "exchcd    int64\n",
      "jdate     datetime64[ns]\n",
      "retadj    float64\n",
      "me        float64\n",
      "dtypes: datetime64[ns](2), float64(4), int64(4)\n",
      "memory usage: 315.9 MB\n"
     ]
    },
    {
     "data": {
      "text/html": [
       "<div>\n",
       "<style scoped>\n",
       "    .dataframe tbody tr th:only-of-type {\n",
       "        vertical-align: middle;\n",
       "    }\n",
       "\n",
       "    .dataframe tbody tr th {\n",
       "        vertical-align: top;\n",
       "    }\n",
       "\n",
       "    .dataframe thead th {\n",
       "        text-align: right;\n",
       "    }\n",
       "</style>\n",
       "<table border=\"1\" class=\"dataframe\">\n",
       "  <thead>\n",
       "    <tr style=\"text-align: right;\">\n",
       "      <th></th>\n",
       "      <th>permno</th>\n",
       "      <th>permco</th>\n",
       "      <th>date</th>\n",
       "      <th>ret</th>\n",
       "      <th>retx</th>\n",
       "      <th>shrcd</th>\n",
       "      <th>exchcd</th>\n",
       "      <th>jdate</th>\n",
       "      <th>retadj</th>\n",
       "      <th>me</th>\n",
       "    </tr>\n",
       "  </thead>\n",
       "  <tbody>\n",
       "    <tr>\n",
       "      <th>1176176</th>\n",
       "      <td>10000</td>\n",
       "      <td>7952</td>\n",
       "      <td>1986-01-31</td>\n",
       "      <td>0.000000</td>\n",
       "      <td>NaN</td>\n",
       "      <td>10</td>\n",
       "      <td>3</td>\n",
       "      <td>1986-01-31</td>\n",
       "      <td>0.000000</td>\n",
       "      <td>16100.000000</td>\n",
       "    </tr>\n",
       "    <tr>\n",
       "      <th>1182378</th>\n",
       "      <td>10000</td>\n",
       "      <td>7952</td>\n",
       "      <td>1986-02-28</td>\n",
       "      <td>-0.257143</td>\n",
       "      <td>-0.257143</td>\n",
       "      <td>10</td>\n",
       "      <td>3</td>\n",
       "      <td>1986-02-28</td>\n",
       "      <td>-0.257143</td>\n",
       "      <td>11960.000000</td>\n",
       "    </tr>\n",
       "    <tr>\n",
       "      <th>1188589</th>\n",
       "      <td>10000</td>\n",
       "      <td>7952</td>\n",
       "      <td>1986-03-31</td>\n",
       "      <td>0.365385</td>\n",
       "      <td>0.365385</td>\n",
       "      <td>10</td>\n",
       "      <td>3</td>\n",
       "      <td>1986-03-31</td>\n",
       "      <td>0.365385</td>\n",
       "      <td>16330.000000</td>\n",
       "    </tr>\n",
       "    <tr>\n",
       "      <th>1194810</th>\n",
       "      <td>10000</td>\n",
       "      <td>7952</td>\n",
       "      <td>1986-04-30</td>\n",
       "      <td>-0.098592</td>\n",
       "      <td>-0.098592</td>\n",
       "      <td>10</td>\n",
       "      <td>3</td>\n",
       "      <td>1986-04-30</td>\n",
       "      <td>-0.098592</td>\n",
       "      <td>15172.000000</td>\n",
       "    </tr>\n",
       "    <tr>\n",
       "      <th>1201041</th>\n",
       "      <td>10000</td>\n",
       "      <td>7952</td>\n",
       "      <td>1986-05-30</td>\n",
       "      <td>-0.222656</td>\n",
       "      <td>-0.222656</td>\n",
       "      <td>10</td>\n",
       "      <td>3</td>\n",
       "      <td>1986-05-31</td>\n",
       "      <td>-0.222656</td>\n",
       "      <td>11793.859375</td>\n",
       "    </tr>\n",
       "  </tbody>\n",
       "</table>\n",
       "</div>"
      ],
      "text/plain": [
       "         permno  permco       date       ret      retx  shrcd  exchcd  \\\n",
       "1176176   10000    7952 1986-01-31  0.000000       NaN     10       3   \n",
       "1182378   10000    7952 1986-02-28 -0.257143 -0.257143     10       3   \n",
       "1188589   10000    7952 1986-03-31  0.365385  0.365385     10       3   \n",
       "1194810   10000    7952 1986-04-30 -0.098592 -0.098592     10       3   \n",
       "1201041   10000    7952 1986-05-30 -0.222656 -0.222656     10       3   \n",
       "\n",
       "             jdate    retadj            me  \n",
       "1176176 1986-01-31  0.000000  16100.000000  \n",
       "1182378 1986-02-28 -0.257143  11960.000000  \n",
       "1188589 1986-03-31  0.365385  16330.000000  \n",
       "1194810 1986-04-30 -0.098592  15172.000000  \n",
       "1201041 1986-05-31 -0.222656  11793.859375  "
      ]
     },
     "execution_count": 24,
     "metadata": {},
     "output_type": "execute_result"
    }
   ],
   "source": [
    "# inspect databases\n",
    "crsp2.info()\n",
    "crsp2.head()"
   ]
  },
  {
   "cell_type": "markdown",
   "metadata": {
    "slideshow": {
     "slide_type": "slide"
    }
   },
   "source": [
    "### Work on FF datetime"
   ]
  },
  {
   "cell_type": "code",
   "execution_count": 25,
   "metadata": {
    "slideshow": {
     "slide_type": "fragment"
    }
   },
   "outputs": [],
   "source": [
    "# create year and month\n",
    "crsp2['year'] = crsp2['jdate'].dt.year\n",
    "crsp2['month'] = crsp2['jdate'].dt.month\n",
    "# keep December market cap\n",
    "decme = crsp2[crsp2['month'] == 12]\n",
    "# house keeping\n",
    "decme = decme[['permno','date','jdate','me','year']].rename(columns={'me':'dec_me'})"
   ]
  },
  {
   "cell_type": "code",
   "execution_count": 26,
   "metadata": {
    "slideshow": {
     "slide_type": "slide"
    }
   },
   "outputs": [
    {
     "name": "stdout",
     "output_type": "stream",
     "text": [
      "<class 'pandas.core.frame.DataFrame'>\n",
      "Int64Index: 317351 entries, 1246000 to 3762625\n",
      "Data columns (total 5 columns):\n",
      "permno    317351 non-null int64\n",
      "date      317351 non-null datetime64[ns]\n",
      "jdate     317351 non-null datetime64[ns]\n",
      "dec_me    317351 non-null float64\n",
      "year      317351 non-null int64\n",
      "dtypes: datetime64[ns](2), float64(1), int64(2)\n",
      "memory usage: 14.5 MB\n"
     ]
    },
    {
     "data": {
      "text/html": [
       "<div>\n",
       "<style scoped>\n",
       "    .dataframe tbody tr th:only-of-type {\n",
       "        vertical-align: middle;\n",
       "    }\n",
       "\n",
       "    .dataframe tbody tr th {\n",
       "        vertical-align: top;\n",
       "    }\n",
       "\n",
       "    .dataframe thead th {\n",
       "        text-align: right;\n",
       "    }\n",
       "</style>\n",
       "<table border=\"1\" class=\"dataframe\">\n",
       "  <thead>\n",
       "    <tr style=\"text-align: right;\">\n",
       "      <th></th>\n",
       "      <th>permno</th>\n",
       "      <th>date</th>\n",
       "      <th>jdate</th>\n",
       "      <th>dec_me</th>\n",
       "      <th>year</th>\n",
       "    </tr>\n",
       "  </thead>\n",
       "  <tbody>\n",
       "    <tr>\n",
       "      <th>1246000</th>\n",
       "      <td>10000</td>\n",
       "      <td>1986-12-31</td>\n",
       "      <td>1986-12-31</td>\n",
       "      <td>1981.546875</td>\n",
       "      <td>1986</td>\n",
       "    </tr>\n",
       "    <tr>\n",
       "      <th>1246001</th>\n",
       "      <td>10001</td>\n",
       "      <td>1986-12-31</td>\n",
       "      <td>1986-12-31</td>\n",
       "      <td>6937.000000</td>\n",
       "      <td>1986</td>\n",
       "    </tr>\n",
       "    <tr>\n",
       "      <th>1328049</th>\n",
       "      <td>10001</td>\n",
       "      <td>1987-12-31</td>\n",
       "      <td>1987-12-31</td>\n",
       "      <td>5828.000000</td>\n",
       "      <td>1987</td>\n",
       "    </tr>\n",
       "    <tr>\n",
       "      <th>1411147</th>\n",
       "      <td>10001</td>\n",
       "      <td>1988-12-30</td>\n",
       "      <td>1988-12-31</td>\n",
       "      <td>6362.250000</td>\n",
       "      <td>1988</td>\n",
       "    </tr>\n",
       "    <tr>\n",
       "      <th>1491927</th>\n",
       "      <td>10001</td>\n",
       "      <td>1989-12-29</td>\n",
       "      <td>1989-12-31</td>\n",
       "      <td>10347.750000</td>\n",
       "      <td>1989</td>\n",
       "    </tr>\n",
       "  </tbody>\n",
       "</table>\n",
       "</div>"
      ],
      "text/plain": [
       "         permno       date      jdate        dec_me  year\n",
       "1246000   10000 1986-12-31 1986-12-31   1981.546875  1986\n",
       "1246001   10001 1986-12-31 1986-12-31   6937.000000  1986\n",
       "1328049   10001 1987-12-31 1987-12-31   5828.000000  1987\n",
       "1411147   10001 1988-12-30 1988-12-31   6362.250000  1988\n",
       "1491927   10001 1989-12-29 1989-12-31  10347.750000  1989"
      ]
     },
     "execution_count": 26,
     "metadata": {},
     "output_type": "execute_result"
    }
   ],
   "source": [
    "decme.info()\n",
    "decme.head()"
   ]
  },
  {
   "cell_type": "code",
   "execution_count": 27,
   "metadata": {
    "slideshow": {
     "slide_type": "fragment"
    }
   },
   "outputs": [],
   "source": [
    "### July to June dates\n",
    "crsp2['ffdate'] = crsp2['jdate'] + MonthEnd(-6)\n",
    "crsp2['ffyear'] = crsp2['ffdate'].dt.year\n",
    "crsp2['ffmonth'] = crsp2['ffdate'].dt.month\n",
    "crsp2['1+retx'] = 1 + crsp2['retx']\n",
    "crsp2 = crsp2.sort_values(by = ['permno','date'])"
   ]
  },
  {
   "cell_type": "code",
   "execution_count": 28,
   "metadata": {},
   "outputs": [
    {
     "name": "stdout",
     "output_type": "stream",
     "text": [
      "<class 'pandas.core.frame.DataFrame'>\n",
      "Int64Index: 3764430 entries, 1176176 to 3762625\n",
      "Data columns (total 16 columns):\n",
      "permno     int64\n",
      "permco     int64\n",
      "date       datetime64[ns]\n",
      "ret        float64\n",
      "retx       float64\n",
      "shrcd      int64\n",
      "exchcd     int64\n",
      "jdate      datetime64[ns]\n",
      "retadj     float64\n",
      "me         float64\n",
      "year       int64\n",
      "month      int64\n",
      "ffdate     datetime64[ns]\n",
      "ffyear     int64\n",
      "ffmonth    int64\n",
      "1+retx     float64\n",
      "dtypes: datetime64[ns](3), float64(5), int64(8)\n",
      "memory usage: 488.2 MB\n"
     ]
    },
    {
     "data": {
      "text/html": [
       "<div>\n",
       "<style scoped>\n",
       "    .dataframe tbody tr th:only-of-type {\n",
       "        vertical-align: middle;\n",
       "    }\n",
       "\n",
       "    .dataframe tbody tr th {\n",
       "        vertical-align: top;\n",
       "    }\n",
       "\n",
       "    .dataframe thead th {\n",
       "        text-align: right;\n",
       "    }\n",
       "</style>\n",
       "<table border=\"1\" class=\"dataframe\">\n",
       "  <thead>\n",
       "    <tr style=\"text-align: right;\">\n",
       "      <th></th>\n",
       "      <th>permno</th>\n",
       "      <th>permco</th>\n",
       "      <th>date</th>\n",
       "      <th>ret</th>\n",
       "      <th>retx</th>\n",
       "      <th>shrcd</th>\n",
       "      <th>exchcd</th>\n",
       "      <th>jdate</th>\n",
       "      <th>retadj</th>\n",
       "      <th>me</th>\n",
       "      <th>year</th>\n",
       "      <th>month</th>\n",
       "      <th>ffdate</th>\n",
       "      <th>ffyear</th>\n",
       "      <th>ffmonth</th>\n",
       "      <th>1+retx</th>\n",
       "    </tr>\n",
       "  </thead>\n",
       "  <tbody>\n",
       "    <tr>\n",
       "      <th>1176176</th>\n",
       "      <td>10000</td>\n",
       "      <td>7952</td>\n",
       "      <td>1986-01-31</td>\n",
       "      <td>0.000000</td>\n",
       "      <td>NaN</td>\n",
       "      <td>10</td>\n",
       "      <td>3</td>\n",
       "      <td>1986-01-31</td>\n",
       "      <td>0.000000</td>\n",
       "      <td>16100.000000</td>\n",
       "      <td>1986</td>\n",
       "      <td>1</td>\n",
       "      <td>1985-07-31</td>\n",
       "      <td>1985</td>\n",
       "      <td>7</td>\n",
       "      <td>NaN</td>\n",
       "    </tr>\n",
       "    <tr>\n",
       "      <th>1182378</th>\n",
       "      <td>10000</td>\n",
       "      <td>7952</td>\n",
       "      <td>1986-02-28</td>\n",
       "      <td>-0.257143</td>\n",
       "      <td>-0.257143</td>\n",
       "      <td>10</td>\n",
       "      <td>3</td>\n",
       "      <td>1986-02-28</td>\n",
       "      <td>-0.257143</td>\n",
       "      <td>11960.000000</td>\n",
       "      <td>1986</td>\n",
       "      <td>2</td>\n",
       "      <td>1985-08-31</td>\n",
       "      <td>1985</td>\n",
       "      <td>8</td>\n",
       "      <td>0.742857</td>\n",
       "    </tr>\n",
       "    <tr>\n",
       "      <th>1188589</th>\n",
       "      <td>10000</td>\n",
       "      <td>7952</td>\n",
       "      <td>1986-03-31</td>\n",
       "      <td>0.365385</td>\n",
       "      <td>0.365385</td>\n",
       "      <td>10</td>\n",
       "      <td>3</td>\n",
       "      <td>1986-03-31</td>\n",
       "      <td>0.365385</td>\n",
       "      <td>16330.000000</td>\n",
       "      <td>1986</td>\n",
       "      <td>3</td>\n",
       "      <td>1985-09-30</td>\n",
       "      <td>1985</td>\n",
       "      <td>9</td>\n",
       "      <td>1.365385</td>\n",
       "    </tr>\n",
       "    <tr>\n",
       "      <th>1194810</th>\n",
       "      <td>10000</td>\n",
       "      <td>7952</td>\n",
       "      <td>1986-04-30</td>\n",
       "      <td>-0.098592</td>\n",
       "      <td>-0.098592</td>\n",
       "      <td>10</td>\n",
       "      <td>3</td>\n",
       "      <td>1986-04-30</td>\n",
       "      <td>-0.098592</td>\n",
       "      <td>15172.000000</td>\n",
       "      <td>1986</td>\n",
       "      <td>4</td>\n",
       "      <td>1985-10-31</td>\n",
       "      <td>1985</td>\n",
       "      <td>10</td>\n",
       "      <td>0.901408</td>\n",
       "    </tr>\n",
       "    <tr>\n",
       "      <th>1201041</th>\n",
       "      <td>10000</td>\n",
       "      <td>7952</td>\n",
       "      <td>1986-05-30</td>\n",
       "      <td>-0.222656</td>\n",
       "      <td>-0.222656</td>\n",
       "      <td>10</td>\n",
       "      <td>3</td>\n",
       "      <td>1986-05-31</td>\n",
       "      <td>-0.222656</td>\n",
       "      <td>11793.859375</td>\n",
       "      <td>1986</td>\n",
       "      <td>5</td>\n",
       "      <td>1985-11-30</td>\n",
       "      <td>1985</td>\n",
       "      <td>11</td>\n",
       "      <td>0.777344</td>\n",
       "    </tr>\n",
       "  </tbody>\n",
       "</table>\n",
       "</div>"
      ],
      "text/plain": [
       "         permno  permco       date       ret      retx  shrcd  exchcd  \\\n",
       "1176176   10000    7952 1986-01-31  0.000000       NaN     10       3   \n",
       "1182378   10000    7952 1986-02-28 -0.257143 -0.257143     10       3   \n",
       "1188589   10000    7952 1986-03-31  0.365385  0.365385     10       3   \n",
       "1194810   10000    7952 1986-04-30 -0.098592 -0.098592     10       3   \n",
       "1201041   10000    7952 1986-05-30 -0.222656 -0.222656     10       3   \n",
       "\n",
       "             jdate    retadj            me  year  month     ffdate  ffyear  \\\n",
       "1176176 1986-01-31  0.000000  16100.000000  1986      1 1985-07-31    1985   \n",
       "1182378 1986-02-28 -0.257143  11960.000000  1986      2 1985-08-31    1985   \n",
       "1188589 1986-03-31  0.365385  16330.000000  1986      3 1985-09-30    1985   \n",
       "1194810 1986-04-30 -0.098592  15172.000000  1986      4 1985-10-31    1985   \n",
       "1201041 1986-05-31 -0.222656  11793.859375  1986      5 1985-11-30    1985   \n",
       "\n",
       "         ffmonth    1+retx  \n",
       "1176176        7       NaN  \n",
       "1182378        8  0.742857  \n",
       "1188589        9  1.365385  \n",
       "1194810       10  0.901408  \n",
       "1201041       11  0.777344  "
      ]
     },
     "execution_count": 28,
     "metadata": {},
     "output_type": "execute_result"
    }
   ],
   "source": [
    "# inspect\n",
    "crsp2.info()\n",
    "crsp2.head()"
   ]
  },
  {
   "cell_type": "markdown",
   "metadata": {
    "slideshow": {
     "slide_type": "slide"
    }
   },
   "source": [
    "### Stock level characteristics"
   ]
  },
  {
   "cell_type": "code",
   "execution_count": 29,
   "metadata": {
    "slideshow": {
     "slide_type": "fragment"
    }
   },
   "outputs": [],
   "source": [
    "# cumret by stock\n",
    "crsp2['cumretx'] = crsp2.groupby(['permno','ffyear'])['1+retx'].cumprod()\n",
    "# lag cumret\n",
    "# should we sort data first? or otherwise we are getting wrong dates?\n",
    "crsp2['lcumretx'] = crsp2.groupby(['permno'])['cumretx'].shift(1) "
   ]
  },
  {
   "cell_type": "code",
   "execution_count": 30,
   "metadata": {},
   "outputs": [
    {
     "name": "stdout",
     "output_type": "stream",
     "text": [
      "<class 'pandas.core.frame.DataFrame'>\n",
      "Int64Index: 3764430 entries, 1176176 to 3762625\n",
      "Data columns (total 18 columns):\n",
      "permno      int64\n",
      "permco      int64\n",
      "date        datetime64[ns]\n",
      "ret         float64\n",
      "retx        float64\n",
      "shrcd       int64\n",
      "exchcd      int64\n",
      "jdate       datetime64[ns]\n",
      "retadj      float64\n",
      "me          float64\n",
      "year        int64\n",
      "month       int64\n",
      "ffdate      datetime64[ns]\n",
      "ffyear      int64\n",
      "ffmonth     int64\n",
      "1+retx      float64\n",
      "cumretx     float64\n",
      "lcumretx    float64\n",
      "dtypes: datetime64[ns](3), float64(7), int64(8)\n",
      "memory usage: 545.7 MB\n"
     ]
    },
    {
     "data": {
      "text/html": [
       "<div>\n",
       "<style scoped>\n",
       "    .dataframe tbody tr th:only-of-type {\n",
       "        vertical-align: middle;\n",
       "    }\n",
       "\n",
       "    .dataframe tbody tr th {\n",
       "        vertical-align: top;\n",
       "    }\n",
       "\n",
       "    .dataframe thead th {\n",
       "        text-align: right;\n",
       "    }\n",
       "</style>\n",
       "<table border=\"1\" class=\"dataframe\">\n",
       "  <thead>\n",
       "    <tr style=\"text-align: right;\">\n",
       "      <th></th>\n",
       "      <th>permno</th>\n",
       "      <th>permco</th>\n",
       "      <th>date</th>\n",
       "      <th>ret</th>\n",
       "      <th>retx</th>\n",
       "      <th>shrcd</th>\n",
       "      <th>exchcd</th>\n",
       "      <th>jdate</th>\n",
       "      <th>retadj</th>\n",
       "      <th>me</th>\n",
       "      <th>year</th>\n",
       "      <th>month</th>\n",
       "      <th>ffdate</th>\n",
       "      <th>ffyear</th>\n",
       "      <th>ffmonth</th>\n",
       "      <th>1+retx</th>\n",
       "      <th>cumretx</th>\n",
       "      <th>lcumretx</th>\n",
       "    </tr>\n",
       "  </thead>\n",
       "  <tbody>\n",
       "    <tr>\n",
       "      <th>1176176</th>\n",
       "      <td>10000</td>\n",
       "      <td>7952</td>\n",
       "      <td>1986-01-31</td>\n",
       "      <td>0.000000</td>\n",
       "      <td>NaN</td>\n",
       "      <td>10</td>\n",
       "      <td>3</td>\n",
       "      <td>1986-01-31</td>\n",
       "      <td>0.000000</td>\n",
       "      <td>16100.000000</td>\n",
       "      <td>1986</td>\n",
       "      <td>1</td>\n",
       "      <td>1985-07-31</td>\n",
       "      <td>1985</td>\n",
       "      <td>7</td>\n",
       "      <td>NaN</td>\n",
       "      <td>NaN</td>\n",
       "      <td>NaN</td>\n",
       "    </tr>\n",
       "    <tr>\n",
       "      <th>1182378</th>\n",
       "      <td>10000</td>\n",
       "      <td>7952</td>\n",
       "      <td>1986-02-28</td>\n",
       "      <td>-0.257143</td>\n",
       "      <td>-0.257143</td>\n",
       "      <td>10</td>\n",
       "      <td>3</td>\n",
       "      <td>1986-02-28</td>\n",
       "      <td>-0.257143</td>\n",
       "      <td>11960.000000</td>\n",
       "      <td>1986</td>\n",
       "      <td>2</td>\n",
       "      <td>1985-08-31</td>\n",
       "      <td>1985</td>\n",
       "      <td>8</td>\n",
       "      <td>0.742857</td>\n",
       "      <td>0.742857</td>\n",
       "      <td>NaN</td>\n",
       "    </tr>\n",
       "    <tr>\n",
       "      <th>1188589</th>\n",
       "      <td>10000</td>\n",
       "      <td>7952</td>\n",
       "      <td>1986-03-31</td>\n",
       "      <td>0.365385</td>\n",
       "      <td>0.365385</td>\n",
       "      <td>10</td>\n",
       "      <td>3</td>\n",
       "      <td>1986-03-31</td>\n",
       "      <td>0.365385</td>\n",
       "      <td>16330.000000</td>\n",
       "      <td>1986</td>\n",
       "      <td>3</td>\n",
       "      <td>1985-09-30</td>\n",
       "      <td>1985</td>\n",
       "      <td>9</td>\n",
       "      <td>1.365385</td>\n",
       "      <td>1.014286</td>\n",
       "      <td>0.742857</td>\n",
       "    </tr>\n",
       "    <tr>\n",
       "      <th>1194810</th>\n",
       "      <td>10000</td>\n",
       "      <td>7952</td>\n",
       "      <td>1986-04-30</td>\n",
       "      <td>-0.098592</td>\n",
       "      <td>-0.098592</td>\n",
       "      <td>10</td>\n",
       "      <td>3</td>\n",
       "      <td>1986-04-30</td>\n",
       "      <td>-0.098592</td>\n",
       "      <td>15172.000000</td>\n",
       "      <td>1986</td>\n",
       "      <td>4</td>\n",
       "      <td>1985-10-31</td>\n",
       "      <td>1985</td>\n",
       "      <td>10</td>\n",
       "      <td>0.901408</td>\n",
       "      <td>0.914286</td>\n",
       "      <td>1.014286</td>\n",
       "    </tr>\n",
       "    <tr>\n",
       "      <th>1201041</th>\n",
       "      <td>10000</td>\n",
       "      <td>7952</td>\n",
       "      <td>1986-05-30</td>\n",
       "      <td>-0.222656</td>\n",
       "      <td>-0.222656</td>\n",
       "      <td>10</td>\n",
       "      <td>3</td>\n",
       "      <td>1986-05-31</td>\n",
       "      <td>-0.222656</td>\n",
       "      <td>11793.859375</td>\n",
       "      <td>1986</td>\n",
       "      <td>5</td>\n",
       "      <td>1985-11-30</td>\n",
       "      <td>1985</td>\n",
       "      <td>11</td>\n",
       "      <td>0.777344</td>\n",
       "      <td>0.710714</td>\n",
       "      <td>0.914286</td>\n",
       "    </tr>\n",
       "  </tbody>\n",
       "</table>\n",
       "</div>"
      ],
      "text/plain": [
       "         permno  permco       date       ret      retx  shrcd  exchcd  \\\n",
       "1176176   10000    7952 1986-01-31  0.000000       NaN     10       3   \n",
       "1182378   10000    7952 1986-02-28 -0.257143 -0.257143     10       3   \n",
       "1188589   10000    7952 1986-03-31  0.365385  0.365385     10       3   \n",
       "1194810   10000    7952 1986-04-30 -0.098592 -0.098592     10       3   \n",
       "1201041   10000    7952 1986-05-30 -0.222656 -0.222656     10       3   \n",
       "\n",
       "             jdate    retadj            me  year  month     ffdate  ffyear  \\\n",
       "1176176 1986-01-31  0.000000  16100.000000  1986      1 1985-07-31    1985   \n",
       "1182378 1986-02-28 -0.257143  11960.000000  1986      2 1985-08-31    1985   \n",
       "1188589 1986-03-31  0.365385  16330.000000  1986      3 1985-09-30    1985   \n",
       "1194810 1986-04-30 -0.098592  15172.000000  1986      4 1985-10-31    1985   \n",
       "1201041 1986-05-31 -0.222656  11793.859375  1986      5 1985-11-30    1985   \n",
       "\n",
       "         ffmonth    1+retx   cumretx  lcumretx  \n",
       "1176176        7       NaN       NaN       NaN  \n",
       "1182378        8  0.742857  0.742857       NaN  \n",
       "1188589        9  1.365385  1.014286  0.742857  \n",
       "1194810       10  0.901408  0.914286  1.014286  \n",
       "1201041       11  0.777344  0.710714  0.914286  "
      ]
     },
     "execution_count": 30,
     "metadata": {},
     "output_type": "execute_result"
    }
   ],
   "source": [
    "# inspect\n",
    "crsp2.info()\n",
    "crsp2.head()"
   ]
  },
  {
   "cell_type": "markdown",
   "metadata": {
    "slideshow": {
     "slide_type": "slide"
    }
   },
   "source": [
    "### Deal with lag market Cap, properly"
   ]
  },
  {
   "cell_type": "code",
   "execution_count": 31,
   "metadata": {
    "slideshow": {
     "slide_type": "fragment"
    }
   },
   "outputs": [],
   "source": [
    "# lag market cap\n",
    "crsp2['lme'] = crsp2.groupby(['permno'])['me'].shift(1)\n",
    "\n",
    "# if first permno then use me/(1+retx) to replace the missing value\n",
    "crsp2['count'] = crsp2.groupby(['permno']).cumcount()\n",
    "crsp2['lme'] = np.where(crsp2['count'] == 0, crsp2['me']/crsp2['1+retx'], crsp2['lme'])"
   ]
  },
  {
   "cell_type": "code",
   "execution_count": 32,
   "metadata": {
    "slideshow": {
     "slide_type": "fragment"
    }
   },
   "outputs": [],
   "source": [
    "# baseline me (june market cap?)\n",
    "mebase = crsp2[crsp2['ffmonth'] == 1][['permno','ffyear', 'lme']].rename(columns={'lme':'mebase'})"
   ]
  },
  {
   "cell_type": "code",
   "execution_count": 33,
   "metadata": {
    "slideshow": {
     "slide_type": "slide"
    }
   },
   "outputs": [
    {
     "name": "stdout",
     "output_type": "stream",
     "text": [
      "<class 'pandas.core.frame.DataFrame'>\n",
      "Int64Index: 314146 entries, 1213671 to 3735804\n",
      "Data columns (total 3 columns):\n",
      "permno    314146 non-null int64\n",
      "ffyear    314146 non-null int64\n",
      "mebase    311048 non-null float64\n",
      "dtypes: float64(1), int64(2)\n",
      "memory usage: 9.6 MB\n"
     ]
    },
    {
     "data": {
      "text/html": [
       "<div>\n",
       "<style scoped>\n",
       "    .dataframe tbody tr th:only-of-type {\n",
       "        vertical-align: middle;\n",
       "    }\n",
       "\n",
       "    .dataframe tbody tr th {\n",
       "        vertical-align: top;\n",
       "    }\n",
       "\n",
       "    .dataframe thead th {\n",
       "        text-align: right;\n",
       "    }\n",
       "</style>\n",
       "<table border=\"1\" class=\"dataframe\">\n",
       "  <thead>\n",
       "    <tr style=\"text-align: right;\">\n",
       "      <th></th>\n",
       "      <th>permno</th>\n",
       "      <th>ffyear</th>\n",
       "      <th>mebase</th>\n",
       "    </tr>\n",
       "  </thead>\n",
       "  <tbody>\n",
       "    <tr>\n",
       "      <th>1213671</th>\n",
       "      <td>10000</td>\n",
       "      <td>1986</td>\n",
       "      <td>11734.59375</td>\n",
       "    </tr>\n",
       "    <tr>\n",
       "      <th>1213672</th>\n",
       "      <td>10001</td>\n",
       "      <td>1986</td>\n",
       "      <td>6033.12500</td>\n",
       "    </tr>\n",
       "    <tr>\n",
       "      <th>1292965</th>\n",
       "      <td>10001</td>\n",
       "      <td>1987</td>\n",
       "      <td>5822.12500</td>\n",
       "    </tr>\n",
       "    <tr>\n",
       "      <th>1376735</th>\n",
       "      <td>10001</td>\n",
       "      <td>1988</td>\n",
       "      <td>6200.00000</td>\n",
       "    </tr>\n",
       "    <tr>\n",
       "      <th>1458522</th>\n",
       "      <td>10001</td>\n",
       "      <td>1989</td>\n",
       "      <td>7007.00000</td>\n",
       "    </tr>\n",
       "  </tbody>\n",
       "</table>\n",
       "</div>"
      ],
      "text/plain": [
       "         permno  ffyear       mebase\n",
       "1213671   10000    1986  11734.59375\n",
       "1213672   10001    1986   6033.12500\n",
       "1292965   10001    1987   5822.12500\n",
       "1376735   10001    1988   6200.00000\n",
       "1458522   10001    1989   7007.00000"
      ]
     },
     "execution_count": 33,
     "metadata": {},
     "output_type": "execute_result"
    }
   ],
   "source": [
    "mebase.info()\n",
    "mebase.head()"
   ]
  },
  {
   "cell_type": "code",
   "execution_count": 34,
   "metadata": {
    "slideshow": {
     "slide_type": "fragment"
    }
   },
   "outputs": [],
   "source": [
    "# merge result back together\n",
    "crsp3 = pd.merge(crsp2, mebase, how='left', on=['permno','ffyear'])"
   ]
  },
  {
   "cell_type": "code",
   "execution_count": 35,
   "metadata": {
    "slideshow": {
     "slide_type": "slide"
    }
   },
   "outputs": [
    {
     "name": "stdout",
     "output_type": "stream",
     "text": [
      "<class 'pandas.core.frame.DataFrame'>\n",
      "Int64Index: 3764430 entries, 0 to 3764429\n",
      "Data columns (total 21 columns):\n",
      "permno      int64\n",
      "permco      int64\n",
      "date        datetime64[ns]\n",
      "ret         float64\n",
      "retx        float64\n",
      "shrcd       int64\n",
      "exchcd      int64\n",
      "jdate       datetime64[ns]\n",
      "retadj      float64\n",
      "me          float64\n",
      "year        int64\n",
      "month       int64\n",
      "ffdate      datetime64[ns]\n",
      "ffyear      int64\n",
      "ffmonth     int64\n",
      "1+retx      float64\n",
      "cumretx     float64\n",
      "lcumretx    float64\n",
      "lme         float64\n",
      "count       int64\n",
      "mebase      float64\n",
      "dtypes: datetime64[ns](3), float64(9), int64(9)\n",
      "memory usage: 631.8 MB\n"
     ]
    },
    {
     "data": {
      "text/html": [
       "<div>\n",
       "<style scoped>\n",
       "    .dataframe tbody tr th:only-of-type {\n",
       "        vertical-align: middle;\n",
       "    }\n",
       "\n",
       "    .dataframe tbody tr th {\n",
       "        vertical-align: top;\n",
       "    }\n",
       "\n",
       "    .dataframe thead th {\n",
       "        text-align: right;\n",
       "    }\n",
       "</style>\n",
       "<table border=\"1\" class=\"dataframe\">\n",
       "  <thead>\n",
       "    <tr style=\"text-align: right;\">\n",
       "      <th></th>\n",
       "      <th>permno</th>\n",
       "      <th>permco</th>\n",
       "      <th>date</th>\n",
       "      <th>ret</th>\n",
       "      <th>retx</th>\n",
       "      <th>shrcd</th>\n",
       "      <th>exchcd</th>\n",
       "      <th>jdate</th>\n",
       "      <th>retadj</th>\n",
       "      <th>me</th>\n",
       "      <th>...</th>\n",
       "      <th>month</th>\n",
       "      <th>ffdate</th>\n",
       "      <th>ffyear</th>\n",
       "      <th>ffmonth</th>\n",
       "      <th>1+retx</th>\n",
       "      <th>cumretx</th>\n",
       "      <th>lcumretx</th>\n",
       "      <th>lme</th>\n",
       "      <th>count</th>\n",
       "      <th>mebase</th>\n",
       "    </tr>\n",
       "  </thead>\n",
       "  <tbody>\n",
       "    <tr>\n",
       "      <th>0</th>\n",
       "      <td>10000</td>\n",
       "      <td>7952</td>\n",
       "      <td>1986-01-31</td>\n",
       "      <td>0.000000</td>\n",
       "      <td>NaN</td>\n",
       "      <td>10</td>\n",
       "      <td>3</td>\n",
       "      <td>1986-01-31</td>\n",
       "      <td>0.000000</td>\n",
       "      <td>16100.000000</td>\n",
       "      <td>...</td>\n",
       "      <td>1</td>\n",
       "      <td>1985-07-31</td>\n",
       "      <td>1985</td>\n",
       "      <td>7</td>\n",
       "      <td>NaN</td>\n",
       "      <td>NaN</td>\n",
       "      <td>NaN</td>\n",
       "      <td>NaN</td>\n",
       "      <td>0</td>\n",
       "      <td>NaN</td>\n",
       "    </tr>\n",
       "    <tr>\n",
       "      <th>1</th>\n",
       "      <td>10000</td>\n",
       "      <td>7952</td>\n",
       "      <td>1986-02-28</td>\n",
       "      <td>-0.257143</td>\n",
       "      <td>-0.257143</td>\n",
       "      <td>10</td>\n",
       "      <td>3</td>\n",
       "      <td>1986-02-28</td>\n",
       "      <td>-0.257143</td>\n",
       "      <td>11960.000000</td>\n",
       "      <td>...</td>\n",
       "      <td>2</td>\n",
       "      <td>1985-08-31</td>\n",
       "      <td>1985</td>\n",
       "      <td>8</td>\n",
       "      <td>0.742857</td>\n",
       "      <td>0.742857</td>\n",
       "      <td>NaN</td>\n",
       "      <td>16100.0</td>\n",
       "      <td>1</td>\n",
       "      <td>NaN</td>\n",
       "    </tr>\n",
       "    <tr>\n",
       "      <th>2</th>\n",
       "      <td>10000</td>\n",
       "      <td>7952</td>\n",
       "      <td>1986-03-31</td>\n",
       "      <td>0.365385</td>\n",
       "      <td>0.365385</td>\n",
       "      <td>10</td>\n",
       "      <td>3</td>\n",
       "      <td>1986-03-31</td>\n",
       "      <td>0.365385</td>\n",
       "      <td>16330.000000</td>\n",
       "      <td>...</td>\n",
       "      <td>3</td>\n",
       "      <td>1985-09-30</td>\n",
       "      <td>1985</td>\n",
       "      <td>9</td>\n",
       "      <td>1.365385</td>\n",
       "      <td>1.014286</td>\n",
       "      <td>0.742857</td>\n",
       "      <td>11960.0</td>\n",
       "      <td>2</td>\n",
       "      <td>NaN</td>\n",
       "    </tr>\n",
       "    <tr>\n",
       "      <th>3</th>\n",
       "      <td>10000</td>\n",
       "      <td>7952</td>\n",
       "      <td>1986-04-30</td>\n",
       "      <td>-0.098592</td>\n",
       "      <td>-0.098592</td>\n",
       "      <td>10</td>\n",
       "      <td>3</td>\n",
       "      <td>1986-04-30</td>\n",
       "      <td>-0.098592</td>\n",
       "      <td>15172.000000</td>\n",
       "      <td>...</td>\n",
       "      <td>4</td>\n",
       "      <td>1985-10-31</td>\n",
       "      <td>1985</td>\n",
       "      <td>10</td>\n",
       "      <td>0.901408</td>\n",
       "      <td>0.914286</td>\n",
       "      <td>1.014286</td>\n",
       "      <td>16330.0</td>\n",
       "      <td>3</td>\n",
       "      <td>NaN</td>\n",
       "    </tr>\n",
       "    <tr>\n",
       "      <th>4</th>\n",
       "      <td>10000</td>\n",
       "      <td>7952</td>\n",
       "      <td>1986-05-30</td>\n",
       "      <td>-0.222656</td>\n",
       "      <td>-0.222656</td>\n",
       "      <td>10</td>\n",
       "      <td>3</td>\n",
       "      <td>1986-05-31</td>\n",
       "      <td>-0.222656</td>\n",
       "      <td>11793.859375</td>\n",
       "      <td>...</td>\n",
       "      <td>5</td>\n",
       "      <td>1985-11-30</td>\n",
       "      <td>1985</td>\n",
       "      <td>11</td>\n",
       "      <td>0.777344</td>\n",
       "      <td>0.710714</td>\n",
       "      <td>0.914286</td>\n",
       "      <td>15172.0</td>\n",
       "      <td>4</td>\n",
       "      <td>NaN</td>\n",
       "    </tr>\n",
       "  </tbody>\n",
       "</table>\n",
       "<p>5 rows × 21 columns</p>\n",
       "</div>"
      ],
      "text/plain": [
       "   permno  permco       date       ret      retx  shrcd  exchcd      jdate  \\\n",
       "0   10000    7952 1986-01-31  0.000000       NaN     10       3 1986-01-31   \n",
       "1   10000    7952 1986-02-28 -0.257143 -0.257143     10       3 1986-02-28   \n",
       "2   10000    7952 1986-03-31  0.365385  0.365385     10       3 1986-03-31   \n",
       "3   10000    7952 1986-04-30 -0.098592 -0.098592     10       3 1986-04-30   \n",
       "4   10000    7952 1986-05-30 -0.222656 -0.222656     10       3 1986-05-31   \n",
       "\n",
       "     retadj            me  ...  month     ffdate ffyear  ffmonth    1+retx  \\\n",
       "0  0.000000  16100.000000  ...      1 1985-07-31   1985        7       NaN   \n",
       "1 -0.257143  11960.000000  ...      2 1985-08-31   1985        8  0.742857   \n",
       "2  0.365385  16330.000000  ...      3 1985-09-30   1985        9  1.365385   \n",
       "3 -0.098592  15172.000000  ...      4 1985-10-31   1985       10  0.901408   \n",
       "4 -0.222656  11793.859375  ...      5 1985-11-30   1985       11  0.777344   \n",
       "\n",
       "    cumretx  lcumretx      lme  count  mebase  \n",
       "0       NaN       NaN      NaN      0     NaN  \n",
       "1  0.742857       NaN  16100.0      1     NaN  \n",
       "2  1.014286  0.742857  11960.0      2     NaN  \n",
       "3  0.914286  1.014286  16330.0      3     NaN  \n",
       "4  0.710714  0.914286  15172.0      4     NaN  \n",
       "\n",
       "[5 rows x 21 columns]"
      ]
     },
     "execution_count": 35,
     "metadata": {},
     "output_type": "execute_result"
    }
   ],
   "source": [
    "crsp3.info()\n",
    "crsp3.head()"
   ]
  },
  {
   "cell_type": "code",
   "execution_count": 36,
   "metadata": {
    "slideshow": {
     "slide_type": "slide"
    }
   },
   "outputs": [],
   "source": [
    "# create a new variable from lag market cap (for weight later on)\n",
    "crsp3['wt']=np.where(crsp3['ffmonth']==1, crsp3['lme'], crsp3['mebase']*crsp3['lcumretx'])\n",
    "\n",
    "decme['year'] = decme['year'] + 1\n",
    "decme = decme[['permno','year','dec_me']]\n",
    "\n",
    "# Info as of June so that we have data in one place (row) to construct our portfolios\n",
    "crsp3_jun = crsp3[crsp3['month'] == 6]\n",
    "\n",
    "crsp_jun = pd.merge(crsp3_jun, decme, how='inner', on=['permno','year'])"
   ]
  },
  {
   "cell_type": "markdown",
   "metadata": {
    "slideshow": {
     "slide_type": "slide"
    }
   },
   "source": [
    "### House cleanning"
   ]
  },
  {
   "cell_type": "code",
   "execution_count": 37,
   "metadata": {
    "slideshow": {
     "slide_type": "fragment"
    }
   },
   "outputs": [],
   "source": [
    "# make our crsp table prettier...\n",
    "crsp_jun = crsp_jun[['permno','date', 'jdate', 'shrcd','exchcd','retadj','me','wt','cumretx','mebase','lme','dec_me']]\n",
    "crsp_jun = crsp_jun.sort_values(by=['permno','jdate']).drop_duplicates()"
   ]
  },
  {
   "cell_type": "markdown",
   "metadata": {
    "slideshow": {
     "slide_type": "slide"
    }
   },
   "source": [
    "### Retrieving CCM data"
   ]
  },
  {
   "cell_type": "code",
   "execution_count": 38,
   "metadata": {
    "slideshow": {
     "slide_type": "fragment"
    }
   },
   "outputs": [],
   "source": [
    "ccm=conn.raw_sql(\"\"\"\n",
    "                    SELECT gvkey, lpermno AS permno, linktype, linkprim, \n",
    "                    linkdt, linkenddt\n",
    "                    FROM crsp.ccmxpf_linktable\n",
    "                    WHERE SUBSTR(linktype,1,1)='L'\n",
    "                    AND (linkprim ='C' OR linkprim='P')\n",
    "                 \"\"\")"
   ]
  },
  {
   "cell_type": "code",
   "execution_count": 39,
   "metadata": {
    "slideshow": {
     "slide_type": "fragment"
    }
   },
   "outputs": [],
   "source": [
    "# convert datetime\n",
    "ccm['linkdt']=pd.to_datetime(ccm['linkdt'])\n",
    "ccm['linkenddt']=pd.to_datetime(ccm['linkenddt'])\n",
    "# if linkenddt is missing then set to today date\n",
    "ccm['linkenddt']=ccm['linkenddt'].fillna(pd.to_datetime('today'))"
   ]
  },
  {
   "cell_type": "markdown",
   "metadata": {
    "slideshow": {
     "slide_type": "slide"
    }
   },
   "source": [
    "### Merge with Compustat and CRSP"
   ]
  },
  {
   "cell_type": "code",
   "execution_count": 40,
   "metadata": {
    "slideshow": {
     "slide_type": "fragment"
    }
   },
   "outputs": [],
   "source": [
    "# left merge on gvkey\n",
    "ccm1 = pd.merge(comp[['gvkey', 'datadate', 'be', 'count']], ccm, how = 'left', on = ['gvkey'])\n",
    "ccm1['yearend'] = ccm1['datadate'] + YearEnd(0)\n",
    "# create 'jdate' for further merge with crsp dataset\n",
    "ccm1['jdate'] = ccm1['yearend'] + MonthEnd(6)"
   ]
  },
  {
   "cell_type": "code",
   "execution_count": 41,
   "metadata": {
    "slideshow": {
     "slide_type": "fragment"
    }
   },
   "outputs": [],
   "source": [
    "# set link date bounds\n",
    "ccm2 = ccm1[(ccm1['jdate'] >= ccm1['linkdt']) & (ccm1['jdate'] <= ccm1['linkenddt'])]\n",
    "ccm2 = ccm2[['gvkey', 'permno', 'datadate', 'yearend', 'jdate', 'be', 'count']]"
   ]
  },
  {
   "cell_type": "code",
   "execution_count": 42,
   "metadata": {
    "slideshow": {
     "slide_type": "fragment"
    }
   },
   "outputs": [],
   "source": [
    "# link comp and crsp\n",
    "ccm_jun=pd.merge(crsp_jun, ccm2, how='inner', on=['permno', 'jdate'])\n",
    "\n",
    "# Finally, calculate book to market ratio\n",
    "ccm_jun['beme']=ccm_jun['be']*1000/ccm_jun['dec_me']"
   ]
  },
  {
   "cell_type": "code",
   "execution_count": 43,
   "metadata": {
    "slideshow": {
     "slide_type": "slide"
    }
   },
   "outputs": [
    {
     "name": "stdout",
     "output_type": "stream",
     "text": [
      "<class 'pandas.core.frame.DataFrame'>\n",
      "Int64Index: 277192 entries, 0 to 277191\n",
      "Data columns (total 18 columns):\n",
      "permno      277192 non-null int64\n",
      "date        277192 non-null datetime64[ns]\n",
      "jdate       277192 non-null datetime64[ns]\n",
      "shrcd       277192 non-null int64\n",
      "exchcd      277192 non-null int64\n",
      "retadj      277192 non-null float64\n",
      "me          277192 non-null float64\n",
      "wt          264142 non-null float64\n",
      "cumretx     276384 non-null float64\n",
      "mebase      264927 non-null float64\n",
      "lme         277192 non-null float64\n",
      "dec_me      277192 non-null float64\n",
      "gvkey       277192 non-null object\n",
      "datadate    277192 non-null datetime64[ns]\n",
      "yearend     277192 non-null datetime64[ns]\n",
      "be          244439 non-null float64\n",
      "count       277192 non-null int64\n",
      "beme        244439 non-null float64\n",
      "dtypes: datetime64[ns](4), float64(9), int64(4), object(1)\n",
      "memory usage: 40.2+ MB\n"
     ]
    },
    {
     "data": {
      "text/html": [
       "<div>\n",
       "<style scoped>\n",
       "    .dataframe tbody tr th:only-of-type {\n",
       "        vertical-align: middle;\n",
       "    }\n",
       "\n",
       "    .dataframe tbody tr th {\n",
       "        vertical-align: top;\n",
       "    }\n",
       "\n",
       "    .dataframe thead th {\n",
       "        text-align: right;\n",
       "    }\n",
       "</style>\n",
       "<table border=\"1\" class=\"dataframe\">\n",
       "  <thead>\n",
       "    <tr style=\"text-align: right;\">\n",
       "      <th></th>\n",
       "      <th>permno</th>\n",
       "      <th>date</th>\n",
       "      <th>jdate</th>\n",
       "      <th>shrcd</th>\n",
       "      <th>exchcd</th>\n",
       "      <th>retadj</th>\n",
       "      <th>me</th>\n",
       "      <th>wt</th>\n",
       "      <th>cumretx</th>\n",
       "      <th>mebase</th>\n",
       "      <th>lme</th>\n",
       "      <th>dec_me</th>\n",
       "      <th>gvkey</th>\n",
       "      <th>datadate</th>\n",
       "      <th>yearend</th>\n",
       "      <th>be</th>\n",
       "      <th>count</th>\n",
       "      <th>beme</th>\n",
       "    </tr>\n",
       "  </thead>\n",
       "  <tbody>\n",
       "    <tr>\n",
       "      <th>0</th>\n",
       "      <td>10001</td>\n",
       "      <td>1987-06-30</td>\n",
       "      <td>1987-06-30</td>\n",
       "      <td>11</td>\n",
       "      <td>3</td>\n",
       "      <td>0.051429</td>\n",
       "      <td>5822.125</td>\n",
       "      <td>5602.187450</td>\n",
       "      <td>0.959184</td>\n",
       "      <td>6033.125</td>\n",
       "      <td>5636.3125</td>\n",
       "      <td>6937.00</td>\n",
       "      <td>012994</td>\n",
       "      <td>1986-06-30</td>\n",
       "      <td>1986-12-31</td>\n",
       "      <td>7.037</td>\n",
       "      <td>0</td>\n",
       "      <td>1.014415</td>\n",
       "    </tr>\n",
       "    <tr>\n",
       "      <th>1</th>\n",
       "      <td>10001</td>\n",
       "      <td>1988-06-30</td>\n",
       "      <td>1988-06-30</td>\n",
       "      <td>11</td>\n",
       "      <td>3</td>\n",
       "      <td>-0.012039</td>\n",
       "      <td>6200.000</td>\n",
       "      <td>6379.562514</td>\n",
       "      <td>1.063830</td>\n",
       "      <td>5822.125</td>\n",
       "      <td>6386.0000</td>\n",
       "      <td>5828.00</td>\n",
       "      <td>012994</td>\n",
       "      <td>1987-06-30</td>\n",
       "      <td>1987-12-31</td>\n",
       "      <td>7.038</td>\n",
       "      <td>1</td>\n",
       "      <td>1.207618</td>\n",
       "    </tr>\n",
       "    <tr>\n",
       "      <th>2</th>\n",
       "      <td>10001</td>\n",
       "      <td>1989-06-30</td>\n",
       "      <td>1989-06-30</td>\n",
       "      <td>11</td>\n",
       "      <td>3</td>\n",
       "      <td>0.017143</td>\n",
       "      <td>7007.000</td>\n",
       "      <td>6944.000017</td>\n",
       "      <td>1.120000</td>\n",
       "      <td>6200.000</td>\n",
       "      <td>6986.0000</td>\n",
       "      <td>6362.25</td>\n",
       "      <td>012994</td>\n",
       "      <td>1988-06-30</td>\n",
       "      <td>1988-12-31</td>\n",
       "      <td>7.286</td>\n",
       "      <td>2</td>\n",
       "      <td>1.145192</td>\n",
       "    </tr>\n",
       "    <tr>\n",
       "      <th>3</th>\n",
       "      <td>10001</td>\n",
       "      <td>1990-06-29</td>\n",
       "      <td>1990-06-30</td>\n",
       "      <td>11</td>\n",
       "      <td>3</td>\n",
       "      <td>0.014103</td>\n",
       "      <td>10052.250</td>\n",
       "      <td>9759.750037</td>\n",
       "      <td>1.392857</td>\n",
       "      <td>7007.000</td>\n",
       "      <td>10013.2500</td>\n",
       "      <td>10347.75</td>\n",
       "      <td>012994</td>\n",
       "      <td>1989-06-30</td>\n",
       "      <td>1989-12-31</td>\n",
       "      <td>8.466</td>\n",
       "      <td>3</td>\n",
       "      <td>0.818149</td>\n",
       "    </tr>\n",
       "    <tr>\n",
       "      <th>4</th>\n",
       "      <td>10001</td>\n",
       "      <td>1991-06-28</td>\n",
       "      <td>1991-06-30</td>\n",
       "      <td>11</td>\n",
       "      <td>3</td>\n",
       "      <td>0.078481</td>\n",
       "      <td>11266.500</td>\n",
       "      <td>10181.124978</td>\n",
       "      <td>1.076923</td>\n",
       "      <td>10052.250</td>\n",
       "      <td>10408.2500</td>\n",
       "      <td>10013.00</td>\n",
       "      <td>012994</td>\n",
       "      <td>1990-06-30</td>\n",
       "      <td>1990-12-31</td>\n",
       "      <td>9.438</td>\n",
       "      <td>4</td>\n",
       "      <td>0.942575</td>\n",
       "    </tr>\n",
       "  </tbody>\n",
       "</table>\n",
       "</div>"
      ],
      "text/plain": [
       "   permno       date      jdate  shrcd  exchcd    retadj         me  \\\n",
       "0   10001 1987-06-30 1987-06-30     11       3  0.051429   5822.125   \n",
       "1   10001 1988-06-30 1988-06-30     11       3 -0.012039   6200.000   \n",
       "2   10001 1989-06-30 1989-06-30     11       3  0.017143   7007.000   \n",
       "3   10001 1990-06-29 1990-06-30     11       3  0.014103  10052.250   \n",
       "4   10001 1991-06-28 1991-06-30     11       3  0.078481  11266.500   \n",
       "\n",
       "             wt   cumretx     mebase         lme    dec_me   gvkey   datadate  \\\n",
       "0   5602.187450  0.959184   6033.125   5636.3125   6937.00  012994 1986-06-30   \n",
       "1   6379.562514  1.063830   5822.125   6386.0000   5828.00  012994 1987-06-30   \n",
       "2   6944.000017  1.120000   6200.000   6986.0000   6362.25  012994 1988-06-30   \n",
       "3   9759.750037  1.392857   7007.000  10013.2500  10347.75  012994 1989-06-30   \n",
       "4  10181.124978  1.076923  10052.250  10408.2500  10013.00  012994 1990-06-30   \n",
       "\n",
       "     yearend     be  count      beme  \n",
       "0 1986-12-31  7.037      0  1.014415  \n",
       "1 1987-12-31  7.038      1  1.207618  \n",
       "2 1988-12-31  7.286      2  1.145192  \n",
       "3 1989-12-31  8.466      3  0.818149  \n",
       "4 1990-12-31  9.438      4  0.942575  "
      ]
     },
     "execution_count": 43,
     "metadata": {},
     "output_type": "execute_result"
    }
   ],
   "source": [
    "ccm_jun.info()\n",
    "ccm_jun.head()"
   ]
  },
  {
   "cell_type": "markdown",
   "metadata": {
    "slideshow": {
     "slide_type": "slide"
    }
   },
   "source": [
    "### NYSE stock bucket breakdown"
   ]
  },
  {
   "cell_type": "code",
   "execution_count": 46,
   "metadata": {
    "slideshow": {
     "slide_type": "fragment"
    }
   },
   "outputs": [],
   "source": [
    "# select NYSE stocks for bucket breakdown\n",
    "# exchcd = 1 and positive beme and positive me and shrcd in (10,11) and at least 2 years in comp\n",
    "nyse_cond = (ccm_jun['exchcd'] == 1) & (ccm_jun['beme'] > 0) & (ccm_jun['me'] > 0) & (ccm_jun['count'] >= 1) & ((ccm_jun['shrcd'] == 10) | (ccm_jun['shrcd'] == 11))\n",
    "# NOTE: & --> AND; | --> OR\n",
    "                \n",
    "nyse=ccm_jun[nyse_cond]\n",
    "\n",
    "# size breakdown\n",
    "# to_frame() convert a Pandas Series to a Pandas DataFrame\n",
    "nyse_sz=nyse.groupby(['jdate'])['me'].median().to_frame().reset_index().rename(columns={'me':'sizemedn'})\n",
    "\n",
    "# beme breakdown\n",
    "# the following we use describe() to use its percetiles, HOW convinient!\n",
    "nyse_bm=nyse.groupby(['jdate'])['beme'].describe(percentiles=[0.3, 0.7]).reset_index()\n",
    "nyse_bm=nyse_bm[['jdate','30%','70%']].rename(columns={'30%':'bm30', '70%':'bm70'})\n",
    "\n",
    "# merge two bucket breakdown datasets\n",
    "nyse_breaks = pd.merge(nyse_sz, nyse_bm, how='inner', on=['jdate'])\n",
    "\n",
    "# merge back to our main dataset\n",
    "ccm1_jun = pd.merge(ccm_jun, nyse_breaks, how='left', on=['jdate'])"
   ]
  },
  {
   "cell_type": "code",
   "execution_count": 47,
   "metadata": {},
   "outputs": [
    {
     "data": {
      "text/html": [
       "<div>\n",
       "<style scoped>\n",
       "    .dataframe tbody tr th:only-of-type {\n",
       "        vertical-align: middle;\n",
       "    }\n",
       "\n",
       "    .dataframe tbody tr th {\n",
       "        vertical-align: top;\n",
       "    }\n",
       "\n",
       "    .dataframe thead th {\n",
       "        text-align: right;\n",
       "    }\n",
       "</style>\n",
       "<table border=\"1\" class=\"dataframe\">\n",
       "  <thead>\n",
       "    <tr style=\"text-align: right;\">\n",
       "      <th></th>\n",
       "      <th>permno</th>\n",
       "      <th>date</th>\n",
       "      <th>jdate</th>\n",
       "      <th>shrcd</th>\n",
       "      <th>exchcd</th>\n",
       "      <th>retadj</th>\n",
       "      <th>me</th>\n",
       "      <th>wt</th>\n",
       "      <th>cumretx</th>\n",
       "      <th>mebase</th>\n",
       "      <th>...</th>\n",
       "      <th>dec_me</th>\n",
       "      <th>gvkey</th>\n",
       "      <th>datadate</th>\n",
       "      <th>yearend</th>\n",
       "      <th>be</th>\n",
       "      <th>count</th>\n",
       "      <th>beme</th>\n",
       "      <th>sizemedn</th>\n",
       "      <th>bm30</th>\n",
       "      <th>bm70</th>\n",
       "    </tr>\n",
       "  </thead>\n",
       "  <tbody>\n",
       "    <tr>\n",
       "      <th>0</th>\n",
       "      <td>10001</td>\n",
       "      <td>1987-06-30</td>\n",
       "      <td>1987-06-30</td>\n",
       "      <td>11</td>\n",
       "      <td>3</td>\n",
       "      <td>0.051429</td>\n",
       "      <td>5822.125</td>\n",
       "      <td>5602.187450</td>\n",
       "      <td>0.959184</td>\n",
       "      <td>6033.125</td>\n",
       "      <td>...</td>\n",
       "      <td>6937.00</td>\n",
       "      <td>012994</td>\n",
       "      <td>1986-06-30</td>\n",
       "      <td>1986-12-31</td>\n",
       "      <td>7.037</td>\n",
       "      <td>0</td>\n",
       "      <td>1.014415</td>\n",
       "      <td>542542.875</td>\n",
       "      <td>0.523415</td>\n",
       "      <td>0.947148</td>\n",
       "    </tr>\n",
       "    <tr>\n",
       "      <th>1</th>\n",
       "      <td>10001</td>\n",
       "      <td>1988-06-30</td>\n",
       "      <td>1988-06-30</td>\n",
       "      <td>11</td>\n",
       "      <td>3</td>\n",
       "      <td>-0.012039</td>\n",
       "      <td>6200.000</td>\n",
       "      <td>6379.562514</td>\n",
       "      <td>1.063830</td>\n",
       "      <td>5822.125</td>\n",
       "      <td>...</td>\n",
       "      <td>5828.00</td>\n",
       "      <td>012994</td>\n",
       "      <td>1987-06-30</td>\n",
       "      <td>1987-12-31</td>\n",
       "      <td>7.038</td>\n",
       "      <td>1</td>\n",
       "      <td>1.207618</td>\n",
       "      <td>496282.500</td>\n",
       "      <td>0.620128</td>\n",
       "      <td>1.118397</td>\n",
       "    </tr>\n",
       "    <tr>\n",
       "      <th>2</th>\n",
       "      <td>10001</td>\n",
       "      <td>1989-06-30</td>\n",
       "      <td>1989-06-30</td>\n",
       "      <td>11</td>\n",
       "      <td>3</td>\n",
       "      <td>0.017143</td>\n",
       "      <td>7007.000</td>\n",
       "      <td>6944.000017</td>\n",
       "      <td>1.120000</td>\n",
       "      <td>6200.000</td>\n",
       "      <td>...</td>\n",
       "      <td>6362.25</td>\n",
       "      <td>012994</td>\n",
       "      <td>1988-06-30</td>\n",
       "      <td>1988-12-31</td>\n",
       "      <td>7.286</td>\n",
       "      <td>2</td>\n",
       "      <td>1.145192</td>\n",
       "      <td>560041.125</td>\n",
       "      <td>0.574367</td>\n",
       "      <td>1.006842</td>\n",
       "    </tr>\n",
       "    <tr>\n",
       "      <th>3</th>\n",
       "      <td>10001</td>\n",
       "      <td>1990-06-29</td>\n",
       "      <td>1990-06-30</td>\n",
       "      <td>11</td>\n",
       "      <td>3</td>\n",
       "      <td>0.014103</td>\n",
       "      <td>10052.250</td>\n",
       "      <td>9759.750037</td>\n",
       "      <td>1.392857</td>\n",
       "      <td>7007.000</td>\n",
       "      <td>...</td>\n",
       "      <td>10347.75</td>\n",
       "      <td>012994</td>\n",
       "      <td>1989-06-30</td>\n",
       "      <td>1989-12-31</td>\n",
       "      <td>8.466</td>\n",
       "      <td>3</td>\n",
       "      <td>0.818149</td>\n",
       "      <td>555233.250</td>\n",
       "      <td>0.491551</td>\n",
       "      <td>0.934872</td>\n",
       "    </tr>\n",
       "    <tr>\n",
       "      <th>4</th>\n",
       "      <td>10001</td>\n",
       "      <td>1991-06-28</td>\n",
       "      <td>1991-06-30</td>\n",
       "      <td>11</td>\n",
       "      <td>3</td>\n",
       "      <td>0.078481</td>\n",
       "      <td>11266.500</td>\n",
       "      <td>10181.124978</td>\n",
       "      <td>1.076923</td>\n",
       "      <td>10052.250</td>\n",
       "      <td>...</td>\n",
       "      <td>10013.00</td>\n",
       "      <td>012994</td>\n",
       "      <td>1990-06-30</td>\n",
       "      <td>1990-12-31</td>\n",
       "      <td>9.438</td>\n",
       "      <td>4</td>\n",
       "      <td>0.942575</td>\n",
       "      <td>540153.750</td>\n",
       "      <td>0.621685</td>\n",
       "      <td>1.214132</td>\n",
       "    </tr>\n",
       "  </tbody>\n",
       "</table>\n",
       "<p>5 rows × 21 columns</p>\n",
       "</div>"
      ],
      "text/plain": [
       "   permno       date      jdate  shrcd  exchcd    retadj         me  \\\n",
       "0   10001 1987-06-30 1987-06-30     11       3  0.051429   5822.125   \n",
       "1   10001 1988-06-30 1988-06-30     11       3 -0.012039   6200.000   \n",
       "2   10001 1989-06-30 1989-06-30     11       3  0.017143   7007.000   \n",
       "3   10001 1990-06-29 1990-06-30     11       3  0.014103  10052.250   \n",
       "4   10001 1991-06-28 1991-06-30     11       3  0.078481  11266.500   \n",
       "\n",
       "             wt   cumretx     mebase  ...    dec_me   gvkey   datadate  \\\n",
       "0   5602.187450  0.959184   6033.125  ...   6937.00  012994 1986-06-30   \n",
       "1   6379.562514  1.063830   5822.125  ...   5828.00  012994 1987-06-30   \n",
       "2   6944.000017  1.120000   6200.000  ...   6362.25  012994 1988-06-30   \n",
       "3   9759.750037  1.392857   7007.000  ...  10347.75  012994 1989-06-30   \n",
       "4  10181.124978  1.076923  10052.250  ...  10013.00  012994 1990-06-30   \n",
       "\n",
       "     yearend     be  count      beme    sizemedn      bm30      bm70  \n",
       "0 1986-12-31  7.037      0  1.014415  542542.875  0.523415  0.947148  \n",
       "1 1987-12-31  7.038      1  1.207618  496282.500  0.620128  1.118397  \n",
       "2 1988-12-31  7.286      2  1.145192  560041.125  0.574367  1.006842  \n",
       "3 1989-12-31  8.466      3  0.818149  555233.250  0.491551  0.934872  \n",
       "4 1990-12-31  9.438      4  0.942575  540153.750  0.621685  1.214132  \n",
       "\n",
       "[5 rows x 21 columns]"
      ]
     },
     "execution_count": 47,
     "metadata": {},
     "output_type": "execute_result"
    }
   ],
   "source": [
    "ccm1_jun.head()"
   ]
  },
  {
   "cell_type": "markdown",
   "metadata": {
    "slideshow": {
     "slide_type": "slide"
    }
   },
   "source": [
    "### Functions for assigning characteristics bucket"
   ]
  },
  {
   "cell_type": "code",
   "execution_count": 48,
   "metadata": {
    "slideshow": {
     "slide_type": "fragment"
    }
   },
   "outputs": [],
   "source": [
    "# functions\n",
    "def sz_bucket(row):\n",
    "    if row['me']==np.nan:\n",
    "        value=''\n",
    "    elif row['me']<=row['sizemedn']:\n",
    "        value='S'\n",
    "    else:\n",
    "        value='B'\n",
    "    return value\n",
    "\n",
    "def bm_bucket(row):\n",
    "    if 0<=row['beme']<=row['bm30']:\n",
    "        value = 'L'\n",
    "    elif row['beme']<=row['bm70']:\n",
    "        value='M'\n",
    "    elif row['beme']>row['bm70']:\n",
    "        value='H'\n",
    "    else:\n",
    "        value=''\n",
    "    return value"
   ]
  },
  {
   "cell_type": "markdown",
   "metadata": {
    "slideshow": {
     "slide_type": "slide"
    }
   },
   "source": [
    "### Assign size and btm portfolios"
   ]
  },
  {
   "cell_type": "code",
   "execution_count": 49,
   "metadata": {
    "slideshow": {
     "slide_type": "fragment"
    }
   },
   "outputs": [
    {
     "name": "stderr",
     "output_type": "stream",
     "text": [
      "/usr/local/miniconda3/envs/minipy/lib/python3.6/site-packages/ipykernel_launcher.py:22: SettingWithCopyWarning: \n",
      "A value is trying to be set on a copy of a slice from a DataFrame.\n",
      "Try using .loc[row_indexer,col_indexer] = value instead\n",
      "\n",
      "See the caveats in the documentation: http://pandas.pydata.org/pandas-docs/stable/indexing.html#indexing-view-versus-copy\n"
     ]
    }
   ],
   "source": [
    "# assign size portfolio\n",
    "ccm1_jun['szport'] = np.where((ccm1_jun['beme']>0) & \n",
    "                            (ccm1_jun['me']>0) & \n",
    "                            (ccm1_jun['count']>=1), \n",
    "                            ccm1_jun.apply(sz_bucket, axis=1), '')\n",
    "\n",
    "# assign book-to-market portfolio\n",
    "ccm1_jun['bmport'] = np.where((ccm1_jun['beme']>0) & \n",
    "                            (ccm1_jun['me']>0) & \n",
    "                            (ccm1_jun['count']>=1), \n",
    "                            ccm1_jun.apply(bm_bucket, axis=1), '')\n",
    "\n",
    "# create positivebmeme and nonmissport variable\n",
    "ccm1_jun['posbm'] = np.where((ccm1_jun['beme']>0) & \n",
    "                           (ccm1_jun['me']>0) & \n",
    "                           (ccm1_jun['count']>=1), \n",
    "                           1, 0)\n",
    "ccm1_jun['nonmissport']=np.where((ccm1_jun['bmport']!=''), 1, 0)\n",
    "\n",
    "# store portfolio assignment as of June\n",
    "june = ccm1_jun[['permno','date', 'jdate', 'bmport','szport','posbm','nonmissport']]\n",
    "june['ffyear'] = june['jdate'].dt.year"
   ]
  },
  {
   "cell_type": "markdown",
   "metadata": {
    "slideshow": {
     "slide_type": "slide"
    }
   },
   "source": [
    "### Merge with monthly returns"
   ]
  },
  {
   "cell_type": "code",
   "execution_count": 50,
   "metadata": {
    "slideshow": {
     "slide_type": "fragment"
    }
   },
   "outputs": [],
   "source": [
    "# merge back with monthly records\n",
    "crsp3 = crsp3[['date','permno','shrcd','exchcd','retadj',\n",
    "               'me','wt','cumretx','ffyear','jdate']]\n",
    "ccm3=pd.merge(crsp3, \n",
    "              june[['permno','ffyear','szport','bmport','posbm','nonmissport']], \n",
    "              how='left', \n",
    "              on=['permno','ffyear'])"
   ]
  },
  {
   "cell_type": "code",
   "execution_count": 51,
   "metadata": {
    "slideshow": {
     "slide_type": "fragment"
    }
   },
   "outputs": [],
   "source": [
    "# keeping only records that meet the criteria\n",
    "ccm4=ccm3[(ccm3['wt']>0) & \n",
    "          (ccm3['posbm']==1) &\n",
    "          (ccm3['nonmissport']==1) & \n",
    "          ((ccm3['shrcd']==10) | (ccm3['shrcd']==11))]"
   ]
  },
  {
   "cell_type": "markdown",
   "metadata": {
    "slideshow": {
     "slide_type": "slide"
    }
   },
   "source": [
    "### Value-weighted returns"
   ]
  },
  {
   "cell_type": "code",
   "execution_count": 52,
   "metadata": {
    "slideshow": {
     "slide_type": "fragment"
    }
   },
   "outputs": [],
   "source": [
    "# function to calculate value weighted return\n",
    "def wavg(group, avg_name, weight_name):\n",
    "    d = group[avg_name]\n",
    "    w = group[weight_name]\n",
    "    try:\n",
    "        return (d * w).sum() / w.sum()\n",
    "    except ZeroDivisionError: # in case of zero division\n",
    "        return np.nan"
   ]
  },
  {
   "cell_type": "code",
   "execution_count": 57,
   "metadata": {
    "slideshow": {
     "slide_type": "fragment"
    }
   },
   "outputs": [],
   "source": [
    "# value-weigthed return\n",
    "# https://stackoverflow.com/questions/10951341/pandas-dataframe-aggregate-function-using-multiple-columns\n",
    "# weighted-average function suggested by Wes McKinney\n",
    "vwret = ccm4.groupby(['jdate','szport','bmport']).apply(wavg, 'retadj', 'wt').to_frame().reset_index().rename(columns={0: 'vwret'})\n",
    "vwret['sbport'] = vwret['szport'] + vwret['bmport'] # <= concat string\n",
    "\n",
    "# firm count\n",
    "vwret_n = ccm4.groupby(['jdate','szport','bmport'])['retadj'].count().reset_index().rename(columns={'retadj':'n_firms'})\n",
    "vwret_n['sbport'] = vwret_n['szport'] + vwret_n['bmport']\n",
    "\n",
    "# preliminary results\n",
    "# really is transposing the data: use date as index, columns is sbport, values is weighted average\n",
    "ff_factors = vwret.pivot(index='jdate', columns='sbport', values='vwret').reset_index()\n",
    "ff_nfirms = vwret_n.pivot(index='jdate', columns='sbport', values='n_firms').reset_index()"
   ]
  },
  {
   "cell_type": "markdown",
   "metadata": {
    "slideshow": {
     "slide_type": "slide"
    }
   },
   "source": [
    "### Create SMB and HML factors"
   ]
  },
  {
   "cell_type": "code",
   "execution_count": 61,
   "metadata": {
    "slideshow": {
     "slide_type": "fragment"
    }
   },
   "outputs": [],
   "source": [
    "# create SMB and HML factors\n",
    "ff_factors['WH']=(ff_factors['BH']+ff_factors['SH'])/2\n",
    "ff_factors['WL']=(ff_factors['BL']+ff_factors['SL'])/2\n",
    "ff_factors['WHML'] = ff_factors['WH']-ff_factors['WL']\n",
    "\n",
    "ff_factors['WB']=(ff_factors['BL']+ff_factors['BM']+ff_factors['BH'])/3\n",
    "ff_factors['WS']=(ff_factors['SL']+ff_factors['SM']+ff_factors['SH'])/3\n",
    "ff_factors['WSMB'] = ff_factors['WS']-ff_factors['WB']\n",
    "ff_factors=ff_factors.rename(columns={'jdate':'date'})\n",
    "\n",
    "# n firm count\n",
    "ff_nfirms['H']=ff_nfirms['SH']+ff_nfirms['BH']\n",
    "ff_nfirms['L']=ff_nfirms['SL']+ff_nfirms['BL']\n",
    "ff_nfirms['HML']=ff_nfirms['H']+ff_nfirms['L']\n",
    "\n",
    "ff_nfirms['B']=ff_nfirms['BL']+ff_nfirms['BM']+ff_nfirms['BH']\n",
    "ff_nfirms['S']=ff_nfirms['SL']+ff_nfirms['SM']+ff_nfirms['SH']\n",
    "ff_nfirms['SMB']=ff_nfirms['B']+ff_nfirms['S']\n",
    "ff_nfirms['TOTAL']=ff_nfirms['SMB']\n",
    "\n",
    "ff_nfirms=ff_nfirms.rename(columns={'jdate':'date'})"
   ]
  },
  {
   "cell_type": "markdown",
   "metadata": {
    "slideshow": {
     "slide_type": "slide"
    }
   },
   "source": [
    "### Compare with FF"
   ]
  },
  {
   "cell_type": "code",
   "execution_count": 64,
   "metadata": {
    "slideshow": {
     "slide_type": "fragment"
    }
   },
   "outputs": [
    {
     "name": "stdout",
     "output_type": "stream",
     "text": [
      "(0.9960860785871981, 0.0)\n",
      "(0.9803002075590305, 0.0)\n"
     ]
    }
   ],
   "source": [
    "# download data from wrds\n",
    "_ff = conn.get_table(library='ff', table='factors_monthly')\n",
    "_ff=_ff[['date','smb','hml']]\n",
    "_ff['date']=_ff['date']+MonthEnd(0)\n",
    "\n",
    "# correlation between our created FF factors and published FF\n",
    "_ffcomp = pd.merge(_ff, ff_factors[['date','WSMB','WHML']], how='inner', on=['date'])\n",
    "_ffcomp70=_ffcomp[_ffcomp['date']>='01/01/1970']\n",
    "print(stats.pearsonr(_ffcomp70['smb'], _ffcomp70['WSMB']))\n",
    "print(stats.pearsonr(_ffcomp70['hml'], _ffcomp70['WHML']))"
   ]
  }
 ],
 "metadata": {
  "celltoolbar": "Slideshow",
  "kernelspec": {
   "display_name": "Python 3",
   "language": "python",
   "name": "python3"
  },
  "language_info": {
   "codemirror_mode": {
    "name": "ipython",
    "version": 3
   },
   "file_extension": ".py",
   "mimetype": "text/x-python",
   "name": "python",
   "nbconvert_exporter": "python",
   "pygments_lexer": "ipython3",
   "version": "3.6.8"
  }
 },
 "nbformat": 4,
 "nbformat_minor": 2
}
