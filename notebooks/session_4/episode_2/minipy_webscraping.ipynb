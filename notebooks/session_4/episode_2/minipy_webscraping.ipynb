{
 "cells": [
  {
   "cell_type": "markdown",
   "metadata": {
    "slideshow": {
     "slide_type": "slide"
    }
   },
   "source": [
    "# Mini Intro to BeautifulSoup & Requests\n",
    "by Dr Liang Jin\n",
    "\n",
    "Part of MiniPy Sessions: [github.com/drliangjin/minipy](https://github.com/drliangjin/minipy)\n",
    "\n",
    "Official BeautifulSoup Docs: [crummy.com/software/BeautifulSoup](https://www.crummy.com/software/BeautifulSoup/)\n",
    "\n",
    "Official Requests Docs: [python-requests.org](http://python-requests.org)\n",
    "\n",
    "References: [Web Scraping with Python](http://www.pythonscraping.com/)"
   ]
  },
  {
   "cell_type": "markdown",
   "metadata": {
    "slideshow": {
     "slide_type": "slide"
    }
   },
   "source": [
    "### Main Components of a web page\n",
    "- `HTML`: main contents of the page, such as text and data\n",
    "- `CSS`: styles of the page, such as color, frames so on\n",
    "- `JavaScript`: advanced functionality such as interactions"
   ]
  },
  {
   "cell_type": "markdown",
   "metadata": {
    "slideshow": {
     "slide_type": "slide"
    }
   },
   "source": [
    "### HTML, a tag-based language\n",
    "- `<html>` `</html>`: everything inside the tages is `HTML`\n",
    "- `<head>` `</head>`tag for meta data about the page\n",
    "- `<body>` `</body>`tag for the main contents of the page\n",
    "- `<h1>` `</h1>`tag for level 1 header\n",
    "- `<p>` `</p>`tag for a paragrah\n",
    "- `<div>` `</div>`tag for a division\n",
    "- `<a>` `</a>`tag for an attribute, such as `href`\n",
    "- `<table>` `</table>`tag for a table: `<th>`, `<tr>`, and `<td>`\n",
    "- `<form>` `</form>` tag for an input form\n",
    "- See [MDN web docs](https://developer.mozilla.org/en-US/docs/Web/HTML/Element) for a full list of tags"
   ]
  },
  {
   "cell_type": "markdown",
   "metadata": {
    "slideshow": {
     "slide_type": "slide"
    }
   },
   "source": [
    "### CSS attributes\n",
    "- `class`: specifies one or more category names such as city\n",
    "- `id`: specifies a unique id for an HTML element\n",
    "- `src`: specifies the URL of the image\n",
    "- `href`: specifies the destination address of the link"
   ]
  },
  {
   "cell_type": "code",
   "execution_count": null,
   "metadata": {
    "slideshow": {
     "slide_type": "slide"
    }
   },
   "outputs": [],
   "source": [
    "import webbrowser\n",
    "from urllib.request import urlopen, urlretrieve\n",
    "import requests\n",
    "# conda install beautifulsoup4\n",
    "# conda install lxml <= alternative (more advanced) html parser\n",
    "from bs4 import BeautifulSoup\n",
    "import pandas as pd\n",
    "import re"
   ]
  },
  {
   "cell_type": "markdown",
   "metadata": {
    "slideshow": {
     "slide_type": "slide"
    }
   },
   "source": [
    "### Open webpage"
   ]
  },
  {
   "cell_type": "code",
   "execution_count": null,
   "metadata": {
    "slideshow": {
     "slide_type": "fragment"
    }
   },
   "outputs": [],
   "source": [
    "url = 'https://drliangjin.github.io/simple-webpage/'\n",
    "\n",
    "webbrowser.open(url); # plz spend sometime go through source codes"
   ]
  },
  {
   "cell_type": "markdown",
   "metadata": {
    "slideshow": {
     "slide_type": "slide"
    }
   },
   "source": [
    "### `BeautifulSoup` to Rescue!"
   ]
  },
  {
   "cell_type": "code",
   "execution_count": null,
   "metadata": {
    "slideshow": {
     "slide_type": "slide"
    }
   },
   "outputs": [],
   "source": [
    "# let's cook soup!\n",
    "url = 'https://drliangjin.github.io/simple-webpage/'\n",
    "html = urlopen(url)\n",
    "\n",
    "soup = BeautifulSoup(html, 'lxml') # <== or 'html.parser'"
   ]
  },
  {
   "cell_type": "markdown",
   "metadata": {
    "slideshow": {
     "slide_type": "slide"
    }
   },
   "source": [
    "### Let's Scrape something!"
   ]
  },
  {
   "cell_type": "code",
   "execution_count": null,
   "metadata": {
    "slideshow": {
     "slide_type": "fragment"
    }
   },
   "outputs": [],
   "source": [
    "# scrape some text\n",
    "all_h1 = soup.find_all('h1')\n",
    "for h1 in all_h1:\n",
    "    print(h1.text)"
   ]
  },
  {
   "cell_type": "markdown",
   "metadata": {
    "slideshow": {
     "slide_type": "slide"
    }
   },
   "source": [
    "### Scrape and store web data"
   ]
  },
  {
   "cell_type": "code",
   "execution_count": null,
   "metadata": {
    "slideshow": {
     "slide_type": "fragment"
    }
   },
   "outputs": [],
   "source": [
    "# scrape a table\n",
    "table = soup.find('table')\n",
    "\n",
    "# let's write to a local csv file\n",
    "with open('karabiner.csv', 'w') as f:\n",
    "    for row in table.find_all('tr')[1:]:\n",
    "        for cell in row.find_all('td'):\n",
    "            f.write(cell.get_text())\n",
    "            if cell in row.find_all('td')[:-1]: # no comma for last cell\n",
    "                f.write(',')\n",
    "        f.write('\\n')\n",
    "# Pandas approach...     \n",
    "dfs = pd.read_html(url, header=0) # return a list of tables\n",
    "df = dfs[0]"
   ]
  },
  {
   "cell_type": "code",
   "execution_count": null,
   "metadata": {
    "slideshow": {
     "slide_type": "fragment"
    }
   },
   "outputs": [],
   "source": [
    "# we want to capture highlighted text\n",
    "url = 'http://www.pythonscraping.com/pages/warandpeace.html'\n",
    "\n",
    "webbrowser.open(url);"
   ]
  },
  {
   "cell_type": "code",
   "execution_count": null,
   "metadata": {
    "slideshow": {
     "slide_type": "fragment"
    }
   },
   "outputs": [],
   "source": [
    "# because the obvious different colours, we can use this to filter our data\n",
    "html = urlopen(url)\n",
    "soup = BeautifulSoup(html, 'lxml')\n",
    "\n",
    "names = soup.find_all('span', {'class': 'green'})\n",
    "for name in names:\n",
    "    print(name.get_text())"
   ]
  },
  {
   "cell_type": "markdown",
   "metadata": {
    "slideshow": {
     "slide_type": "slide"
    }
   },
   "source": [
    "### `requests.get()` to access HTTP (more robust)"
   ]
  },
  {
   "cell_type": "code",
   "execution_count": null,
   "metadata": {
    "slideshow": {
     "slide_type": "fragment"
    }
   },
   "outputs": [],
   "source": [
    "# similar to urlopen(), we can use requests.get() to retrive raw html codes and pass to beautifulsoup\n",
    "url = 'https://drliangjin.github.io/simple-webpage/'\n",
    "# this is the response we get from the server\n",
    "res = requests.get(url)\n",
    "\n",
    "print(res)\n",
    "print(dir(res)) # <== what attributes and methods are available for this response?\n",
    "# or we can print(help(res)) to have a look a detailed description"
   ]
  },
  {
   "cell_type": "code",
   "execution_count": null,
   "metadata": {
    "slideshow": {
     "slide_type": "slide"
    }
   },
   "outputs": [],
   "source": [
    "# to pass in beautifulsoup we only need the contents of this response, this case: html codes\n",
    "html = res.text\n",
    "soup = BeautifulSoup(html, 'lxml')"
   ]
  },
  {
   "cell_type": "code",
   "execution_count": null,
   "metadata": {
    "slideshow": {
     "slide_type": "fragment"
    }
   },
   "outputs": [],
   "source": [
    "# urlretrieve to download data\n",
    "a_tags = soup.find_all('a', {'href': re.compile(r'.+\\.txt$')})\n",
    "for a in a_tags:\n",
    "    href = a.attrs['href']\n",
    "    full_href = 'https://drliangjin.github.io'+ href\n",
    "    print(full_href)\n",
    "    filename = href.split('/')[-2] + href.split('/')[-1]\n",
    "    urlretrieve(full_href, './{}'.format(filename));"
   ]
  },
  {
   "cell_type": "code",
   "execution_count": null,
   "metadata": {
    "slideshow": {
     "slide_type": "slide"
    }
   },
   "outputs": [],
   "source": [
    "# or we can use another way\n",
    "# construct urls and fetch files using requests directly\n",
    "years = list(range(2012, 2017))\n",
    "urls = ['https://drliangjin.github.io/simple-webpage/docs/{}/test.txt'.format(year) for year in years]\n",
    "with open('secret.txt', 'w') as wf:\n",
    "    for url in urls:\n",
    "        lines = requests.get(url).text.splitlines() # seperate contents according lines and store as list\n",
    "        secret_loc = lines[0].find('Secret')\n",
    "        secret_msg = lines[1][secret_loc:]\n",
    "        wf.writelines(secret_msg)\n",
    "        wf.writelines(' ') # <= try '\\n', what happens?"
   ]
  },
  {
   "cell_type": "markdown",
   "metadata": {
    "slideshow": {
     "slide_type": "slide"
    }
   },
   "source": [
    "## what if errors?"
   ]
  },
  {
   "cell_type": "code",
   "execution_count": null,
   "metadata": {
    "slideshow": {
     "slide_type": "fragment"
    }
   },
   "outputs": [],
   "source": [
    "# we need to check if we actually downloaded the page\n",
    "url_404 = 'https://drliangjin.github.io/no_such_webpage/'\n",
    "res_404 = requests.get(url_404)\n",
    "# error hanlder:\n",
    "try:\n",
    "    res_404.raise_for_status() # <= also check status_code attribute for the requests response\n",
    "except Exception as exc:\n",
    "    print(\"There was an issue {}\".format(exc))"
   ]
  },
  {
   "cell_type": "markdown",
   "metadata": {
    "slideshow": {
     "slide_type": "slide"
    }
   },
   "source": [
    "### Google search using `requests`"
   ]
  },
  {
   "cell_type": "code",
   "execution_count": null,
   "metadata": {
    "slideshow": {
     "slide_type": "fragment"
    }
   },
   "outputs": [],
   "source": [
    "keyword = {'q': 'python'}\n",
    "url = 'https://www.google.co.uk/search'\n",
    "res = requests.get(url, params=keyword)\n",
    "print(res.url)\n",
    "webbrowser.open(res.url);\n"
   ]
  },
  {
   "cell_type": "code",
   "execution_count": null,
   "metadata": {
    "slideshow": {
     "slide_type": "fragment"
    }
   },
   "outputs": [],
   "source": [
    "# It's google search results webpage that we dig further into...\n",
    "soup = BeautifulSoup(res.text, 'lxml')\n",
    "links = soup.select('.r a')\n",
    "\n",
    "for link in links:\n",
    "    full_link = 'https://google.co.uk' + link.get('href')\n",
    "    print(full_link)"
   ]
  },
  {
   "cell_type": "markdown",
   "metadata": {
    "slideshow": {
     "slide_type": "slide"
    }
   },
   "source": [
    "### `BeautifulSoup` + `re` ROCK!\n",
    "we will cover regular expression next lecture together with basic textual analysis"
   ]
  },
  {
   "cell_type": "code",
   "execution_count": null,
   "metadata": {
    "slideshow": {
     "slide_type": "fragment"
    }
   },
   "outputs": [],
   "source": [
    "# use regular expression to filter urls within wikipedia\n",
    "html = urlopen('https://en.wikipedia.org/wiki/Linux')\n",
    "soup = BeautifulSoup(html, 'lxml')\n",
    "for link in soup.find('div', {'id':'bodyContent'}).find_all(\n",
    "    'a', {'href':re.compile('^(/wiki/)((?!:).)*$')}):\n",
    "    if 'href' in link.attrs:\n",
    "        print('https://en.wikipedia.org/wiki/Linux'+\n",
    "              link.attrs['href'])"
   ]
  },
  {
   "cell_type": "markdown",
   "metadata": {
    "slideshow": {
     "slide_type": "slide"
    }
   },
   "source": [
    "### Other tools: \n",
    "- `selenium`: a tool for controling your web browser, can be a sequence of actions:\n",
    "    - clicking\n",
    "    - filling out and submiting forms\n",
    "    - scraping\n",
    "- `scrapy`: a powerful and complete scraping framework\n",
    "    - multiple processes\n",
    "    - process data\n",
    "    - store data"
   ]
  }
 ],
 "metadata": {
  "celltoolbar": "Slideshow",
  "kernelspec": {
   "display_name": "Python 3",
   "language": "python",
   "name": "python3"
  },
  "language_info": {
   "codemirror_mode": {
    "name": "ipython",
    "version": 3
   },
   "file_extension": ".py",
   "mimetype": "text/x-python",
   "name": "python",
   "nbconvert_exporter": "python",
   "pygments_lexer": "ipython3",
   "version": "3.6.8"
  }
 },
 "nbformat": 4,
 "nbformat_minor": 2
}
