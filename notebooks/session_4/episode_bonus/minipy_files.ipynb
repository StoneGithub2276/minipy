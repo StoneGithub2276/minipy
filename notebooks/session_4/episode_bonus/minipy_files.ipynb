{
 "cells": [
  {
   "cell_type": "markdown",
   "metadata": {
    "slideshow": {
     "slide_type": "slide"
    }
   },
   "source": [
    "# Reading and Writing to Text and CSV Files\n",
    "by Dr Liang Jin\n",
    "\n",
    "Part of MiniPy Sessions: [github.com/drliangjin/minipy](https://github.com/drliangjin/minipy)"
   ]
  },
  {
   "cell_type": "markdown",
   "metadata": {
    "slideshow": {
     "slide_type": "slide"
    }
   },
   "source": [
    "## An approach not that elegent to READ..."
   ]
  },
  {
   "cell_type": "code",
   "execution_count": null,
   "metadata": {
    "slideshow": {
     "slide_type": "fragment"
    }
   },
   "outputs": [],
   "source": [
    "# open a file, if the file in the current directory of this script\n",
    "# then you don't have to specify the absolute path\n",
    "f = open('test.txt', 'r')\n",
    "print(f.name)"
   ]
  },
  {
   "cell_type": "code",
   "execution_count": null,
   "metadata": {
    "slideshow": {
     "slide_type": "fragment"
    }
   },
   "outputs": [],
   "source": [
    "# we need to close it explicitly or we will be in trouble...\n",
    "f.close()"
   ]
  },
  {
   "cell_type": "markdown",
   "metadata": {
    "slideshow": {
     "slide_type": "slide"
    }
   },
   "source": [
    "## A much better way: context manager"
   ]
  },
  {
   "cell_type": "code",
   "execution_count": null,
   "metadata": {
    "slideshow": {
     "slide_type": "fragment"
    }
   },
   "outputs": [],
   "source": [
    "# using context manager, we don't have to close the file (Python does this for us)\n",
    "with open('test.txt', 'r') as rf:\n",
    "    contents = rf.read() # you can also specify how many characters, try, say, 10, it's good to loop\n",
    "    print(contents)"
   ]
  },
  {
   "cell_type": "code",
   "execution_count": null,
   "metadata": {
    "slideshow": {
     "slide_type": "slide"
    }
   },
   "outputs": [],
   "source": [
    "# Or more flexible using loops\n",
    "with open('test.txt', 'r') as rf:\n",
    "    \n",
    "    # create an object to store all the lines\n",
    "    file_reader = rf.readlines() # we also have a readline method which reads one line only\n",
    "    \n",
    "    for line in file_reader:\n",
    "        print(line)"
   ]
  },
  {
   "cell_type": "markdown",
   "metadata": {
    "slideshow": {
     "slide_type": "slide"
    }
   },
   "source": [
    "## WRITE to files"
   ]
  },
  {
   "cell_type": "code",
   "execution_count": null,
   "metadata": {
    "slideshow": {
     "slide_type": "fragment"
    }
   },
   "outputs": [],
   "source": [
    "# pass the second parameter as 'w' for write\n",
    "with open('test2.txt', 'w') as wf:\n",
    "    pass"
   ]
  },
  {
   "cell_type": "code",
   "execution_count": null,
   "metadata": {
    "slideshow": {
     "slide_type": "slide"
    }
   },
   "outputs": [],
   "source": [
    "# read and write at the same time\n",
    "# with control over chunk size so that your poor laptop can survive...\n",
    "with open('test.txt', 'r') as rf:\n",
    "    with open('test_copy.txt', 'w') as wf:\n",
    "        chunk_size = 2\n",
    "        # initial our reading\n",
    "        rf_chunk = rf.read(chunk_size)\n",
    "        while len(rf_chunk) > 0:\n",
    "            wf.write(rf_chunk)\n",
    "            # loop our reading\n",
    "            rf_chunk = rf.read(chunk_size)"
   ]
  },
  {
   "cell_type": "code",
   "execution_count": null,
   "metadata": {
    "slideshow": {
     "slide_type": "slide"
    }
   },
   "outputs": [],
   "source": [
    "# read and write line by line? perhaps good for flow controls\n",
    "with open('test.txt', 'r') as rf:\n",
    "    with open('test_copy.txt', 'w') as wf:\n",
    "        for line in rf:\n",
    "            if len(line) > 8:\n",
    "                wf.write(line)"
   ]
  },
  {
   "cell_type": "markdown",
   "metadata": {
    "slideshow": {
     "slide_type": "slide"
    }
   },
   "source": [
    "### Note: \n",
    "- there are many other modes other than 'r' and 'w', \n",
    "- 'a' for appending\n",
    "- 'b' for bit, used for file other than pure text"
   ]
  },
  {
   "cell_type": "markdown",
   "metadata": {
    "slideshow": {
     "slide_type": "slide"
    }
   },
   "source": [
    "## CSV files"
   ]
  },
  {
   "cell_type": "code",
   "execution_count": null,
   "metadata": {
    "slideshow": {
     "slide_type": "slide"
    }
   },
   "outputs": [],
   "source": [
    "import csv"
   ]
  },
  {
   "cell_type": "code",
   "execution_count": null,
   "metadata": {
    "slideshow": {
     "slide_type": "slide"
    }
   },
   "outputs": [],
   "source": [
    "# similar to our file objects IO but rather specialised class dealing with structured raw text data\n",
    "with open('employees.csv', 'r') as rf:\n",
    "    reader = csv.reader(rf)\n",
    "    \n",
    "    with open('new_employees.csv', 'w') as wf:\n",
    "        writer = csv.writer(wf, delimiter = '|') # or TAB '\\t'\n",
    "        \n",
    "        next(reader) # <== make sure the field names/labels are excluded, just skip first iteration\n",
    "    \n",
    "        for line in reader:\n",
    "            writer.writerow(line)"
   ]
  },
  {
   "cell_type": "code",
   "execution_count": null,
   "metadata": {
    "slideshow": {
     "slide_type": "slide"
    }
   },
   "outputs": [],
   "source": [
    "# dictionary read/write\n",
    "with open('employees.csv', 'r') as rf:\n",
    "    reader = csv.DictReader(rf)\n",
    "    \n",
    "    with open('another_employees.csv', 'w') as wf:\n",
    "        fieldnames = ['firstname', 'lastname', 'email', 'gender']\n",
    "        writer = csv.DictWriter(wf, fieldnames = fieldnames, delimiter = '|')\n",
    "        writer.writeheader()\n",
    "        for line in reader:\n",
    "            writer.writerow(line)"
   ]
  }
 ],
 "metadata": {
  "celltoolbar": "Slideshow",
  "kernelspec": {
   "display_name": "Python 3",
   "language": "python",
   "name": "python3"
  },
  "language_info": {
   "codemirror_mode": {
    "name": "ipython",
    "version": 3
   },
   "file_extension": ".py",
   "mimetype": "text/x-python",
   "name": "python",
   "nbconvert_exporter": "python",
   "pygments_lexer": "ipython3",
   "version": "3.6.8"
  }
 },
 "nbformat": 4,
 "nbformat_minor": 2
}
