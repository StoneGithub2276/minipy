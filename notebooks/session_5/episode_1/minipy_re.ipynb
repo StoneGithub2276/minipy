{
 "cells": [
  {
   "cell_type": "markdown",
   "metadata": {
    "slideshow": {
     "slide_type": "slide"
    }
   },
   "source": [
    "# Mini Intro to Regular Expression\n",
    "by Dr Liang Jin\n",
    "\n",
    "Part of Mini Python Sessions: [github.com/drliangjin/minipy](https://github.com/drliangjin/minipy)\n",
    "\n",
    "Official Python `re` docs: [docs.python.org](https://docs.python.org/3/library/re.html)"
   ]
  },
  {
   "cell_type": "markdown",
   "metadata": {
    "slideshow": {
     "slide_type": "slide"
    }
   },
   "source": [
    "### Python built-in `re` module"
   ]
  },
  {
   "cell_type": "markdown",
   "metadata": {
    "slideshow": {
     "slide_type": "fragment"
    }
   },
   "source": [
    "Regular Expression is a powerful tool for :\n",
    "- searching text\n",
    "- matching text\n",
    "- extracting text\n",
    "- manipulating text"
   ]
  },
  {
   "cell_type": "code",
   "execution_count": null,
   "metadata": {
    "slideshow": {
     "slide_type": "fragment"
    }
   },
   "outputs": [],
   "source": [
    "import re"
   ]
  },
  {
   "cell_type": "markdown",
   "metadata": {
    "slideshow": {
     "slide_type": "slide"
    }
   },
   "source": [
    "### Task: find telephone number from `LUMS: 01524 510752`"
   ]
  },
  {
   "cell_type": "code",
   "execution_count": null,
   "metadata": {
    "slideshow": {
     "slide_type": "fragment"
    }
   },
   "outputs": [],
   "source": [
    "easy_task = \"LUMS: 01524 510752\""
   ]
  },
  {
   "cell_type": "code",
   "execution_count": null,
   "metadata": {
    "slideshow": {
     "slide_type": "fragment"
    }
   },
   "outputs": [],
   "source": [
    "# slice the string\n",
    "tel = easy_task[6:]\n",
    "tel"
   ]
  },
  {
   "cell_type": "markdown",
   "metadata": {
    "slideshow": {
     "slide_type": "slide"
    }
   },
   "source": [
    "#### What if there are thousands of lines of strings with different formats?"
   ]
  },
  {
   "cell_type": "code",
   "execution_count": null,
   "metadata": {
    "slideshow": {
     "slide_type": "fragment"
    }
   },
   "outputs": [],
   "source": [
    "# \\d => 1 digit (0 to 9)\n",
    "tel = re.search(r'\\d\\d\\d\\d\\d \\d\\d\\d\\d\\d\\d', easy_task)\n",
    "print(tel)\n",
    "print(tel.group(0))"
   ]
  },
  {
   "cell_type": "markdown",
   "metadata": {
    "slideshow": {
     "slide_type": "fragment"
    }
   },
   "source": [
    "What is `r'...'`?"
   ]
  },
  {
   "cell_type": "code",
   "execution_count": null,
   "metadata": {
    "slideshow": {
     "slide_type": "fragment"
    }
   },
   "outputs": [],
   "source": [
    "print('hello\\nworld')"
   ]
  },
  {
   "cell_type": "code",
   "execution_count": null,
   "metadata": {
    "slideshow": {
     "slide_type": "fragment"
    }
   },
   "outputs": [],
   "source": [
    "print(r'hello\\nworld')"
   ]
  },
  {
   "cell_type": "markdown",
   "metadata": {
    "slideshow": {
     "slide_type": "slide"
    }
   },
   "source": [
    "#### Differnt ways to format string?"
   ]
  },
  {
   "cell_type": "code",
   "execution_count": null,
   "metadata": {
    "slideshow": {
     "slide_type": "fragment"
    }
   },
   "outputs": [],
   "source": [
    "print('We can use re to extract \"%s\" from \"%s\"' % (tel.group(0), easy_task))"
   ]
  },
  {
   "cell_type": "code",
   "execution_count": null,
   "metadata": {
    "slideshow": {
     "slide_type": "fragment"
    }
   },
   "outputs": [],
   "source": [
    "print('We can use re to extract \"{}\" from \"{}\"'.format(tel.group(0), easy_task))"
   ]
  },
  {
   "cell_type": "code",
   "execution_count": null,
   "metadata": {
    "slideshow": {
     "slide_type": "fragment"
    }
   },
   "outputs": [],
   "source": [
    "# my new love!\n",
    "print(f'We can use re to extract \"{tel.group(0)}\" from \"{easy_task}\"')"
   ]
  },
  {
   "cell_type": "markdown",
   "metadata": {
    "slideshow": {
     "slide_type": "slide"
    }
   },
   "source": [
    "### Task: area code and main number? `LUMS: 01524 510752`"
   ]
  },
  {
   "cell_type": "code",
   "execution_count": null,
   "metadata": {
    "slideshow": {
     "slide_type": "fragment"
    }
   },
   "outputs": [],
   "source": [
    "# again, we can slice the string using the index\n",
    "print(easy_task[6:12], easy_task[13:])"
   ]
  },
  {
   "cell_type": "code",
   "execution_count": null,
   "metadata": {
    "slideshow": {
     "slide_type": "fragment"
    }
   },
   "outputs": [],
   "source": [
    "tel = re.search(r'(\\d\\d\\d\\d\\d) (\\d\\d\\d\\d\\d\\d)', easy_task)\n",
    "print(tel.group(1))\n",
    "print(tel.group(2))"
   ]
  },
  {
   "cell_type": "code",
   "execution_count": null,
   "metadata": {
    "slideshow": {
     "slide_type": "fragment"
    }
   },
   "outputs": [],
   "source": [
    "areaCode, mainNumber = tel.groups()\n",
    "print(areaCode, mainNumber)"
   ]
  },
  {
   "cell_type": "markdown",
   "metadata": {
    "slideshow": {
     "slide_type": "fragment"
    }
   },
   "source": [
    "What if there are special characters such as `( )`?"
   ]
  },
  {
   "cell_type": "markdown",
   "metadata": {
    "slideshow": {
     "slide_type": "slide"
    }
   },
   "source": [
    "### Task: deal with special characters in `(0)1524 510752`"
   ]
  },
  {
   "cell_type": "code",
   "execution_count": null,
   "metadata": {
    "slideshow": {
     "slide_type": "fragment"
    }
   },
   "outputs": [],
   "source": [
    "hard_task = \"LUMS: (0)1524 510752\""
   ]
  },
  {
   "cell_type": "code",
   "execution_count": null,
   "metadata": {
    "slideshow": {
     "slide_type": "fragment"
    }
   },
   "outputs": [],
   "source": [
    "# Escape with backslash `\\`, such as parenthesis `\\(` and `\\)`\n",
    "tel = re.search(r'(\\(\\d\\)\\d\\d\\d\\d) (\\d\\d\\d\\d\\d\\d)', hard_task)\n",
    "\n",
    "areaCode, mainNumber = tel.groups()\n",
    "\n",
    "print(areaCode, mainNumber)"
   ]
  },
  {
   "cell_type": "markdown",
   "metadata": {
    "slideshow": {
     "slide_type": "fragment"
    }
   },
   "source": [
    "NOTE: like `\\d`, regular expression syntax such as `\\D`, `\\w`, `\\W`, `\\s`, `\\S`... <br>\n",
    "NOTE: like `()`, special characters such as `|`, `[]`, `{}` that need to escape..."
   ]
  },
  {
   "cell_type": "markdown",
   "metadata": {
    "slideshow": {
     "slide_type": "slide"
    }
   },
   "source": [
    "### Task: match with alternatives using `|` and `?`"
   ]
  },
  {
   "cell_type": "code",
   "execution_count": null,
   "metadata": {
    "slideshow": {
     "slide_type": "fragment"
    }
   },
   "outputs": [],
   "source": [
    "easy_task = \"LUMS: 01524 510752\"\n",
    "hard_task = \"LUMS: (0)1524 510752\""
   ]
  },
  {
   "cell_type": "code",
   "execution_count": null,
   "metadata": {
    "slideshow": {
     "slide_type": "fragment"
    }
   },
   "outputs": [],
   "source": [
    "# create a pattern using vertial bar indicating alternatives\n",
    "pattern1 = re.compile(r'(\\d\\d\\d\\d\\d|\\(\\d\\)\\d\\d\\d\\d) (\\d\\d\\d\\d\\d\\d)')\n",
    "\n",
    "easy_areaCode1, easy_mainNumber1 = pattern1.search(easy_task).groups()\n",
    "hard_areaCode1, hard_mainNumber1 = pattern1.search(hard_task).groups()\n",
    "\n",
    "print(easy_areaCode1, hard_areaCode1)"
   ]
  },
  {
   "cell_type": "code",
   "execution_count": null,
   "metadata": {
    "slideshow": {
     "slide_type": "fragment"
    }
   },
   "outputs": [],
   "source": [
    "# optional character using ?\n",
    "pattern2 = re.compile(r'(\\(?\\d\\)?\\d\\d\\d\\d) (\\d\\d\\d\\d\\d\\d)')\n",
    "\n",
    "easy_areaCode2, easy_mainNumber2 = pattern2.search(easy_task).groups()\n",
    "hard_areaCode2, hard_mainNumber2 = pattern2.search(hard_task).groups()\n",
    "\n",
    "print(easy_areaCode2, hard_areaCode2)"
   ]
  },
  {
   "cell_type": "markdown",
   "metadata": {
    "slideshow": {
     "slide_type": "slide"
    }
   },
   "source": [
    "### Regular Expression special characters"
   ]
  },
  {
   "cell_type": "markdown",
   "metadata": {
    "slideshow": {
     "slide_type": "slide"
    }
   },
   "source": [
    "#### for a character\n",
    "- `\\d`: any numeric digit, or `[0-9]`\n",
    "- `\\w`: any word including alphabetic letter, numeric digit, and underscore\n",
    "- `\\s`: any space, tab, or newline\n",
    "- `.` : anything except `\\n` (newline), the wildcard character"
   ]
  },
  {
   "cell_type": "code",
   "execution_count": null,
   "metadata": {
    "slideshow": {
     "slide_type": "slide"
    }
   },
   "outputs": [],
   "source": [
    "# match different separater formats\n",
    "tels = ['01524 510752', '01524-510752', '01524.510752', '01524  510752', '01524510752']"
   ]
  },
  {
   "cell_type": "code",
   "execution_count": null,
   "metadata": {
    "slideshow": {
     "slide_type": "fragment"
    }
   },
   "outputs": [],
   "source": [
    "# a dot example\n",
    "pattern = re.compile(r'\\d\\d\\d\\d\\d.\\d\\d\\d\\d\\d\\d')\n",
    "\n",
    "for tel in tels:\n",
    "    match = pattern.search(tel)\n",
    "    if match:\n",
    "        print(\"Found: {}\".format(match.group()))"
   ]
  },
  {
   "cell_type": "markdown",
   "metadata": {
    "slideshow": {
     "slide_type": "slide"
    }
   },
   "source": [
    "#### for a pattern\n",
    "- `*`: zero or more the preceding character, a common combination: `.*`\n",
    "- `+`: one or more the preceding character, for instance, at least 1 digit, `\\d+`\n",
    "- `?`: zero or one the preceding character, for optional character\n",
    "- `^`: start with the following character\n",
    "- `$`: end with the previous character"
   ]
  },
  {
   "cell_type": "code",
   "execution_count": null,
   "metadata": {
    "slideshow": {
     "slide_type": "slide"
    }
   },
   "outputs": [],
   "source": [
    "# match tel number without country code\n",
    "tels = ['+44 01524 510752', '44 01524-510752', '01524.510752', '01524510752', '(0)1524 510752']"
   ]
  },
  {
   "cell_type": "code",
   "execution_count": null,
   "metadata": {
    "slideshow": {
     "slide_type": "fragment"
    }
   },
   "outputs": [],
   "source": [
    "# a carot example\n",
    "pattern = re.compile(r'^\\(?0\\)?\\d+.?\\d+')\n",
    "\n",
    "for tel in tels:\n",
    "    match = pattern.search(tel)\n",
    "    if match:\n",
    "        print(\"Found: {}\".format(match.group()))"
   ]
  },
  {
   "cell_type": "markdown",
   "metadata": {
    "slideshow": {
     "slide_type": "slide"
    }
   },
   "source": [
    "#### for a group or a set\n",
    "- `()`: grouping a subset of a string\n",
    "- `[]`: a set of selected characters to match\n",
    "- `[^ ]`: a set of selected characters to ignore\n",
    "- `|` : a group of possible alternatives, see the example before\n",
    "- `{}`: a number of times the preceding character"
   ]
  },
  {
   "cell_type": "code",
   "execution_count": null,
   "metadata": {
    "slideshow": {
     "slide_type": "slide"
    }
   },
   "outputs": [],
   "source": [
    "# only match gentlemen (without errors)\n",
    "names = ['Mr Xi',\n",
    "         'Mr. Trump', \n",
    "         'Mr Trump', \n",
    "         'Ms Trump', \n",
    "         'Mrs. Trump',\n",
    "         'Mr rump',\n",
    "         'Mr. T']"
   ]
  },
  {
   "cell_type": "code",
   "execution_count": null,
   "metadata": {
    "slideshow": {
     "slide_type": "fragment"
    }
   },
   "outputs": [],
   "source": [
    "pattern = re.compile(r'Mr\\.?\\s[A-Z]\\w+')\n",
    "\n",
    "for name in names:\n",
    "    match = pattern.search(name)\n",
    "    if match:\n",
    "        print(match.group())"
   ]
  },
  {
   "cell_type": "code",
   "execution_count": null,
   "metadata": {
    "slideshow": {
     "slide_type": "slide"
    }
   },
   "outputs": [],
   "source": [
    "# only match animals\n",
    "words = ['hog', 'dog', 'bog']"
   ]
  },
  {
   "cell_type": "code",
   "execution_count": null,
   "metadata": {
    "slideshow": {
     "slide_type": "fragment"
    }
   },
   "outputs": [],
   "source": [
    "pattern = re.compile(r'[^b]og')\n",
    "for word in words:\n",
    "    match = pattern.search(word)\n",
    "    if match:\n",
    "        print(match.group())"
   ]
  },
  {
   "cell_type": "code",
   "execution_count": null,
   "metadata": {
    "slideshow": {
     "slide_type": "slide"
    }
   },
   "outputs": [],
   "source": [
    "# match the last two expressions\n",
    "words = ['+44 (0)1524 65201',\n",
    "         '+44 (0)1524 510752',\n",
    "         '+44 (0)1524 99999999',\n",
    "         '+44 (0)1524 9999']"
   ]
  },
  {
   "cell_type": "code",
   "execution_count": null,
   "metadata": {
    "slideshow": {
     "slide_type": "fragment"
    }
   },
   "outputs": [],
   "source": [
    "pattern = re.compile(r'.*\\s\\d{5,6}') # problematic\n",
    "\n",
    "for word in words:\n",
    "    match = pattern.search(word)\n",
    "    if match:\n",
    "        print(match.group())"
   ]
  },
  {
   "cell_type": "markdown",
   "metadata": {
    "slideshow": {
     "slide_type": "slide"
    }
   },
   "source": [
    "### Other Regular Expression functions"
   ]
  },
  {
   "cell_type": "markdown",
   "metadata": {
    "slideshow": {
     "slide_type": "slide"
    }
   },
   "source": [
    "### `re.search()` VS `re.findall()`"
   ]
  },
  {
   "cell_type": "code",
   "execution_count": null,
   "metadata": {
    "slideshow": {
     "slide_type": "fragment"
    }
   },
   "outputs": [],
   "source": [
    "three_tels = \"\"\"LUMS general office: +44 (0)1524 510752\n",
    "Undergraduate enquiries: +44 (0)1524 592938\n",
    "Postgraduate enquiries: +44 (0)1524 510733\"\"\""
   ]
  },
  {
   "cell_type": "code",
   "execution_count": null,
   "metadata": {
    "slideshow": {
     "slide_type": "fragment"
    }
   },
   "outputs": [],
   "source": [
    "pattern = re.compile(r'(\\+\\d{2})\\s(\\(?0\\)?\\d{4})\\s(\\d{5,6})')"
   ]
  },
  {
   "cell_type": "code",
   "execution_count": null,
   "metadata": {
    "slideshow": {
     "slide_type": "fragment"
    }
   },
   "outputs": [],
   "source": [
    "# search returns the first match and ignore all the remainings\n",
    "match = pattern.search(three_tels)\n",
    "print(match)"
   ]
  },
  {
   "cell_type": "code",
   "execution_count": null,
   "metadata": {
    "slideshow": {
     "slide_type": "fragment"
    }
   },
   "outputs": [],
   "source": [
    "# findall returns a list of matches\n",
    "matchs = pattern.findall(three_tels)\n",
    "print(matchs)"
   ]
  },
  {
   "cell_type": "markdown",
   "metadata": {
    "slideshow": {
     "slide_type": "slide"
    }
   },
   "source": [
    "### `re.sub()` for substituting strings"
   ]
  },
  {
   "cell_type": "code",
   "execution_count": null,
   "metadata": {
    "slideshow": {
     "slide_type": "fragment"
    }
   },
   "outputs": [],
   "source": [
    "top_secret = \"\"\"Classified, Max clearance level, eyes only: \n",
    "Agent Liang pass the extremely secret documents to Special Agent Geogre. \n",
    "After 15 sec, this notebook will explodeeee!\"\"\""
   ]
  },
  {
   "cell_type": "code",
   "execution_count": null,
   "metadata": {
    "slideshow": {
     "slide_type": "fragment"
    }
   },
   "outputs": [],
   "source": [
    "# let's censor the document log\n",
    "pattern = re.compile(r'Agent\\s\\w+')\n",
    "\n",
    "protected_secret = pattern.sub('YOUKNOWWHO', top_secret)\n",
    "\n",
    "print(protected_secret)"
   ]
  },
  {
   "cell_type": "code",
   "execution_count": null,
   "metadata": {
    "slideshow": {
     "slide_type": "fragment"
    }
   },
   "outputs": [],
   "source": [
    "# Initial only\n",
    "pattern = re.compile(r'Agent\\s(\\w)\\w*')\n",
    "\n",
    "censored_secret = pattern.sub(r'\\1*****', top_secret)\n",
    "\n",
    "print(censored_secret)"
   ]
  },
  {
   "cell_type": "markdown",
   "metadata": {
    "slideshow": {
     "slide_type": "slide"
    }
   },
   "source": [
    "### example: name orders"
   ]
  },
  {
   "cell_type": "code",
   "execution_count": null,
   "metadata": {
    "slideshow": {
     "slide_type": "fragment"
    }
   },
   "outputs": [],
   "source": [
    "name1 = 'Firstname Lastname'\n",
    "name2 = 'Lastname, Firstname'"
   ]
  },
  {
   "cell_type": "code",
   "execution_count": null,
   "metadata": {
    "slideshow": {
     "slide_type": "fragment"
    }
   },
   "outputs": [],
   "source": [
    "pattern1 = re.compile(r'([A-Z]\\w*)\\s([A-Z]\\w*)')\n",
    "swapped_name1 = pattern1.sub(r'\\2, \\1', name1)\n",
    "print(swapped_name1)"
   ]
  },
  {
   "cell_type": "code",
   "execution_count": null,
   "metadata": {
    "slideshow": {
     "slide_type": "fragment"
    }
   },
   "outputs": [],
   "source": [
    "pattern2 = re.compile(r'([A-Z]\\w*),\\s([A-Z]\\w*)')\n",
    "swapped_name2 = pattern2.sub(r'\\1 \\2', name2)\n",
    "print(swapped_name2)"
   ]
  }
 ],
 "metadata": {
  "celltoolbar": "Slideshow",
  "kernelspec": {
   "display_name": "Python 3",
   "language": "python",
   "name": "python3"
  },
  "language_info": {
   "codemirror_mode": {
    "name": "ipython",
    "version": 3
   },
   "file_extension": ".py",
   "mimetype": "text/x-python",
   "name": "python",
   "nbconvert_exporter": "python",
   "pygments_lexer": "ipython3",
   "version": "3.6.8"
  }
 },
 "nbformat": 4,
 "nbformat_minor": 2
}
